{
  "nbformat": 4,
  "nbformat_minor": 0,
  "metadata": {
    "colab": {
      "name": "Approaching (Almost) Any NLP Problem on Kaggle.ipynb",
      "provenance": [],
      "collapsed_sections": [],
      "authorship_tag": "ABX9TyPkD70qoyCoRj+lLM0AYLAp",
      "include_colab_link": true
    },
    "kernelspec": {
      "name": "python3",
      "display_name": "Python 3"
    },
    "language_info": {
      "name": "python"
    },
    "accelerator": "GPU",
    "widgets": {
      "application/vnd.jupyter.widget-state+json": {
        "5553ecc401b34e7d97c9cc02e0a1c47a": {
          "model_module": "@jupyter-widgets/controls",
          "model_name": "HBoxModel",
          "model_module_version": "1.5.0",
          "state": {
            "_dom_classes": [],
            "_model_module": "@jupyter-widgets/controls",
            "_model_module_version": "1.5.0",
            "_model_name": "HBoxModel",
            "_view_count": null,
            "_view_module": "@jupyter-widgets/controls",
            "_view_module_version": "1.5.0",
            "_view_name": "HBoxView",
            "box_style": "",
            "children": [
              "IPY_MODEL_1e0b5aa6345f49b89795569be3cd1af0",
              "IPY_MODEL_cc18cecfc90c4db98cfb052490293864",
              "IPY_MODEL_d22f4827f1fb45118cfa7422e9afeadf"
            ],
            "layout": "IPY_MODEL_585b3f80be7b4626948e6592957c6e86"
          }
        },
        "1e0b5aa6345f49b89795569be3cd1af0": {
          "model_module": "@jupyter-widgets/controls",
          "model_name": "HTMLModel",
          "model_module_version": "1.5.0",
          "state": {
            "_dom_classes": [],
            "_model_module": "@jupyter-widgets/controls",
            "_model_module_version": "1.5.0",
            "_model_name": "HTMLModel",
            "_view_count": null,
            "_view_module": "@jupyter-widgets/controls",
            "_view_module_version": "1.5.0",
            "_view_name": "HTMLView",
            "description": "",
            "description_tooltip": null,
            "layout": "IPY_MODEL_06b1d2648ee142e8b9d424c55899d4aa",
            "placeholder": "​",
            "style": "IPY_MODEL_52ce5d6e493d494fb1345e75aa23c41c",
            "value": "Downloading: 100%"
          }
        },
        "cc18cecfc90c4db98cfb052490293864": {
          "model_module": "@jupyter-widgets/controls",
          "model_name": "FloatProgressModel",
          "model_module_version": "1.5.0",
          "state": {
            "_dom_classes": [],
            "_model_module": "@jupyter-widgets/controls",
            "_model_module_version": "1.5.0",
            "_model_name": "FloatProgressModel",
            "_view_count": null,
            "_view_module": "@jupyter-widgets/controls",
            "_view_module_version": "1.5.0",
            "_view_name": "ProgressView",
            "bar_style": "success",
            "description": "",
            "description_tooltip": null,
            "layout": "IPY_MODEL_7d2a26df9fa445aca65278c6ec08b972",
            "max": 995526,
            "min": 0,
            "orientation": "horizontal",
            "style": "IPY_MODEL_151ca40110734da59bad273104e3a748",
            "value": 995526
          }
        },
        "d22f4827f1fb45118cfa7422e9afeadf": {
          "model_module": "@jupyter-widgets/controls",
          "model_name": "HTMLModel",
          "model_module_version": "1.5.0",
          "state": {
            "_dom_classes": [],
            "_model_module": "@jupyter-widgets/controls",
            "_model_module_version": "1.5.0",
            "_model_name": "HTMLModel",
            "_view_count": null,
            "_view_module": "@jupyter-widgets/controls",
            "_view_module_version": "1.5.0",
            "_view_name": "HTMLView",
            "description": "",
            "description_tooltip": null,
            "layout": "IPY_MODEL_7af683e24d69465da18a650dbaaa95ca",
            "placeholder": "​",
            "style": "IPY_MODEL_a2e4da34f21640759a023946aaf2eb51",
            "value": " 972k/972k [00:00&lt;00:00, 1.14MB/s]"
          }
        },
        "585b3f80be7b4626948e6592957c6e86": {
          "model_module": "@jupyter-widgets/base",
          "model_name": "LayoutModel",
          "model_module_version": "1.2.0",
          "state": {
            "_model_module": "@jupyter-widgets/base",
            "_model_module_version": "1.2.0",
            "_model_name": "LayoutModel",
            "_view_count": null,
            "_view_module": "@jupyter-widgets/base",
            "_view_module_version": "1.2.0",
            "_view_name": "LayoutView",
            "align_content": null,
            "align_items": null,
            "align_self": null,
            "border": null,
            "bottom": null,
            "display": null,
            "flex": null,
            "flex_flow": null,
            "grid_area": null,
            "grid_auto_columns": null,
            "grid_auto_flow": null,
            "grid_auto_rows": null,
            "grid_column": null,
            "grid_gap": null,
            "grid_row": null,
            "grid_template_areas": null,
            "grid_template_columns": null,
            "grid_template_rows": null,
            "height": null,
            "justify_content": null,
            "justify_items": null,
            "left": null,
            "margin": null,
            "max_height": null,
            "max_width": null,
            "min_height": null,
            "min_width": null,
            "object_fit": null,
            "object_position": null,
            "order": null,
            "overflow": null,
            "overflow_x": null,
            "overflow_y": null,
            "padding": null,
            "right": null,
            "top": null,
            "visibility": null,
            "width": null
          }
        },
        "06b1d2648ee142e8b9d424c55899d4aa": {
          "model_module": "@jupyter-widgets/base",
          "model_name": "LayoutModel",
          "model_module_version": "1.2.0",
          "state": {
            "_model_module": "@jupyter-widgets/base",
            "_model_module_version": "1.2.0",
            "_model_name": "LayoutModel",
            "_view_count": null,
            "_view_module": "@jupyter-widgets/base",
            "_view_module_version": "1.2.0",
            "_view_name": "LayoutView",
            "align_content": null,
            "align_items": null,
            "align_self": null,
            "border": null,
            "bottom": null,
            "display": null,
            "flex": null,
            "flex_flow": null,
            "grid_area": null,
            "grid_auto_columns": null,
            "grid_auto_flow": null,
            "grid_auto_rows": null,
            "grid_column": null,
            "grid_gap": null,
            "grid_row": null,
            "grid_template_areas": null,
            "grid_template_columns": null,
            "grid_template_rows": null,
            "height": null,
            "justify_content": null,
            "justify_items": null,
            "left": null,
            "margin": null,
            "max_height": null,
            "max_width": null,
            "min_height": null,
            "min_width": null,
            "object_fit": null,
            "object_position": null,
            "order": null,
            "overflow": null,
            "overflow_x": null,
            "overflow_y": null,
            "padding": null,
            "right": null,
            "top": null,
            "visibility": null,
            "width": null
          }
        },
        "52ce5d6e493d494fb1345e75aa23c41c": {
          "model_module": "@jupyter-widgets/controls",
          "model_name": "DescriptionStyleModel",
          "model_module_version": "1.5.0",
          "state": {
            "_model_module": "@jupyter-widgets/controls",
            "_model_module_version": "1.5.0",
            "_model_name": "DescriptionStyleModel",
            "_view_count": null,
            "_view_module": "@jupyter-widgets/base",
            "_view_module_version": "1.2.0",
            "_view_name": "StyleView",
            "description_width": ""
          }
        },
        "7d2a26df9fa445aca65278c6ec08b972": {
          "model_module": "@jupyter-widgets/base",
          "model_name": "LayoutModel",
          "model_module_version": "1.2.0",
          "state": {
            "_model_module": "@jupyter-widgets/base",
            "_model_module_version": "1.2.0",
            "_model_name": "LayoutModel",
            "_view_count": null,
            "_view_module": "@jupyter-widgets/base",
            "_view_module_version": "1.2.0",
            "_view_name": "LayoutView",
            "align_content": null,
            "align_items": null,
            "align_self": null,
            "border": null,
            "bottom": null,
            "display": null,
            "flex": null,
            "flex_flow": null,
            "grid_area": null,
            "grid_auto_columns": null,
            "grid_auto_flow": null,
            "grid_auto_rows": null,
            "grid_column": null,
            "grid_gap": null,
            "grid_row": null,
            "grid_template_areas": null,
            "grid_template_columns": null,
            "grid_template_rows": null,
            "height": null,
            "justify_content": null,
            "justify_items": null,
            "left": null,
            "margin": null,
            "max_height": null,
            "max_width": null,
            "min_height": null,
            "min_width": null,
            "object_fit": null,
            "object_position": null,
            "order": null,
            "overflow": null,
            "overflow_x": null,
            "overflow_y": null,
            "padding": null,
            "right": null,
            "top": null,
            "visibility": null,
            "width": null
          }
        },
        "151ca40110734da59bad273104e3a748": {
          "model_module": "@jupyter-widgets/controls",
          "model_name": "ProgressStyleModel",
          "model_module_version": "1.5.0",
          "state": {
            "_model_module": "@jupyter-widgets/controls",
            "_model_module_version": "1.5.0",
            "_model_name": "ProgressStyleModel",
            "_view_count": null,
            "_view_module": "@jupyter-widgets/base",
            "_view_module_version": "1.2.0",
            "_view_name": "StyleView",
            "bar_color": null,
            "description_width": ""
          }
        },
        "7af683e24d69465da18a650dbaaa95ca": {
          "model_module": "@jupyter-widgets/base",
          "model_name": "LayoutModel",
          "model_module_version": "1.2.0",
          "state": {
            "_model_module": "@jupyter-widgets/base",
            "_model_module_version": "1.2.0",
            "_model_name": "LayoutModel",
            "_view_count": null,
            "_view_module": "@jupyter-widgets/base",
            "_view_module_version": "1.2.0",
            "_view_name": "LayoutView",
            "align_content": null,
            "align_items": null,
            "align_self": null,
            "border": null,
            "bottom": null,
            "display": null,
            "flex": null,
            "flex_flow": null,
            "grid_area": null,
            "grid_auto_columns": null,
            "grid_auto_flow": null,
            "grid_auto_rows": null,
            "grid_column": null,
            "grid_gap": null,
            "grid_row": null,
            "grid_template_areas": null,
            "grid_template_columns": null,
            "grid_template_rows": null,
            "height": null,
            "justify_content": null,
            "justify_items": null,
            "left": null,
            "margin": null,
            "max_height": null,
            "max_width": null,
            "min_height": null,
            "min_width": null,
            "object_fit": null,
            "object_position": null,
            "order": null,
            "overflow": null,
            "overflow_x": null,
            "overflow_y": null,
            "padding": null,
            "right": null,
            "top": null,
            "visibility": null,
            "width": null
          }
        },
        "a2e4da34f21640759a023946aaf2eb51": {
          "model_module": "@jupyter-widgets/controls",
          "model_name": "DescriptionStyleModel",
          "model_module_version": "1.5.0",
          "state": {
            "_model_module": "@jupyter-widgets/controls",
            "_model_module_version": "1.5.0",
            "_model_name": "DescriptionStyleModel",
            "_view_count": null,
            "_view_module": "@jupyter-widgets/base",
            "_view_module_version": "1.2.0",
            "_view_name": "StyleView",
            "description_width": ""
          }
        },
        "0b8d1dbef2044ebb82e5ffd549b5458d": {
          "model_module": "@jupyter-widgets/controls",
          "model_name": "HBoxModel",
          "model_module_version": "1.5.0",
          "state": {
            "_dom_classes": [],
            "_model_module": "@jupyter-widgets/controls",
            "_model_module_version": "1.5.0",
            "_model_name": "HBoxModel",
            "_view_count": null,
            "_view_module": "@jupyter-widgets/controls",
            "_view_module_version": "1.5.0",
            "_view_name": "HBoxView",
            "box_style": "",
            "children": [
              "IPY_MODEL_d1649d4aaf0d41188a1ecb210aaa539d",
              "IPY_MODEL_b5d1f8c163c34a5f880d813ce15e3f98",
              "IPY_MODEL_d7223d25133a412da01aee8b966a3e62"
            ],
            "layout": "IPY_MODEL_0748fb881a1a4f41b321d4ddbd9b1d05"
          }
        },
        "d1649d4aaf0d41188a1ecb210aaa539d": {
          "model_module": "@jupyter-widgets/controls",
          "model_name": "HTMLModel",
          "model_module_version": "1.5.0",
          "state": {
            "_dom_classes": [],
            "_model_module": "@jupyter-widgets/controls",
            "_model_module_version": "1.5.0",
            "_model_name": "HTMLModel",
            "_view_count": null,
            "_view_module": "@jupyter-widgets/controls",
            "_view_module_version": "1.5.0",
            "_view_name": "HTMLView",
            "description": "",
            "description_tooltip": null,
            "layout": "IPY_MODEL_e68624ade97c43e0a0fc5ceb563ab096",
            "placeholder": "​",
            "style": "IPY_MODEL_157cfc426db34d48a856254605551ab9",
            "value": "Downloading: 100%"
          }
        },
        "b5d1f8c163c34a5f880d813ce15e3f98": {
          "model_module": "@jupyter-widgets/controls",
          "model_name": "FloatProgressModel",
          "model_module_version": "1.5.0",
          "state": {
            "_dom_classes": [],
            "_model_module": "@jupyter-widgets/controls",
            "_model_module_version": "1.5.0",
            "_model_name": "FloatProgressModel",
            "_view_count": null,
            "_view_module": "@jupyter-widgets/controls",
            "_view_module_version": "1.5.0",
            "_view_name": "ProgressView",
            "bar_style": "success",
            "description": "",
            "description_tooltip": null,
            "layout": "IPY_MODEL_f3ef8fa63db04a1bb89dd17f5c9040c5",
            "max": 29,
            "min": 0,
            "orientation": "horizontal",
            "style": "IPY_MODEL_870b65ab277a4e7c8909500716b1cf41",
            "value": 29
          }
        },
        "d7223d25133a412da01aee8b966a3e62": {
          "model_module": "@jupyter-widgets/controls",
          "model_name": "HTMLModel",
          "model_module_version": "1.5.0",
          "state": {
            "_dom_classes": [],
            "_model_module": "@jupyter-widgets/controls",
            "_model_module_version": "1.5.0",
            "_model_name": "HTMLModel",
            "_view_count": null,
            "_view_module": "@jupyter-widgets/controls",
            "_view_module_version": "1.5.0",
            "_view_name": "HTMLView",
            "description": "",
            "description_tooltip": null,
            "layout": "IPY_MODEL_d0b7f61ab2a24e1bb4602a758da5b199",
            "placeholder": "​",
            "style": "IPY_MODEL_31136312ac6f49f39036c197c877959e",
            "value": " 29.0/29.0 [00:00&lt;00:00, 328B/s]"
          }
        },
        "0748fb881a1a4f41b321d4ddbd9b1d05": {
          "model_module": "@jupyter-widgets/base",
          "model_name": "LayoutModel",
          "model_module_version": "1.2.0",
          "state": {
            "_model_module": "@jupyter-widgets/base",
            "_model_module_version": "1.2.0",
            "_model_name": "LayoutModel",
            "_view_count": null,
            "_view_module": "@jupyter-widgets/base",
            "_view_module_version": "1.2.0",
            "_view_name": "LayoutView",
            "align_content": null,
            "align_items": null,
            "align_self": null,
            "border": null,
            "bottom": null,
            "display": null,
            "flex": null,
            "flex_flow": null,
            "grid_area": null,
            "grid_auto_columns": null,
            "grid_auto_flow": null,
            "grid_auto_rows": null,
            "grid_column": null,
            "grid_gap": null,
            "grid_row": null,
            "grid_template_areas": null,
            "grid_template_columns": null,
            "grid_template_rows": null,
            "height": null,
            "justify_content": null,
            "justify_items": null,
            "left": null,
            "margin": null,
            "max_height": null,
            "max_width": null,
            "min_height": null,
            "min_width": null,
            "object_fit": null,
            "object_position": null,
            "order": null,
            "overflow": null,
            "overflow_x": null,
            "overflow_y": null,
            "padding": null,
            "right": null,
            "top": null,
            "visibility": null,
            "width": null
          }
        },
        "e68624ade97c43e0a0fc5ceb563ab096": {
          "model_module": "@jupyter-widgets/base",
          "model_name": "LayoutModel",
          "model_module_version": "1.2.0",
          "state": {
            "_model_module": "@jupyter-widgets/base",
            "_model_module_version": "1.2.0",
            "_model_name": "LayoutModel",
            "_view_count": null,
            "_view_module": "@jupyter-widgets/base",
            "_view_module_version": "1.2.0",
            "_view_name": "LayoutView",
            "align_content": null,
            "align_items": null,
            "align_self": null,
            "border": null,
            "bottom": null,
            "display": null,
            "flex": null,
            "flex_flow": null,
            "grid_area": null,
            "grid_auto_columns": null,
            "grid_auto_flow": null,
            "grid_auto_rows": null,
            "grid_column": null,
            "grid_gap": null,
            "grid_row": null,
            "grid_template_areas": null,
            "grid_template_columns": null,
            "grid_template_rows": null,
            "height": null,
            "justify_content": null,
            "justify_items": null,
            "left": null,
            "margin": null,
            "max_height": null,
            "max_width": null,
            "min_height": null,
            "min_width": null,
            "object_fit": null,
            "object_position": null,
            "order": null,
            "overflow": null,
            "overflow_x": null,
            "overflow_y": null,
            "padding": null,
            "right": null,
            "top": null,
            "visibility": null,
            "width": null
          }
        },
        "157cfc426db34d48a856254605551ab9": {
          "model_module": "@jupyter-widgets/controls",
          "model_name": "DescriptionStyleModel",
          "model_module_version": "1.5.0",
          "state": {
            "_model_module": "@jupyter-widgets/controls",
            "_model_module_version": "1.5.0",
            "_model_name": "DescriptionStyleModel",
            "_view_count": null,
            "_view_module": "@jupyter-widgets/base",
            "_view_module_version": "1.2.0",
            "_view_name": "StyleView",
            "description_width": ""
          }
        },
        "f3ef8fa63db04a1bb89dd17f5c9040c5": {
          "model_module": "@jupyter-widgets/base",
          "model_name": "LayoutModel",
          "model_module_version": "1.2.0",
          "state": {
            "_model_module": "@jupyter-widgets/base",
            "_model_module_version": "1.2.0",
            "_model_name": "LayoutModel",
            "_view_count": null,
            "_view_module": "@jupyter-widgets/base",
            "_view_module_version": "1.2.0",
            "_view_name": "LayoutView",
            "align_content": null,
            "align_items": null,
            "align_self": null,
            "border": null,
            "bottom": null,
            "display": null,
            "flex": null,
            "flex_flow": null,
            "grid_area": null,
            "grid_auto_columns": null,
            "grid_auto_flow": null,
            "grid_auto_rows": null,
            "grid_column": null,
            "grid_gap": null,
            "grid_row": null,
            "grid_template_areas": null,
            "grid_template_columns": null,
            "grid_template_rows": null,
            "height": null,
            "justify_content": null,
            "justify_items": null,
            "left": null,
            "margin": null,
            "max_height": null,
            "max_width": null,
            "min_height": null,
            "min_width": null,
            "object_fit": null,
            "object_position": null,
            "order": null,
            "overflow": null,
            "overflow_x": null,
            "overflow_y": null,
            "padding": null,
            "right": null,
            "top": null,
            "visibility": null,
            "width": null
          }
        },
        "870b65ab277a4e7c8909500716b1cf41": {
          "model_module": "@jupyter-widgets/controls",
          "model_name": "ProgressStyleModel",
          "model_module_version": "1.5.0",
          "state": {
            "_model_module": "@jupyter-widgets/controls",
            "_model_module_version": "1.5.0",
            "_model_name": "ProgressStyleModel",
            "_view_count": null,
            "_view_module": "@jupyter-widgets/base",
            "_view_module_version": "1.2.0",
            "_view_name": "StyleView",
            "bar_color": null,
            "description_width": ""
          }
        },
        "d0b7f61ab2a24e1bb4602a758da5b199": {
          "model_module": "@jupyter-widgets/base",
          "model_name": "LayoutModel",
          "model_module_version": "1.2.0",
          "state": {
            "_model_module": "@jupyter-widgets/base",
            "_model_module_version": "1.2.0",
            "_model_name": "LayoutModel",
            "_view_count": null,
            "_view_module": "@jupyter-widgets/base",
            "_view_module_version": "1.2.0",
            "_view_name": "LayoutView",
            "align_content": null,
            "align_items": null,
            "align_self": null,
            "border": null,
            "bottom": null,
            "display": null,
            "flex": null,
            "flex_flow": null,
            "grid_area": null,
            "grid_auto_columns": null,
            "grid_auto_flow": null,
            "grid_auto_rows": null,
            "grid_column": null,
            "grid_gap": null,
            "grid_row": null,
            "grid_template_areas": null,
            "grid_template_columns": null,
            "grid_template_rows": null,
            "height": null,
            "justify_content": null,
            "justify_items": null,
            "left": null,
            "margin": null,
            "max_height": null,
            "max_width": null,
            "min_height": null,
            "min_width": null,
            "object_fit": null,
            "object_position": null,
            "order": null,
            "overflow": null,
            "overflow_x": null,
            "overflow_y": null,
            "padding": null,
            "right": null,
            "top": null,
            "visibility": null,
            "width": null
          }
        },
        "31136312ac6f49f39036c197c877959e": {
          "model_module": "@jupyter-widgets/controls",
          "model_name": "DescriptionStyleModel",
          "model_module_version": "1.5.0",
          "state": {
            "_model_module": "@jupyter-widgets/controls",
            "_model_module_version": "1.5.0",
            "_model_name": "DescriptionStyleModel",
            "_view_count": null,
            "_view_module": "@jupyter-widgets/base",
            "_view_module_version": "1.2.0",
            "_view_name": "StyleView",
            "description_width": ""
          }
        },
        "87c1b58168584e0a8559b21a436a3fd0": {
          "model_module": "@jupyter-widgets/controls",
          "model_name": "HBoxModel",
          "model_module_version": "1.5.0",
          "state": {
            "_dom_classes": [],
            "_model_module": "@jupyter-widgets/controls",
            "_model_module_version": "1.5.0",
            "_model_name": "HBoxModel",
            "_view_count": null,
            "_view_module": "@jupyter-widgets/controls",
            "_view_module_version": "1.5.0",
            "_view_name": "HBoxView",
            "box_style": "",
            "children": [
              "IPY_MODEL_8349ec33af8b452688798faa4f07a9eb",
              "IPY_MODEL_d24f64bb97d44c47ba50b8b9f1738871",
              "IPY_MODEL_65fbc400b4344aa5b161df0a3070d667"
            ],
            "layout": "IPY_MODEL_d3d52d03226b40ed833f15a3778f3337"
          }
        },
        "8349ec33af8b452688798faa4f07a9eb": {
          "model_module": "@jupyter-widgets/controls",
          "model_name": "HTMLModel",
          "model_module_version": "1.5.0",
          "state": {
            "_dom_classes": [],
            "_model_module": "@jupyter-widgets/controls",
            "_model_module_version": "1.5.0",
            "_model_name": "HTMLModel",
            "_view_count": null,
            "_view_module": "@jupyter-widgets/controls",
            "_view_module_version": "1.5.0",
            "_view_name": "HTMLView",
            "description": "",
            "description_tooltip": null,
            "layout": "IPY_MODEL_8e9986fc7908461e955513c49e23c2aa",
            "placeholder": "​",
            "style": "IPY_MODEL_ba152ae62eca40a8860849d5671fd1dc",
            "value": "Downloading: 100%"
          }
        },
        "d24f64bb97d44c47ba50b8b9f1738871": {
          "model_module": "@jupyter-widgets/controls",
          "model_name": "FloatProgressModel",
          "model_module_version": "1.5.0",
          "state": {
            "_dom_classes": [],
            "_model_module": "@jupyter-widgets/controls",
            "_model_module_version": "1.5.0",
            "_model_name": "FloatProgressModel",
            "_view_count": null,
            "_view_module": "@jupyter-widgets/controls",
            "_view_module_version": "1.5.0",
            "_view_name": "ProgressView",
            "bar_style": "success",
            "description": "",
            "description_tooltip": null,
            "layout": "IPY_MODEL_3bea51671e614e6a9e331276b750e780",
            "max": 466,
            "min": 0,
            "orientation": "horizontal",
            "style": "IPY_MODEL_3734edd8df834db1bee7638d5d97e876",
            "value": 466
          }
        },
        "65fbc400b4344aa5b161df0a3070d667": {
          "model_module": "@jupyter-widgets/controls",
          "model_name": "HTMLModel",
          "model_module_version": "1.5.0",
          "state": {
            "_dom_classes": [],
            "_model_module": "@jupyter-widgets/controls",
            "_model_module_version": "1.5.0",
            "_model_name": "HTMLModel",
            "_view_count": null,
            "_view_module": "@jupyter-widgets/controls",
            "_view_module_version": "1.5.0",
            "_view_name": "HTMLView",
            "description": "",
            "description_tooltip": null,
            "layout": "IPY_MODEL_cc1230abd25e4f22bdbc4e7226208f84",
            "placeholder": "​",
            "style": "IPY_MODEL_1d1aa96e922c468696ac60c986c7d1fa",
            "value": " 466/466 [00:00&lt;00:00, 3.96kB/s]"
          }
        },
        "d3d52d03226b40ed833f15a3778f3337": {
          "model_module": "@jupyter-widgets/base",
          "model_name": "LayoutModel",
          "model_module_version": "1.2.0",
          "state": {
            "_model_module": "@jupyter-widgets/base",
            "_model_module_version": "1.2.0",
            "_model_name": "LayoutModel",
            "_view_count": null,
            "_view_module": "@jupyter-widgets/base",
            "_view_module_version": "1.2.0",
            "_view_name": "LayoutView",
            "align_content": null,
            "align_items": null,
            "align_self": null,
            "border": null,
            "bottom": null,
            "display": null,
            "flex": null,
            "flex_flow": null,
            "grid_area": null,
            "grid_auto_columns": null,
            "grid_auto_flow": null,
            "grid_auto_rows": null,
            "grid_column": null,
            "grid_gap": null,
            "grid_row": null,
            "grid_template_areas": null,
            "grid_template_columns": null,
            "grid_template_rows": null,
            "height": null,
            "justify_content": null,
            "justify_items": null,
            "left": null,
            "margin": null,
            "max_height": null,
            "max_width": null,
            "min_height": null,
            "min_width": null,
            "object_fit": null,
            "object_position": null,
            "order": null,
            "overflow": null,
            "overflow_x": null,
            "overflow_y": null,
            "padding": null,
            "right": null,
            "top": null,
            "visibility": null,
            "width": null
          }
        },
        "8e9986fc7908461e955513c49e23c2aa": {
          "model_module": "@jupyter-widgets/base",
          "model_name": "LayoutModel",
          "model_module_version": "1.2.0",
          "state": {
            "_model_module": "@jupyter-widgets/base",
            "_model_module_version": "1.2.0",
            "_model_name": "LayoutModel",
            "_view_count": null,
            "_view_module": "@jupyter-widgets/base",
            "_view_module_version": "1.2.0",
            "_view_name": "LayoutView",
            "align_content": null,
            "align_items": null,
            "align_self": null,
            "border": null,
            "bottom": null,
            "display": null,
            "flex": null,
            "flex_flow": null,
            "grid_area": null,
            "grid_auto_columns": null,
            "grid_auto_flow": null,
            "grid_auto_rows": null,
            "grid_column": null,
            "grid_gap": null,
            "grid_row": null,
            "grid_template_areas": null,
            "grid_template_columns": null,
            "grid_template_rows": null,
            "height": null,
            "justify_content": null,
            "justify_items": null,
            "left": null,
            "margin": null,
            "max_height": null,
            "max_width": null,
            "min_height": null,
            "min_width": null,
            "object_fit": null,
            "object_position": null,
            "order": null,
            "overflow": null,
            "overflow_x": null,
            "overflow_y": null,
            "padding": null,
            "right": null,
            "top": null,
            "visibility": null,
            "width": null
          }
        },
        "ba152ae62eca40a8860849d5671fd1dc": {
          "model_module": "@jupyter-widgets/controls",
          "model_name": "DescriptionStyleModel",
          "model_module_version": "1.5.0",
          "state": {
            "_model_module": "@jupyter-widgets/controls",
            "_model_module_version": "1.5.0",
            "_model_name": "DescriptionStyleModel",
            "_view_count": null,
            "_view_module": "@jupyter-widgets/base",
            "_view_module_version": "1.2.0",
            "_view_name": "StyleView",
            "description_width": ""
          }
        },
        "3bea51671e614e6a9e331276b750e780": {
          "model_module": "@jupyter-widgets/base",
          "model_name": "LayoutModel",
          "model_module_version": "1.2.0",
          "state": {
            "_model_module": "@jupyter-widgets/base",
            "_model_module_version": "1.2.0",
            "_model_name": "LayoutModel",
            "_view_count": null,
            "_view_module": "@jupyter-widgets/base",
            "_view_module_version": "1.2.0",
            "_view_name": "LayoutView",
            "align_content": null,
            "align_items": null,
            "align_self": null,
            "border": null,
            "bottom": null,
            "display": null,
            "flex": null,
            "flex_flow": null,
            "grid_area": null,
            "grid_auto_columns": null,
            "grid_auto_flow": null,
            "grid_auto_rows": null,
            "grid_column": null,
            "grid_gap": null,
            "grid_row": null,
            "grid_template_areas": null,
            "grid_template_columns": null,
            "grid_template_rows": null,
            "height": null,
            "justify_content": null,
            "justify_items": null,
            "left": null,
            "margin": null,
            "max_height": null,
            "max_width": null,
            "min_height": null,
            "min_width": null,
            "object_fit": null,
            "object_position": null,
            "order": null,
            "overflow": null,
            "overflow_x": null,
            "overflow_y": null,
            "padding": null,
            "right": null,
            "top": null,
            "visibility": null,
            "width": null
          }
        },
        "3734edd8df834db1bee7638d5d97e876": {
          "model_module": "@jupyter-widgets/controls",
          "model_name": "ProgressStyleModel",
          "model_module_version": "1.5.0",
          "state": {
            "_model_module": "@jupyter-widgets/controls",
            "_model_module_version": "1.5.0",
            "_model_name": "ProgressStyleModel",
            "_view_count": null,
            "_view_module": "@jupyter-widgets/base",
            "_view_module_version": "1.2.0",
            "_view_name": "StyleView",
            "bar_color": null,
            "description_width": ""
          }
        },
        "cc1230abd25e4f22bdbc4e7226208f84": {
          "model_module": "@jupyter-widgets/base",
          "model_name": "LayoutModel",
          "model_module_version": "1.2.0",
          "state": {
            "_model_module": "@jupyter-widgets/base",
            "_model_module_version": "1.2.0",
            "_model_name": "LayoutModel",
            "_view_count": null,
            "_view_module": "@jupyter-widgets/base",
            "_view_module_version": "1.2.0",
            "_view_name": "LayoutView",
            "align_content": null,
            "align_items": null,
            "align_self": null,
            "border": null,
            "bottom": null,
            "display": null,
            "flex": null,
            "flex_flow": null,
            "grid_area": null,
            "grid_auto_columns": null,
            "grid_auto_flow": null,
            "grid_auto_rows": null,
            "grid_column": null,
            "grid_gap": null,
            "grid_row": null,
            "grid_template_areas": null,
            "grid_template_columns": null,
            "grid_template_rows": null,
            "height": null,
            "justify_content": null,
            "justify_items": null,
            "left": null,
            "margin": null,
            "max_height": null,
            "max_width": null,
            "min_height": null,
            "min_width": null,
            "object_fit": null,
            "object_position": null,
            "order": null,
            "overflow": null,
            "overflow_x": null,
            "overflow_y": null,
            "padding": null,
            "right": null,
            "top": null,
            "visibility": null,
            "width": null
          }
        },
        "1d1aa96e922c468696ac60c986c7d1fa": {
          "model_module": "@jupyter-widgets/controls",
          "model_name": "DescriptionStyleModel",
          "model_module_version": "1.5.0",
          "state": {
            "_model_module": "@jupyter-widgets/controls",
            "_model_module_version": "1.5.0",
            "_model_name": "DescriptionStyleModel",
            "_view_count": null,
            "_view_module": "@jupyter-widgets/base",
            "_view_module_version": "1.2.0",
            "_view_name": "StyleView",
            "description_width": ""
          }
        }
      }
    }
  },
  "cells": [
    {
      "cell_type": "markdown",
      "metadata": {
        "id": "view-in-github",
        "colab_type": "text"
      },
      "source": [
        "<a href=\"https://colab.research.google.com/github/Kitichart/creditcard/blob/main/Approaching_(Almost)_Any_NLP_Problem_on_Kaggle.ipynb\" target=\"_parent\"><img src=\"https://colab.research.google.com/assets/colab-badge.svg\" alt=\"Open In Colab\"/></a>"
      ]
    },
    {
      "cell_type": "code",
      "source": [
        "import nltk\n",
        "nltk.download('stopwords')"
      ],
      "metadata": {
        "colab": {
          "base_uri": "https://localhost:8080/"
        },
        "id": "8606ur-kcv5K",
        "outputId": "6e45ed2d-7587-454c-be76-8090e9aa6b1a"
      },
      "execution_count": null,
      "outputs": [
        {
          "output_type": "stream",
          "name": "stdout",
          "text": [
            "[nltk_data] Downloading package stopwords to /root/nltk_data...\n",
            "[nltk_data]   Unzipping corpora/stopwords.zip.\n"
          ]
        },
        {
          "output_type": "execute_result",
          "data": {
            "text/plain": [
              "True"
            ]
          },
          "metadata": {},
          "execution_count": 1
        }
      ]
    },
    {
      "cell_type": "code",
      "source": [
        "!pip install transformers"
      ],
      "metadata": {
        "colab": {
          "base_uri": "https://localhost:8080/"
        },
        "id": "zIIiTPXAApdS",
        "outputId": "5cfa4c83-57b0-4e8b-afc1-a46eb22bb4e6"
      },
      "execution_count": null,
      "outputs": [
        {
          "output_type": "stream",
          "name": "stdout",
          "text": [
            "Collecting transformers\n",
            "  Downloading transformers-4.19.2-py3-none-any.whl (4.2 MB)\n",
            "\u001b[K     |████████████████████████████████| 4.2 MB 4.3 MB/s \n",
            "\u001b[?25hRequirement already satisfied: requests in /usr/local/lib/python3.7/dist-packages (from transformers) (2.23.0)\n",
            "Collecting tokenizers!=0.11.3,<0.13,>=0.11.1\n",
            "  Downloading tokenizers-0.12.1-cp37-cp37m-manylinux_2_12_x86_64.manylinux2010_x86_64.whl (6.6 MB)\n",
            "\u001b[K     |████████████████████████████████| 6.6 MB 44.9 MB/s \n",
            "\u001b[?25hRequirement already satisfied: regex!=2019.12.17 in /usr/local/lib/python3.7/dist-packages (from transformers) (2019.12.20)\n",
            "Collecting pyyaml>=5.1\n",
            "  Downloading PyYAML-6.0-cp37-cp37m-manylinux_2_5_x86_64.manylinux1_x86_64.manylinux_2_12_x86_64.manylinux2010_x86_64.whl (596 kB)\n",
            "\u001b[K     |████████████████████████████████| 596 kB 59.4 MB/s \n",
            "\u001b[?25hRequirement already satisfied: filelock in /usr/local/lib/python3.7/dist-packages (from transformers) (3.7.0)\n",
            "Requirement already satisfied: importlib-metadata in /usr/local/lib/python3.7/dist-packages (from transformers) (4.11.3)\n",
            "Collecting huggingface-hub<1.0,>=0.1.0\n",
            "  Downloading huggingface_hub-0.6.0-py3-none-any.whl (84 kB)\n",
            "\u001b[K     |████████████████████████████████| 84 kB 4.2 MB/s \n",
            "\u001b[?25hRequirement already satisfied: tqdm>=4.27 in /usr/local/lib/python3.7/dist-packages (from transformers) (4.64.0)\n",
            "Requirement already satisfied: packaging>=20.0 in /usr/local/lib/python3.7/dist-packages (from transformers) (21.3)\n",
            "Requirement already satisfied: numpy>=1.17 in /usr/local/lib/python3.7/dist-packages (from transformers) (1.21.6)\n",
            "Requirement already satisfied: typing-extensions>=3.7.4.3 in /usr/local/lib/python3.7/dist-packages (from huggingface-hub<1.0,>=0.1.0->transformers) (4.2.0)\n",
            "Requirement already satisfied: pyparsing!=3.0.5,>=2.0.2 in /usr/local/lib/python3.7/dist-packages (from packaging>=20.0->transformers) (3.0.9)\n",
            "Requirement already satisfied: zipp>=0.5 in /usr/local/lib/python3.7/dist-packages (from importlib-metadata->transformers) (3.8.0)\n",
            "Requirement already satisfied: certifi>=2017.4.17 in /usr/local/lib/python3.7/dist-packages (from requests->transformers) (2021.10.8)\n",
            "Requirement already satisfied: idna<3,>=2.5 in /usr/local/lib/python3.7/dist-packages (from requests->transformers) (2.10)\n",
            "Requirement already satisfied: chardet<4,>=3.0.2 in /usr/local/lib/python3.7/dist-packages (from requests->transformers) (3.0.4)\n",
            "Requirement already satisfied: urllib3!=1.25.0,!=1.25.1,<1.26,>=1.21.1 in /usr/local/lib/python3.7/dist-packages (from requests->transformers) (1.24.3)\n",
            "Installing collected packages: pyyaml, tokenizers, huggingface-hub, transformers\n",
            "  Attempting uninstall: pyyaml\n",
            "    Found existing installation: PyYAML 3.13\n",
            "    Uninstalling PyYAML-3.13:\n",
            "      Successfully uninstalled PyYAML-3.13\n",
            "Successfully installed huggingface-hub-0.6.0 pyyaml-6.0 tokenizers-0.12.1 transformers-4.19.2\n"
          ]
        }
      ]
    },
    {
      "cell_type": "code",
      "source": [
        "# Loading Dependencies\n",
        "import os\n",
        "import tensorflow as tf\n",
        "from tensorflow.keras.layers import Dense, Input\n",
        "from tensorflow.keras.optimizers import Adam\n",
        "from tensorflow.keras.models import Model\n",
        "from tensorflow.keras.callbacks import ModelCheckpoint\n",
        "import transformers\n",
        "\n",
        "from tokenizers import BertWordPieceTokenizer"
      ],
      "metadata": {
        "id": "bvvryEJPAjiP"
      },
      "execution_count": null,
      "outputs": []
    },
    {
      "cell_type": "code",
      "execution_count": null,
      "metadata": {
        "id": "n3MRF3vFb4UK"
      },
      "outputs": [],
      "source": [
        "import pandas as pd\n",
        "import numpy as np\n",
        "import xgboost as xgb\n",
        "from tqdm import tqdm\n",
        "from sklearn.svm import SVC\n",
        "from keras.models import Sequential\n",
        "from keras.layers.recurrent import LSTM, GRU\n",
        "from keras.layers.core import Dense, Activation, Dropout\n",
        "from keras.layers.embeddings import Embedding\n",
        "from tensorflow.keras.layers import BatchNormalization\n",
        "from keras.utils import np_utils\n",
        "from sklearn import preprocessing, decomposition, model_selection, metrics, pipeline\n",
        "from sklearn.model_selection import GridSearchCV\n",
        "from sklearn.feature_extraction.text import TfidfVectorizer, CountVectorizer\n",
        "from sklearn.decomposition import TruncatedSVD\n",
        "from sklearn.linear_model import LogisticRegression\n",
        "from sklearn.model_selection import train_test_split\n",
        "from sklearn.naive_bayes import MultinomialNB\n",
        "from keras.layers import GlobalMaxPooling1D, Conv1D, MaxPooling1D, Flatten, Bidirectional, SpatialDropout1D\n",
        "from keras.preprocessing import sequence, text\n",
        "from keras.callbacks import EarlyStopping\n",
        "from nltk import word_tokenize\n",
        "from nltk.corpus import stopwords\n",
        "stop_words = stopwords.words('english')"
      ]
    },
    {
      "cell_type": "code",
      "source": [
        "import torch\n",
        "torch.cuda.is_available()\n",
        "# Output would be True if Pytorch is using GPU otherwise it would be False."
      ],
      "metadata": {
        "colab": {
          "base_uri": "https://localhost:8080/"
        },
        "id": "Yb_fk6-PcFED",
        "outputId": "d4345e32-bccd-4937-c21d-0fd3d7eccf5b"
      },
      "execution_count": null,
      "outputs": [
        {
          "output_type": "execute_result",
          "data": {
            "text/plain": [
              "True"
            ]
          },
          "metadata": {},
          "execution_count": 5
        }
      ]
    },
    {
      "cell_type": "code",
      "source": [
        "def roc_auc(predictions,target):\n",
        "    '''\n",
        "    This methods returns the AUC Score when given the Predictions\n",
        "    and Labels\n",
        "    '''\n",
        "    \n",
        "    fpr, tpr, thresholds = metrics.roc_curve(target, predictions)\n",
        "    roc_auc = metrics.auc(fpr, tpr)\n",
        "    return roc_auc"
      ],
      "metadata": {
        "id": "aO8sL9END_fF"
      },
      "execution_count": null,
      "outputs": []
    },
    {
      "cell_type": "code",
      "source": [
        "df = pd.read_csv('/content/label_csr.csv')"
      ],
      "metadata": {
        "id": "vA1wRPHudLF5"
      },
      "execution_count": null,
      "outputs": []
    },
    {
      "cell_type": "code",
      "source": [
        "from sklearn.utils import resample\n",
        "#create two different dataframe of majority and minority class \n",
        "df_majority = df[(df['class_num']==1)] \n",
        "df_minor1 = df[(df['class_num']==2)] \n",
        "df_minor2 = df[(df['class_num']==3)] \n",
        "df_minor3 = df[(df['class_num']==4)] \n",
        "# upsample minority class\n",
        "df_minority_upsampled = resample(df_minor1, \n",
        "                                 replace=True,    # sample with replacement\n",
        "                                 n_samples= 2483, # to match majority class\n",
        "                                 random_state=42)  # reproducible results\n",
        "# Combine majority class with upsampled minority class\n",
        "df_upsampled = pd.concat([df_minority_upsampled, df_majority])\n",
        "\n",
        "df_minority_upsampled = resample(df_minor2, \n",
        "                                 replace=True,    # sample with replacement\n",
        "                                 n_samples= 2483, # to match majority class\n",
        "                                 random_state=42)  # reproducible results\n",
        "# Combine majority class with upsampled minority class\n",
        "df_upsampled = pd.concat([df_minority_upsampled, df_upsampled])\n",
        "\n",
        "df_minority_upsampled = resample(df_minor3, \n",
        "                                 replace=True,    # sample with replacement\n",
        "                                 n_samples= 2483, # to match majority class\n",
        "                                 random_state=42)  # reproducible results\n",
        "# Combine majority class with upsampled minority class\n",
        "df_upsampled = pd.concat([df_minority_upsampled, df_upsampled])\n",
        "\n",
        "df = df_upsampled"
      ],
      "metadata": {
        "id": "xop7SukIdNUm"
      },
      "execution_count": null,
      "outputs": []
    },
    {
      "cell_type": "code",
      "source": [
        "df = df.reset_index(drop=True)"
      ],
      "metadata": {
        "id": "s0A9a4H6dOur"
      },
      "execution_count": null,
      "outputs": []
    },
    {
      "cell_type": "code",
      "source": [
        "def multiclass_logloss(actual, predicted, eps=1e-15):\n",
        "    \"\"\"Multi class version of Logarithmic Loss metric.\n",
        "    :param actual: Array containing the actual target classes\n",
        "    :param predicted: Matrix with class predictions, one probability per class\n",
        "    \"\"\"\n",
        "    # Convert 'actual' to a binary array if it's not already:\n",
        "    if len(actual.shape) == 1:\n",
        "        actual2 = np.zeros((actual.shape[0], predicted.shape[1]))\n",
        "        for i, val in enumerate(actual):\n",
        "            actual2[i, val] = 1\n",
        "        actual = actual2\n",
        "\n",
        "    clip = np.clip(predicted, eps, 1 - eps)\n",
        "    rows = actual.shape[0]\n",
        "    vsota = np.sum(actual * np.log(clip))\n",
        "    return -1.0 / rows * vsota"
      ],
      "metadata": {
        "id": "rvdiEWTPdWlr"
      },
      "execution_count": null,
      "outputs": []
    },
    {
      "cell_type": "code",
      "source": [
        "lbl_enc = preprocessing.LabelEncoder()\n",
        "y = lbl_enc.fit_transform(df['class'].values)"
      ],
      "metadata": {
        "id": "A4RI4o0SdcAr"
      },
      "execution_count": null,
      "outputs": []
    },
    {
      "cell_type": "code",
      "source": [
        "xtrain, xvalid, ytrain, yvalid = train_test_split(df['sentence'].values, y, \n",
        "                                                  stratify=y, \n",
        "                                                  random_state=42, \n",
        "                                                  test_size=0.1, shuffle=True)"
      ],
      "metadata": {
        "id": "4hVDfLD6dr9_"
      },
      "execution_count": null,
      "outputs": []
    },
    {
      "cell_type": "code",
      "source": [
        "print (xtrain.shape)\n",
        "print (xvalid.shape)"
      ],
      "metadata": {
        "colab": {
          "base_uri": "https://localhost:8080/"
        },
        "id": "ki99wAv2dyPY",
        "outputId": "56807fa9-1dec-4fa0-9c2f-a2aa93675180"
      },
      "execution_count": null,
      "outputs": [
        {
          "output_type": "stream",
          "name": "stdout",
          "text": [
            "(8938,)\n",
            "(994,)\n"
          ]
        }
      ]
    },
    {
      "cell_type": "code",
      "source": [
        "# Always start with these features. They work (almost) everytime!\n",
        "tfv = TfidfVectorizer(min_df=3,  max_features=None, \n",
        "            strip_accents='unicode', analyzer='word',token_pattern=r'\\w{1,}',\n",
        "            ngram_range=(1, 3), use_idf=1,smooth_idf=1,sublinear_tf=1,\n",
        "            stop_words = 'english')\n",
        "\n",
        "# Fitting TF-IDF to both training and test sets (semi-supervised learning)\n",
        "tfv.fit(list(xtrain) + list(xvalid))\n",
        "xtrain_tfv =  tfv.transform(xtrain) \n",
        "xvalid_tfv = tfv.transform(xvalid)"
      ],
      "metadata": {
        "id": "4zTyTo5Wd3m2"
      },
      "execution_count": null,
      "outputs": []
    },
    {
      "cell_type": "markdown",
      "source": [
        "Test set preparation"
      ],
      "metadata": {
        "id": "n0HPqeHkpdP1"
      }
    },
    {
      "cell_type": "code",
      "source": [
        "test_set = pd.read_csv('/content/test_set_csr.csv')"
      ],
      "metadata": {
        "id": "oWnJkHYDpaED"
      },
      "execution_count": null,
      "outputs": []
    },
    {
      "cell_type": "code",
      "source": [
        "y_test = lbl_enc.fit_transform(test_set['class'].values)"
      ],
      "metadata": {
        "id": "029Qzs6xphjt"
      },
      "execution_count": null,
      "outputs": []
    },
    {
      "cell_type": "code",
      "source": [
        "x_test_tfv = tfv.transform(test_set['sentence'].values)"
      ],
      "metadata": {
        "id": "V00k9Hmkp_iw"
      },
      "execution_count": null,
      "outputs": []
    },
    {
      "cell_type": "code",
      "source": [
        "x_test = test_set['sentence'].values"
      ],
      "metadata": {
        "id": "a9454aJs0lRC"
      },
      "execution_count": null,
      "outputs": []
    },
    {
      "cell_type": "markdown",
      "source": [
        "Word Embedding"
      ],
      "metadata": {
        "id": "4GGLlYkFzes1"
      }
    },
    {
      "cell_type": "markdown",
      "source": [
        "Glove"
      ],
      "metadata": {
        "id": "U15Y9y3yzg5P"
      }
    },
    {
      "cell_type": "code",
      "source": [
        "!wget http://nlp.stanford.edu/data/glove.6B.zip\n",
        "!unzip glove*.zip\n",
        "\n",
        "# load the GloVe vectors in a dictionary:\n",
        "\n",
        "embeddings_index = {}\n",
        "f = open('/content/glove.6B.300d.txt')\n",
        "for line in tqdm(f):\n",
        "    values = line.split()\n",
        "    word = values[0]\n",
        "    coefs = np.asarray(values[1:], dtype='float32')\n",
        "    embeddings_index[word] = coefs\n",
        "f.close()\n",
        "\n",
        "print('Found %s word vectors.' % len(embeddings_index))\n",
        "\n",
        "# this function creates a normalized vector for the whole sentence\n",
        "def sent2vec(s):\n",
        "    words = str(s).lower()\n",
        "    words = word_tokenize(words)\n",
        "    words = [w for w in words if not w in stop_words]\n",
        "    words = [w for w in words if w.isalpha()]\n",
        "    M = []\n",
        "    for w in words:\n",
        "        try:\n",
        "            M.append(embeddings_index[w])\n",
        "        except:\n",
        "            continue\n",
        "    M = np.array(M)\n",
        "    v = M.sum(axis=0)\n",
        "    if type(v) != np.ndarray:\n",
        "        return np.zeros(300)\n",
        "    return v / np.sqrt((v ** 2).sum())\n",
        "\n",
        "nltk.download('punkt')\n",
        "\n",
        "# create sentence vectors using the above function for training and validation set\n",
        "xtrain_glove = [sent2vec(x) for x in tqdm(xtrain)]\n",
        "xvalid_glove = [sent2vec(x) for x in tqdm(xvalid)]\n",
        "x_test_glove = [sent2vec(x) for x in tqdm(x_test)]\n",
        "\n",
        "xtrain_glove = np.array(xtrain_glove)\n",
        "xvalid_glove = np.array(xvalid_glove)\n",
        "x_test_glove = np.array(x_test_glove)"
      ],
      "metadata": {
        "colab": {
          "base_uri": "https://localhost:8080/"
        },
        "id": "PxZvCHzJzhz3",
        "outputId": "8c7842ba-eca4-4f8a-db14-b5f8a0a16b36"
      },
      "execution_count": null,
      "outputs": [
        {
          "output_type": "stream",
          "name": "stdout",
          "text": [
            "--2022-05-22 04:50:35--  http://nlp.stanford.edu/data/glove.6B.zip\n",
            "Resolving nlp.stanford.edu (nlp.stanford.edu)... 171.64.67.140\n",
            "Connecting to nlp.stanford.edu (nlp.stanford.edu)|171.64.67.140|:80... connected.\n",
            "HTTP request sent, awaiting response... 302 Found\n",
            "Location: https://nlp.stanford.edu/data/glove.6B.zip [following]\n",
            "--2022-05-22 04:50:35--  https://nlp.stanford.edu/data/glove.6B.zip\n",
            "Connecting to nlp.stanford.edu (nlp.stanford.edu)|171.64.67.140|:443... connected.\n",
            "HTTP request sent, awaiting response... 301 Moved Permanently\n",
            "Location: http://downloads.cs.stanford.edu/nlp/data/glove.6B.zip [following]\n",
            "--2022-05-22 04:50:36--  http://downloads.cs.stanford.edu/nlp/data/glove.6B.zip\n",
            "Resolving downloads.cs.stanford.edu (downloads.cs.stanford.edu)... 171.64.64.22\n",
            "Connecting to downloads.cs.stanford.edu (downloads.cs.stanford.edu)|171.64.64.22|:80... connected.\n",
            "HTTP request sent, awaiting response... 200 OK\n",
            "Length: 862182613 (822M) [application/zip]\n",
            "Saving to: ‘glove.6B.zip’\n",
            "\n",
            "glove.6B.zip        100%[===================>] 822.24M  5.07MB/s    in 2m 40s  \n",
            "\n",
            "2022-05-22 04:53:16 (5.13 MB/s) - ‘glove.6B.zip’ saved [862182613/862182613]\n",
            "\n",
            "Archive:  glove.6B.zip\n",
            "  inflating: glove.6B.50d.txt        \n",
            "  inflating: glove.6B.100d.txt       \n",
            "  inflating: glove.6B.200d.txt       \n",
            "  inflating: glove.6B.300d.txt       \n"
          ]
        },
        {
          "output_type": "stream",
          "name": "stderr",
          "text": [
            "400000it [00:22, 17760.90it/s]\n"
          ]
        },
        {
          "output_type": "stream",
          "name": "stdout",
          "text": [
            "Found 400000 word vectors.\n",
            "[nltk_data] Downloading package punkt to /root/nltk_data...\n",
            "[nltk_data]   Unzipping tokenizers/punkt.zip.\n"
          ]
        },
        {
          "output_type": "stream",
          "name": "stderr",
          "text": [
            "100%|██████████| 8938/8938 [00:01<00:00, 4517.03it/s]\n",
            "100%|██████████| 994/994 [00:00<00:00, 4126.71it/s]\n",
            "100%|██████████| 1949/1949 [00:00<00:00, 4052.80it/s]\n"
          ]
        }
      ]
    },
    {
      "cell_type": "code",
      "source": [
        "!wget https://dl.fbaipublicfiles.com/fasttext/vectors-english/wiki-news-300d-1M.vec.zip\n",
        "!unzip wiki-news-300d-1M.vec.zip"
      ],
      "metadata": {
        "colab": {
          "base_uri": "https://localhost:8080/"
        },
        "id": "G725nuvD8_DK",
        "outputId": "069836b3-6e34-43bb-904b-1474a621ad1f"
      },
      "execution_count": null,
      "outputs": [
        {
          "output_type": "stream",
          "name": "stdout",
          "text": [
            "--2022-05-22 04:54:03--  https://dl.fbaipublicfiles.com/fasttext/vectors-english/wiki-news-300d-1M.vec.zip\n",
            "Resolving dl.fbaipublicfiles.com (dl.fbaipublicfiles.com)... 104.22.75.142, 172.67.9.4, 104.22.74.142, ...\n",
            "Connecting to dl.fbaipublicfiles.com (dl.fbaipublicfiles.com)|104.22.75.142|:443... connected.\n",
            "HTTP request sent, awaiting response... 200 OK\n",
            "Length: 681808098 (650M) [application/zip]\n",
            "Saving to: ‘wiki-news-300d-1M.vec.zip’\n",
            "\n",
            "wiki-news-300d-1M.v 100%[===================>] 650.22M  44.3MB/s    in 16s     \n",
            "\n",
            "2022-05-22 04:54:19 (41.9 MB/s) - ‘wiki-news-300d-1M.vec.zip’ saved [681808098/681808098]\n",
            "\n",
            "Archive:  wiki-news-300d-1M.vec.zip\n",
            "  inflating: wiki-news-300d-1M.vec   \n"
          ]
        }
      ]
    },
    {
      "cell_type": "markdown",
      "source": [
        "Keras tokenizer"
      ],
      "metadata": {
        "id": "jpRraTQ5z4A4"
      }
    },
    {
      "cell_type": "code",
      "source": [
        "# using keras tokenizer here\n",
        "token = text.Tokenizer(num_words=None)\n",
        "max_len = 70\n",
        "\n",
        "token.fit_on_texts(list(xtrain) + list(xvalid) + list(x_test))\n",
        "xtrain_seq = token.texts_to_sequences(xtrain)\n",
        "xvalid_seq = token.texts_to_sequences(xvalid)\n",
        "x_test_seq = token.texts_to_sequences(x_test)\n",
        "\n",
        "# zero pad the sequences\n",
        "xtrain_pad = sequence.pad_sequences(xtrain_seq, maxlen=max_len)\n",
        "xvalid_pad = sequence.pad_sequences(xvalid_seq, maxlen=max_len)\n",
        "x_test_pad = sequence.pad_sequences(x_test_seq, maxlen=max_len)\n",
        "\n",
        "word_index = token.word_index\n",
        "\n",
        "# create an embedding matrix for the words we have in the dataset\n",
        "embedding_matrix = np.zeros((len(word_index) + 1, 300))\n",
        "for word, i in tqdm(word_index.items()):\n",
        "    embedding_vector = embeddings_index.get(word)\n",
        "    if embedding_vector is not None:\n",
        "        embedding_matrix[i] = embedding_vector"
      ],
      "metadata": {
        "colab": {
          "base_uri": "https://localhost:8080/"
        },
        "id": "MHkL2rG8z3Mv",
        "outputId": "9cac3c2b-c6cc-43c3-ed3c-5533e2433c9b"
      },
      "execution_count": null,
      "outputs": [
        {
          "output_type": "stream",
          "name": "stderr",
          "text": [
            "100%|██████████| 6553/6553 [00:00<00:00, 377052.94it/s]\n"
          ]
        }
      ]
    },
    {
      "cell_type": "markdown",
      "source": [
        "Fasttext"
      ],
      "metadata": {
        "id": "OSpMOFbKH7g1"
      }
    },
    {
      "cell_type": "code",
      "source": [
        "from keras.preprocessing.text import Tokenizer"
      ],
      "metadata": {
        "id": "JDu49McYJo3A"
      },
      "execution_count": null,
      "outputs": []
    },
    {
      "cell_type": "code",
      "source": [
        "'''## some config values \n",
        "embed_size = 300 # how big is each word vector\n",
        "max_features = 50000 # how many unique words to use (i.e num rows in embedding vector)\n",
        "maxlen = 100 # max number of words in a question to use\n",
        "\n",
        "EMBEDDING_FILE = '/content/wiki-news-300d-1M.vec'\n",
        "def get_coefs(word,*arr): return word, np.asarray(arr, dtype='float32')\n",
        "embeddings_index = dict(get_coefs(*o.split(\" \")) for o in open(EMBEDDING_FILE) if len(o)>100)\n",
        "\n",
        "all_embs = np.stack(embeddings_index.values())\n",
        "emb_mean,emb_std = all_embs.mean(), all_embs.std()\n",
        "embed_size = all_embs.shape[1]\n",
        "\n",
        "word_index = token.word_index\n",
        "nb_words = min(max_features, len(word_index))\n",
        "embedding_matrix = np.random.normal(emb_mean, emb_std, (nb_words, embed_size))\n",
        "for word, i in word_index.items():\n",
        "    #if i >= max_features: continue\n",
        "    embedding_vector = embeddings_index.get(word)\n",
        "    if embedding_vector is not None: \n",
        "        embedding_matrix[i] = embedding_vector'''"
      ],
      "metadata": {
        "colab": {
          "base_uri": "https://localhost:8080/",
          "height": 256
        },
        "id": "G-ip4B8OI4ht",
        "outputId": "d345f121-16ea-403a-b493-7478d3d5f52f"
      },
      "execution_count": null,
      "outputs": [
        {
          "output_type": "stream",
          "name": "stderr",
          "text": [
            "/usr/local/lib/python3.7/dist-packages/IPython/core/interactiveshell.py:2822: FutureWarning: arrays to stack must be passed as a \"sequence\" type such as list or tuple. Support for non-sequence iterables such as generators is deprecated as of NumPy 1.16 and will raise an error in the future.\n",
            "  if self.run_code(code, result):\n"
          ]
        },
        {
          "output_type": "error",
          "ename": "IndexError",
          "evalue": "ignored",
          "traceback": [
            "\u001b[0;31m---------------------------------------------------------------------------\u001b[0m",
            "\u001b[0;31mIndexError\u001b[0m                                Traceback (most recent call last)",
            "\u001b[0;32m<ipython-input-32-29a3e5e6a3b5>\u001b[0m in \u001b[0;36m<module>\u001b[0;34m()\u001b[0m\n\u001b[1;32m     19\u001b[0m     \u001b[0membedding_vector\u001b[0m \u001b[0;34m=\u001b[0m \u001b[0membeddings_index\u001b[0m\u001b[0;34m.\u001b[0m\u001b[0mget\u001b[0m\u001b[0;34m(\u001b[0m\u001b[0mword\u001b[0m\u001b[0;34m)\u001b[0m\u001b[0;34m\u001b[0m\u001b[0;34m\u001b[0m\u001b[0m\n\u001b[1;32m     20\u001b[0m     \u001b[0;32mif\u001b[0m \u001b[0membedding_vector\u001b[0m \u001b[0;32mis\u001b[0m \u001b[0;32mnot\u001b[0m \u001b[0;32mNone\u001b[0m\u001b[0;34m:\u001b[0m\u001b[0;34m\u001b[0m\u001b[0;34m\u001b[0m\u001b[0m\n\u001b[0;32m---> 21\u001b[0;31m         \u001b[0membedding_matrix\u001b[0m\u001b[0;34m[\u001b[0m\u001b[0mi\u001b[0m\u001b[0;34m]\u001b[0m \u001b[0;34m=\u001b[0m \u001b[0membedding_vector\u001b[0m\u001b[0;34m\u001b[0m\u001b[0;34m\u001b[0m\u001b[0m\n\u001b[0m",
            "\u001b[0;31mIndexError\u001b[0m: index 6553 is out of bounds for axis 0 with size 6553"
          ]
        }
      ]
    },
    {
      "cell_type": "code",
      "source": [
        "'''embeddings_index = {}\n",
        "f = codecs.open('../input/fasttext/wiki.simple.vec', encoding='utf-8')\n",
        "for line in tqdm(f):\n",
        "    values = line.rstrip().rsplit(' ')\n",
        "    word = values[0]\n",
        "    coefs = np.asarray(values[1:], dtype='float32')\n",
        "    embeddings_index[word] = coefs\n",
        "f.close()\n",
        "print('found %s word vectors' % len(embeddings_index))'''"
      ],
      "metadata": {
        "id": "4Fw7-2vtH8eB"
      },
      "execution_count": null,
      "outputs": []
    },
    {
      "cell_type": "markdown",
      "source": [
        "BASELINE"
      ],
      "metadata": {
        "id": "vyW_akp2eMEE"
      }
    },
    {
      "cell_type": "markdown",
      "source": [
        "Logistic Resgression + Keras + Glove"
      ],
      "metadata": {
        "id": "83YajWZReIZY"
      }
    },
    {
      "cell_type": "code",
      "source": [
        "from sklearn.metrics import confusion_matrix\n",
        "import seaborn as sns\n",
        "from sklearn.metrics import accuracy_score"
      ],
      "metadata": {
        "id": "BzdSUm6t1-CO"
      },
      "execution_count": null,
      "outputs": []
    },
    {
      "cell_type": "code",
      "source": [
        "# Fitting a simple Logistic Regression on Keras + Glove\n",
        "clf = LogisticRegression(C=1.0)\n",
        "clf.fit(xtrain_pad, ytrain)\n",
        "predictions = clf.predict_proba(xvalid_pad)\n",
        "\n",
        "print (\"logloss: %0.3f \" % multiclass_logloss(yvalid, predictions))"
      ],
      "metadata": {
        "colab": {
          "base_uri": "https://localhost:8080/"
        },
        "id": "k2nK1qIc2Eix",
        "outputId": "e321b726-a793-4d88-adf2-95015f7f611a"
      },
      "execution_count": null,
      "outputs": [
        {
          "output_type": "stream",
          "name": "stdout",
          "text": [
            "logloss: 1.163 \n"
          ]
        },
        {
          "output_type": "stream",
          "name": "stderr",
          "text": [
            "/usr/local/lib/python3.7/dist-packages/sklearn/linear_model/_logistic.py:818: ConvergenceWarning: lbfgs failed to converge (status=1):\n",
            "STOP: TOTAL NO. of ITERATIONS REACHED LIMIT.\n",
            "\n",
            "Increase the number of iterations (max_iter) or scale the data as shown in:\n",
            "    https://scikit-learn.org/stable/modules/preprocessing.html\n",
            "Please also refer to the documentation for alternative solver options:\n",
            "    https://scikit-learn.org/stable/modules/linear_model.html#logistic-regression\n",
            "  extra_warning_msg=_LOGISTIC_SOLVER_CONVERGENCE_MSG,\n"
          ]
        }
      ]
    },
    {
      "cell_type": "code",
      "source": [
        "predict_class_test = clf.predict(x_test_pad)\n",
        "predictions = clf.predict_proba(x_test_pad)"
      ],
      "metadata": {
        "id": "HgqBpyfG2hJW"
      },
      "execution_count": null,
      "outputs": []
    },
    {
      "cell_type": "code",
      "source": [
        "from sklearn.metrics import precision_recall_fscore_support\n",
        "precision_recall_fscore_support(y_test, predict_class_test, average='weighted')\n",
        "print('Logistic Resgression + Keras + Glove\\nPrecision =',precision_recall_fscore_support(y_test, predict_class_test, average='weighted')[0])\n",
        "print('Recall =',precision_recall_fscore_support(y_test, predict_class_test, average='weighted')[1])\n",
        "print('F1 Score =',precision_recall_fscore_support(y_test, predict_class_test, average='weighted')[2])\n",
        "print('Accuracy Score =',accuracy_score(y_test, predict_class_test))\n",
        "print (\"logloss: %0.3f \" % multiclass_logloss(y_test, predictions))"
      ],
      "metadata": {
        "colab": {
          "base_uri": "https://localhost:8080/"
        },
        "id": "2tvDEmE22Vcb",
        "outputId": "4164f0d9-7ad0-47a3-f5fe-1b1178a95d39"
      },
      "execution_count": null,
      "outputs": [
        {
          "output_type": "stream",
          "name": "stdout",
          "text": [
            "Logistic Resgression + Keras + Glove\n",
            "Precision = 0.679645285913478\n",
            "Recall = 0.5874807593637763\n",
            "F1 Score = 0.6272914177858718\n",
            "Accuracy Score = 0.5874807593637763\n",
            "logloss: 1.467 \n"
          ]
        }
      ]
    },
    {
      "cell_type": "markdown",
      "source": [
        "Logistic Resgression + Glove"
      ],
      "metadata": {
        "id": "8c8aR2TW3AhQ"
      }
    },
    {
      "cell_type": "code",
      "source": [
        "# Fitting a simple Logistic Regression on Glove\n",
        "clf = LogisticRegression(C=1.0)\n",
        "clf.fit(xtrain_glove, ytrain)\n",
        "predictions = clf.predict_proba(xvalid_glove)\n",
        "\n",
        "print (\"logloss: %0.3f \" % multiclass_logloss(yvalid, predictions))"
      ],
      "metadata": {
        "colab": {
          "base_uri": "https://localhost:8080/"
        },
        "id": "vk_16Lxf2N8-",
        "outputId": "cc0e18ef-e6ad-4c66-ea4a-0f286205cca9"
      },
      "execution_count": null,
      "outputs": [
        {
          "output_type": "stream",
          "name": "stdout",
          "text": [
            "logloss: 0.343 \n"
          ]
        },
        {
          "output_type": "stream",
          "name": "stderr",
          "text": [
            "/usr/local/lib/python3.7/dist-packages/sklearn/linear_model/_logistic.py:818: ConvergenceWarning: lbfgs failed to converge (status=1):\n",
            "STOP: TOTAL NO. of ITERATIONS REACHED LIMIT.\n",
            "\n",
            "Increase the number of iterations (max_iter) or scale the data as shown in:\n",
            "    https://scikit-learn.org/stable/modules/preprocessing.html\n",
            "Please also refer to the documentation for alternative solver options:\n",
            "    https://scikit-learn.org/stable/modules/linear_model.html#logistic-regression\n",
            "  extra_warning_msg=_LOGISTIC_SOLVER_CONVERGENCE_MSG,\n"
          ]
        }
      ]
    },
    {
      "cell_type": "code",
      "source": [
        "predict_class_test = clf.predict(x_test_glove)\n",
        "predictions = clf.predict_proba(x_test_glove)"
      ],
      "metadata": {
        "id": "V7U6uE-03KeP"
      },
      "execution_count": null,
      "outputs": []
    },
    {
      "cell_type": "code",
      "source": [
        "precision_recall_fscore_support(y_test, predict_class_test, average='weighted')\n",
        "print('Logistic Resgression + Glove\\nPrecision =',precision_recall_fscore_support(y_test, predict_class_test, average='weighted')[0])\n",
        "print('Recall =',precision_recall_fscore_support(y_test, predict_class_test, average='weighted')[1])\n",
        "print('F1 Score =',precision_recall_fscore_support(y_test, predict_class_test, average='weighted')[2])\n",
        "print('Accuracy Score =',accuracy_score(y_test, predict_class_test))\n",
        "print (\"logloss: %0.3f \" % multiclass_logloss(y_test, predictions))"
      ],
      "metadata": {
        "colab": {
          "base_uri": "https://localhost:8080/"
        },
        "id": "7A33y8a23c0M",
        "outputId": "870893bf-4ebd-4497-ac39-af5b9b30eac1"
      },
      "execution_count": null,
      "outputs": [
        {
          "output_type": "stream",
          "name": "stdout",
          "text": [
            "Logistic Resgression + Glove\n",
            "Precision = 0.8431889747900113\n",
            "Recall = 0.7824525397639815\n",
            "F1 Score = 0.8026175225686256\n",
            "Accuracy Score = 0.7824525397639815\n",
            "logloss: 0.651 \n"
          ]
        }
      ]
    },
    {
      "cell_type": "code",
      "source": [
        "cf_matrix = confusion_matrix(y_test, predict_class_test)\n",
        "\n",
        "ax = sns.heatmap(cf_matrix/np.sum(cf_matrix), annot=True, \n",
        "            fmt='.2%', cmap='Blues')\n",
        "\n",
        "ax.set_title('Logistic Resgression + Glove\\n\\n');\n",
        "ax.set_xlabel('\\nPredicted Values')\n",
        "ax.set_ylabel('Actual Values ');\n",
        "\n",
        "## Ticket labels - List must be in alphabetical order\n",
        "ax.xaxis.set_ticklabels(['Course','Assignment','Instructor','Other'])\n",
        "ax.yaxis.set_ticklabels(['Course','Assignment','Instructor','Other'])\n",
        "\n",
        "## Display the visualization of the Confusion Matrix.\n",
        "#plt.show()"
      ],
      "metadata": {
        "colab": {
          "base_uri": "https://localhost:8080/",
          "height": 406
        },
        "id": "kA9HXxSZ5QL0",
        "outputId": "110de7c9-5722-4cd3-a9c0-485103176532"
      },
      "execution_count": null,
      "outputs": [
        {
          "output_type": "execute_result",
          "data": {
            "text/plain": [
              "[Text(0, 0.5, 'Course'),\n",
              " Text(0, 1.5, 'Assignment'),\n",
              " Text(0, 2.5, 'Instructor'),\n",
              " Text(0, 3.5, 'Other')]"
            ]
          },
          "metadata": {},
          "execution_count": 42
        },
        {
          "output_type": "display_data",
          "data": {
            "text/plain": [
              "<Figure size 432x288 with 2 Axes>"
            ],
            "image/png": "[encoded data removed]"
          },
          "metadata": {
            "needs_background": "light"
          }
        }
      ]
    },
    {
      "cell_type": "markdown",
      "source": [
        "Logistic Resgression + TF-IDF"
      ],
      "metadata": {
        "id": "V_Vlt6Ya2amd"
      }
    },
    {
      "cell_type": "code",
      "source": [
        "# Fitting a simple Logistic Regression on TFIDF\n",
        "clf = LogisticRegression(C=1.0)\n",
        "clf.fit(xtrain_tfv, ytrain)\n",
        "predictions = clf.predict_proba(xvalid_tfv)\n",
        "\n",
        "print (\"logloss: %0.3f \" % multiclass_logloss(yvalid, predictions))"
      ],
      "metadata": {
        "colab": {
          "base_uri": "https://localhost:8080/"
        },
        "id": "ksf6nxPZd6Ze",
        "outputId": "5e502595-58d8-48aa-8291-c91497deccb0"
      },
      "execution_count": null,
      "outputs": [
        {
          "output_type": "stream",
          "name": "stdout",
          "text": [
            "logloss: 0.194 \n"
          ]
        }
      ]
    },
    {
      "cell_type": "code",
      "source": [
        "predict_class = clf.predict(xvalid_tfv)"
      ],
      "metadata": {
        "id": "1boWZKSXnDev"
      },
      "execution_count": null,
      "outputs": []
    },
    {
      "cell_type": "code",
      "source": [
        "#Generate the confusion matrix\n",
        "cf_matrix = confusion_matrix(yvalid, predict_class)\n",
        "\n",
        "print(cf_matrix)"
      ],
      "metadata": {
        "colab": {
          "base_uri": "https://localhost:8080/"
        },
        "id": "uBZKrQp9mt2d",
        "outputId": "d2a9a135-9569-4b41-bb7a-049dae47da96"
      },
      "execution_count": null,
      "outputs": [
        {
          "output_type": "stream",
          "name": "stdout",
          "text": [
            "[[249   0   0   0]\n",
            " [  6 236   6   0]\n",
            " [  0   0 249   0]\n",
            " [  0   9   0 239]]\n"
          ]
        }
      ]
    },
    {
      "cell_type": "code",
      "source": [
        "ax = sns.heatmap(cf_matrix/np.sum(cf_matrix), annot=True, \n",
        "            fmt='.2%', cmap='Blues')\n",
        "\n",
        "ax.set_title('Logistic Resgression + TFIDF\\n\\n');\n",
        "ax.set_xlabel('\\nPredicted Values')\n",
        "ax.set_ylabel('Actual Values ');\n",
        "\n",
        "## Ticket labels - List must be in alphabetical order\n",
        "ax.xaxis.set_ticklabels(['Course','Assignment','Instructor','Other'])\n",
        "ax.yaxis.set_ticklabels(['Course','Assignment','Instructor','Other'])\n",
        "\n",
        "## Display the visualization of the Confusion Matrix.\n",
        "#plt.show()"
      ],
      "metadata": {
        "colab": {
          "base_uri": "https://localhost:8080/",
          "height": 406
        },
        "id": "vC8aGup2m0M5",
        "outputId": "96e97d6a-76cc-4395-99aa-9b14b39f7dc0"
      },
      "execution_count": null,
      "outputs": [
        {
          "output_type": "execute_result",
          "data": {
            "text/plain": [
              "[Text(0, 0.5, 'Course'),\n",
              " Text(0, 1.5, 'Assignment'),\n",
              " Text(0, 2.5, 'Instructor'),\n",
              " Text(0, 3.5, 'Other')]"
            ]
          },
          "metadata": {},
          "execution_count": 19
        },
        {
          "output_type": "display_data",
          "data": {
            "text/plain": [
              "<Figure size 432x288 with 2 Axes>"
            ],
            "image/png": "[encoded data removed]"
          },
          "metadata": {
            "needs_background": "light"
          }
        }
      ]
    },
    {
      "cell_type": "code",
      "source": [
        "#test\n",
        "predict_class_test = clf.predict(x_test_tfv)"
      ],
      "metadata": {
        "id": "KV-pBhtoqNtV"
      },
      "execution_count": null,
      "outputs": []
    },
    {
      "cell_type": "code",
      "source": [
        "predictions = clf.predict_proba(x_test_tfv)\n",
        "\n",
        "print (\"logloss: %0.3f \" % multiclass_logloss(y_test, predictions))"
      ],
      "metadata": {
        "colab": {
          "base_uri": "https://localhost:8080/"
        },
        "id": "lsBJCIdHq5KS",
        "outputId": "2622f8b0-52cf-472d-9145-9db9d4e6ea9b"
      },
      "execution_count": null,
      "outputs": [
        {
          "output_type": "stream",
          "name": "stdout",
          "text": [
            "logloss: 0.500 \n"
          ]
        }
      ]
    },
    {
      "cell_type": "code",
      "source": [
        "#Generate the confusion matrix\n",
        "cf_matrix = confusion_matrix(y_test, predict_class_test)\n",
        "\n",
        "ax = sns.heatmap(cf_matrix/np.sum(cf_matrix), annot=True, \n",
        "            fmt='.2%', cmap='Reds')\n",
        "\n",
        "ax.set_title('Logistic Resgression + TFIDF\\n\\n');\n",
        "ax.set_xlabel('\\nPredicted Values')\n",
        "ax.set_ylabel('Actual Values ');\n",
        "\n",
        "## Ticket labels - List must be in alphabetical order\n",
        "ax.xaxis.set_ticklabels(['Course','Assignment','Instructor','Other'])\n",
        "ax.yaxis.set_ticklabels(['Course','Assignment','Instructor','Other'])\n",
        "\n",
        "## Display the visualization of the Confusion Matrix.\n",
        "#plt.show()"
      ],
      "metadata": {
        "colab": {
          "base_uri": "https://localhost:8080/",
          "height": 406
        },
        "id": "I64SVnXIqeEO",
        "outputId": "bc082205-aef3-4b98-c34a-6a2f85b14661"
      },
      "execution_count": null,
      "outputs": [
        {
          "output_type": "execute_result",
          "data": {
            "text/plain": [
              "[Text(0, 0.5, 'Course'),\n",
              " Text(0, 1.5, 'Assignment'),\n",
              " Text(0, 2.5, 'Instructor'),\n",
              " Text(0, 3.5, 'Other')]"
            ]
          },
          "metadata": {},
          "execution_count": 22
        },
        {
          "output_type": "display_data",
          "data": {
            "text/plain": [
              "<Figure size 432x288 with 2 Axes>"
            ],
            "image/png": "[encoded data removed]"
          },
          "metadata": {
            "needs_background": "light"
          }
        }
      ]
    },
    {
      "cell_type": "code",
      "source": [
        "from sklearn.metrics import precision_recall_fscore_support\n",
        "precision_recall_fscore_support(y_test, predict_class_test, average='weighted')\n",
        "print('Logistic Resgression + TFIDF\\nPrecision =',precision_recall_fscore_support(y_test, predict_class_test, average='weighted')[0])\n",
        "print('Recall =',precision_recall_fscore_support(y_test, predict_class_test, average='weighted')[1])\n",
        "print('F1 Score =',precision_recall_fscore_support(y_test, predict_class_test, average='weighted')[2])\n",
        "print (\"logloss: %0.3f \" % multiclass_logloss(y_test, predictions))"
      ],
      "metadata": {
        "colab": {
          "base_uri": "https://localhost:8080/"
        },
        "id": "AuWnEd1lriXY",
        "outputId": "92191ab5-44f4-4a27-ccfb-ce68504a5135"
      },
      "execution_count": null,
      "outputs": [
        {
          "output_type": "stream",
          "name": "stdout",
          "text": [
            "Logistic Resgression + TFIDF\n",
            "Precision = 0.8356161134017722\n",
            "Recall = 0.857875833760903\n",
            "F1 Score = 0.8415358968574578\n",
            "logloss: 0.500 \n"
          ]
        }
      ]
    },
    {
      "cell_type": "markdown",
      "source": [
        "Logistic Regression + COUNT"
      ],
      "metadata": {
        "id": "ceenDRSPegNv"
      }
    },
    {
      "cell_type": "code",
      "source": [
        "ctv = CountVectorizer(analyzer='word',token_pattern=r'\\w{1,}',\n",
        "            ngram_range=(1, 3), stop_words = 'english')\n",
        "\n",
        "# Fitting Count Vectorizer to both training and test sets (semi-supervised learning)\n",
        "ctv.fit(list(xtrain) + list(xvalid))\n",
        "xtrain_ctv =  ctv.transform(xtrain) \n",
        "xvalid_ctv = ctv.transform(xvalid)"
      ],
      "metadata": {
        "id": "hHZoAEI3d9c5"
      },
      "execution_count": null,
      "outputs": []
    },
    {
      "cell_type": "code",
      "source": [
        "# Fitting a simple Logistic Regression on Counts\n",
        "clf = LogisticRegression(C=1.0)\n",
        "clf.fit(xtrain_ctv, ytrain)\n",
        "predictions = clf.predict_proba(xvalid_ctv)\n",
        "\n",
        "print (\"logloss: %0.3f \" % multiclass_logloss(yvalid, predictions))"
      ],
      "metadata": {
        "colab": {
          "base_uri": "https://localhost:8080/"
        },
        "id": "-hXzwYQAeRKg",
        "outputId": "c6562ad5-b90f-4d30-d376-7fcde7d804a2"
      },
      "execution_count": null,
      "outputs": [
        {
          "output_type": "stream",
          "name": "stdout",
          "text": [
            "logloss: 0.084 \n"
          ]
        }
      ]
    },
    {
      "cell_type": "code",
      "source": [
        "x_test = test_set['sentence'].values"
      ],
      "metadata": {
        "id": "WUIe79WJtdT5"
      },
      "execution_count": null,
      "outputs": []
    },
    {
      "cell_type": "code",
      "source": [
        "#test\n",
        "x_test_ctv =  ctv.transform(x_test) \n",
        "predict_class_test = clf.predict(x_test_ctv)\n",
        "predictions = clf.predict_proba(x_test_ctv)"
      ],
      "metadata": {
        "id": "m4IH3WiKsqnt"
      },
      "execution_count": null,
      "outputs": []
    },
    {
      "cell_type": "code",
      "source": [
        "#Generate the confusion matrix\n",
        "cf_matrix = confusion_matrix(y_test, predict_class_test)\n",
        "\n",
        "ax = sns.heatmap(cf_matrix/np.sum(cf_matrix), annot=True, \n",
        "            fmt='.2%', cmap='Reds')\n",
        "\n",
        "ax.set_title('Logistic Resgression + TFIDF\\n\\n');\n",
        "ax.set_xlabel('\\nPredicted Values')\n",
        "ax.set_ylabel('Actual Values ');\n",
        "\n",
        "## Ticket labels - List must be in alphabetical order\n",
        "ax.xaxis.set_ticklabels(['Course','Assignment','Instructor','Other'])\n",
        "ax.yaxis.set_ticklabels(['Course','Assignment','Instructor','Other'])\n",
        "\n",
        "## Display the visualization of the Confusion Matrix.\n",
        "#plt.show()"
      ],
      "metadata": {
        "colab": {
          "base_uri": "https://localhost:8080/",
          "height": 406
        },
        "id": "6S2c3Y01s7Gm",
        "outputId": "9e75598e-0fd0-45a0-c44b-18357f35c181"
      },
      "execution_count": null,
      "outputs": [
        {
          "output_type": "execute_result",
          "data": {
            "text/plain": [
              "[Text(0, 0.5, 'Course'),\n",
              " Text(0, 1.5, 'Assignment'),\n",
              " Text(0, 2.5, 'Instructor'),\n",
              " Text(0, 3.5, 'Other')]"
            ]
          },
          "metadata": {},
          "execution_count": 28
        },
        {
          "output_type": "display_data",
          "data": {
            "text/plain": [
              "<Figure size 432x288 with 2 Axes>"
            ],
            "image/png": "[encoded data removed]"
          },
          "metadata": {
            "needs_background": "light"
          }
        }
      ]
    },
    {
      "cell_type": "code",
      "source": [
        "precision_recall_fscore_support(y_test, predict_class_test, average='weighted')\n",
        "print('Logistic Regression + COUNT\\nPrecision =',precision_recall_fscore_support(y_test, predict_class_test, average='weighted')[0])\n",
        "print('Recall =',precision_recall_fscore_support(y_test, predict_class_test, average='weighted')[1])\n",
        "print('F1 Score =',precision_recall_fscore_support(y_test, predict_class_test, average='weighted')[2])\n",
        "print (\"logloss: %0.3f \" % multiclass_logloss(y_test, predictions))"
      ],
      "metadata": {
        "colab": {
          "base_uri": "https://localhost:8080/"
        },
        "id": "XMnIir1esy_y",
        "outputId": "1ab317db-7821-4255-9a6c-b65eea1ba47c"
      },
      "execution_count": null,
      "outputs": [
        {
          "output_type": "stream",
          "name": "stdout",
          "text": [
            "Logistic Regression + COUNT\n",
            "Precision = 0.8305001993554317\n",
            "Recall = 0.8429964084145716\n",
            "F1 Score = 0.8300275272466815\n",
            "logloss: 0.513 \n"
          ]
        }
      ]
    },
    {
      "cell_type": "markdown",
      "source": [
        "NB + TFIDF"
      ],
      "metadata": {
        "id": "RefczsvSec2z"
      }
    },
    {
      "cell_type": "code",
      "source": [
        "# Fitting a simple Naive Bayes on TFIDF\n",
        "clf = MultinomialNB()\n",
        "clf.fit(xtrain_tfv, ytrain)\n",
        "predictions = clf.predict_proba(xvalid_tfv)\n",
        "\n",
        "print (\"logloss: %0.3f \" % multiclass_logloss(yvalid, predictions))"
      ],
      "metadata": {
        "colab": {
          "base_uri": "https://localhost:8080/"
        },
        "id": "yERwGwzyeTU8",
        "outputId": "9ad4c429-9e31-49e3-d5dd-33e84cb84fbf"
      },
      "execution_count": null,
      "outputs": [
        {
          "output_type": "stream",
          "name": "stdout",
          "text": [
            "logloss: 0.137 \n"
          ]
        }
      ]
    },
    {
      "cell_type": "code",
      "source": [
        "#test\n",
        "predict_class_test = clf.predict(x_test_tfv)\n",
        "predictions = clf.predict_proba(x_test_tfv)"
      ],
      "metadata": {
        "id": "OJk_Olbpt-Mv"
      },
      "execution_count": null,
      "outputs": []
    },
    {
      "cell_type": "code",
      "source": [
        "#Generate the confusion matrix\n",
        "cf_matrix = confusion_matrix(y_test, predict_class_test)\n",
        "\n",
        "ax = sns.heatmap(cf_matrix/np.sum(cf_matrix), annot=True, \n",
        "            fmt='.2%', cmap='Reds')\n",
        "\n",
        "ax.set_title('Logistic Resgression + TFIDF\\n\\n');\n",
        "ax.set_xlabel('\\nPredicted Values')\n",
        "ax.set_ylabel('Actual Values ');\n",
        "\n",
        "## Ticket labels - List must be in alphabetical order\n",
        "ax.xaxis.set_ticklabels(['Course','Assignment','Instructor','Other'])\n",
        "ax.yaxis.set_ticklabels(['Course','Assignment','Instructor','Other'])\n",
        "\n",
        "## Display the visualization of the Confusion Matrix.\n",
        "#plt.show()"
      ],
      "metadata": {
        "colab": {
          "base_uri": "https://localhost:8080/",
          "height": 406
        },
        "id": "UVacv1_QuH5H",
        "outputId": "25f25ffe-83a0-4392-b541-80a7f82b37b0"
      },
      "execution_count": null,
      "outputs": [
        {
          "output_type": "execute_result",
          "data": {
            "text/plain": [
              "[Text(0, 0.5, 'Course'),\n",
              " Text(0, 1.5, 'Assignment'),\n",
              " Text(0, 2.5, 'Instructor'),\n",
              " Text(0, 3.5, 'Other')]"
            ]
          },
          "metadata": {},
          "execution_count": 32
        },
        {
          "output_type": "display_data",
          "data": {
            "text/plain": [
              "<Figure size 432x288 with 2 Axes>"
            ],
            "image/png": "[encoded data removed]"
          },
          "metadata": {
            "needs_background": "light"
          }
        }
      ]
    },
    {
      "cell_type": "code",
      "source": [
        "precision_recall_fscore_support(y_test, predict_class_test, average='weighted')\n",
        "print('NB + TFIDF\\nPrecision =',precision_recall_fscore_support(y_test, predict_class_test, average='weighted')[0])\n",
        "print('Recall =',precision_recall_fscore_support(y_test, predict_class_test, average='weighted')[1])\n",
        "print('F1 Score =',precision_recall_fscore_support(y_test, predict_class_test, average='weighted')[2])\n",
        "print (\"logloss: %0.3f \" % multiclass_logloss(y_test, predictions))"
      ],
      "metadata": {
        "colab": {
          "base_uri": "https://localhost:8080/"
        },
        "id": "w1jXkvEZuRQw",
        "outputId": "a5b248d1-250c-46df-cd0f-db1688f2a2a1"
      },
      "execution_count": null,
      "outputs": [
        {
          "output_type": "stream",
          "name": "stdout",
          "text": [
            "NB + TFIDF\n",
            "Precision = 0.789145262400417\n",
            "Recall = 0.8173422267829656\n",
            "F1 Score = 0.7983660666132\n",
            "logloss: 0.557 \n"
          ]
        }
      ]
    },
    {
      "cell_type": "markdown",
      "source": [
        "NB + COUNT"
      ],
      "metadata": {
        "id": "7-Kxd08PenqK"
      }
    },
    {
      "cell_type": "code",
      "source": [
        "# Fitting a simple Naive Bayes on Counts\n",
        "clf = MultinomialNB()\n",
        "clf.fit(xtrain_ctv, ytrain)\n",
        "predictions = clf.predict_proba(xvalid_ctv)\n",
        "\n",
        "print (\"logloss: %0.3f \" % multiclass_logloss(yvalid, predictions))"
      ],
      "metadata": {
        "colab": {
          "base_uri": "https://localhost:8080/"
        },
        "id": "Xsp8DJAseWyp",
        "outputId": "5075aa5d-7f63-4bd7-cf36-877bd832b45e"
      },
      "execution_count": null,
      "outputs": [
        {
          "output_type": "stream",
          "name": "stdout",
          "text": [
            "logloss: 0.210 \n"
          ]
        }
      ]
    },
    {
      "cell_type": "code",
      "source": [
        "#test\n",
        "predict_class_test = clf.predict(x_test_ctv)\n",
        "predictions = clf.predict_proba(x_test_ctv)"
      ],
      "metadata": {
        "id": "PB6kgiHzvmsY"
      },
      "execution_count": null,
      "outputs": []
    },
    {
      "cell_type": "code",
      "source": [
        "#Generate the confusion matrix\n",
        "cf_matrix = confusion_matrix(y_test, predict_class_test)\n",
        "\n",
        "ax = sns.heatmap(cf_matrix/np.sum(cf_matrix), annot=True, \n",
        "            fmt='.2%', cmap='Reds')\n",
        "\n",
        "ax.set_title('Logistic Resgression + TFIDF\\n\\n');\n",
        "ax.set_xlabel('\\nPredicted Values')\n",
        "ax.set_ylabel('Actual Values ');\n",
        "\n",
        "## Ticket labels - List must be in alphabetical order\n",
        "ax.xaxis.set_ticklabels(['Course','Assignment','Instructor','Other'])\n",
        "ax.yaxis.set_ticklabels(['Course','Assignment','Instructor','Other'])\n",
        "\n",
        "## Display the visualization of the Confusion Matrix.\n",
        "#plt.show()"
      ],
      "metadata": {
        "colab": {
          "base_uri": "https://localhost:8080/",
          "height": 406
        },
        "id": "ttRwEuGsvs5w",
        "outputId": "a09e9cb3-0d32-4bf6-e091-208fc1b2b4c4"
      },
      "execution_count": null,
      "outputs": [
        {
          "output_type": "execute_result",
          "data": {
            "text/plain": [
              "[Text(0, 0.5, 'Course'),\n",
              " Text(0, 1.5, 'Assignment'),\n",
              " Text(0, 2.5, 'Instructor'),\n",
              " Text(0, 3.5, 'Other')]"
            ]
          },
          "metadata": {},
          "execution_count": 36
        },
        {
          "output_type": "display_data",
          "data": {
            "text/plain": [
              "<Figure size 432x288 with 2 Axes>"
            ],
            "image/png": "[encoded data removed]"
          },
          "metadata": {
            "needs_background": "light"
          }
        }
      ]
    },
    {
      "cell_type": "code",
      "source": [
        "precision_recall_fscore_support(y_test, predict_class_test, average='weighted')\n",
        "print('NB + Count Vector\\nPrecision =',precision_recall_fscore_support(y_test, predict_class_test, average='weighted')[0])\n",
        "print('Recall =',precision_recall_fscore_support(y_test, predict_class_test, average='weighted')[1])\n",
        "print('F1 Score =',precision_recall_fscore_support(y_test, predict_class_test, average='weighted')[2])\n",
        "print (\"logloss: %0.3f \" % multiclass_logloss(y_test, predictions))"
      ],
      "metadata": {
        "colab": {
          "base_uri": "https://localhost:8080/"
        },
        "id": "dZZu8Ls3vvEQ",
        "outputId": "b1777b99-78f1-4ae5-fcf9-73055e1e2308"
      },
      "execution_count": null,
      "outputs": [
        {
          "output_type": "stream",
          "name": "stdout",
          "text": [
            "NB + Count Vector\n",
            "Precision = 0.7999321260730153\n",
            "Recall = 0.7321703437660338\n",
            "F1 Score = 0.7540556589686565\n",
            "logloss: 1.174 \n"
          ]
        }
      ]
    },
    {
      "cell_type": "markdown",
      "source": [
        "SVM + TFIDF"
      ],
      "metadata": {
        "id": "b5iHg1DuexWP"
      }
    },
    {
      "cell_type": "code",
      "source": [
        "# Apply SVD, I chose 120 components. 120-200 components are good enough for SVM model.\n",
        "svd = decomposition.TruncatedSVD(n_components=120)\n",
        "svd.fit(xtrain_tfv)\n",
        "xtrain_svd = svd.transform(xtrain_tfv)\n",
        "xvalid_svd = svd.transform(xvalid_tfv)\n",
        "\n",
        "# Scale the data obtained from SVD. Renaming variable to reuse without scaling.\n",
        "scl = preprocessing.StandardScaler()\n",
        "scl.fit(xtrain_svd)\n",
        "xtrain_svd_scl = scl.transform(xtrain_svd)\n",
        "xvalid_svd_scl = scl.transform(xvalid_svd)"
      ],
      "metadata": {
        "id": "AcHqfkLbepqs"
      },
      "execution_count": null,
      "outputs": []
    },
    {
      "cell_type": "code",
      "source": [
        "# Fitting a simple SVM\n",
        "clf = SVC(C=1.0, probability=True) # since we need probabilities\n",
        "clf.fit(xtrain_svd_scl, ytrain)\n",
        "predictions = clf.predict_proba(xvalid_svd_scl)\n",
        "\n",
        "print (\"logloss: %0.3f \" % multiclass_logloss(yvalid, predictions))"
      ],
      "metadata": {
        "colab": {
          "base_uri": "https://localhost:8080/"
        },
        "id": "b1W3ciXzewFJ",
        "outputId": "9d53ada3-6bb1-4207-d694-3b30f301cf1c"
      },
      "execution_count": null,
      "outputs": [
        {
          "output_type": "stream",
          "name": "stdout",
          "text": [
            "logloss: 0.138 \n"
          ]
        }
      ]
    },
    {
      "cell_type": "code",
      "source": [
        "#test\n",
        "x_test_svd = svd.transform(x_test_tfv)\n",
        "x_test_svd_scl = scl.transform(x_test_svd)\n",
        "predict_class_test = clf.predict(x_test_svd_scl)\n",
        "predictions = clf.predict_proba(x_test_svd_scl)"
      ],
      "metadata": {
        "id": "1k7C_Q-5wgSw"
      },
      "execution_count": null,
      "outputs": []
    },
    {
      "cell_type": "code",
      "source": [
        "#Generate the confusion matrix\n",
        "cf_matrix = confusion_matrix(y_test, predict_class_test)\n",
        "\n",
        "ax = sns.heatmap(cf_matrix/np.sum(cf_matrix), annot=True, \n",
        "            fmt='.2%', cmap='Reds')\n",
        "\n",
        "ax.set_title('SVM + TFIDF\\n\\n');\n",
        "ax.set_xlabel('\\nPredicted Values')\n",
        "ax.set_ylabel('Actual Values ');\n",
        "\n",
        "## Ticket labels - List must be in alphabetical order\n",
        "ax.xaxis.set_ticklabels(['Assignment', 'Course','Instructor','Other'])\n",
        "ax.yaxis.set_ticklabels(['Assignment', 'Course','Instructor','Other'])\n",
        "\n",
        "## Display the vis"
      ],
      "metadata": {
        "colab": {
          "base_uri": "https://localhost:8080/",
          "height": 406
        },
        "id": "NQ8JOxo5xGqF",
        "outputId": "c7c9fab5-13e9-48c6-e5f7-847f9927e8af"
      },
      "execution_count": null,
      "outputs": [
        {
          "output_type": "execute_result",
          "data": {
            "text/plain": [
              "[Text(0, 0.5, 'Assignment'),\n",
              " Text(0, 1.5, 'Course'),\n",
              " Text(0, 2.5, 'Instructor'),\n",
              " Text(0, 3.5, 'Other')]"
            ]
          },
          "metadata": {},
          "execution_count": 41
        },
        {
          "output_type": "display_data",
          "data": {
            "text/plain": [
              "<Figure size 432x288 with 2 Axes>"
            ],
            "image/png": "[encoded data removed]"
          },
          "metadata": {
            "needs_background": "light"
          }
        }
      ]
    },
    {
      "cell_type": "code",
      "source": [
        "precision_recall_fscore_support(y_test, predict_class_test, average='weighted')\n",
        "print('SVM + TFIDF\\nPrecision =',precision_recall_fscore_support(y_test, predict_class_test, average='weighted')[0])\n",
        "print('Recall =',precision_recall_fscore_support(y_test, predict_class_test, average='weighted')[1])\n",
        "print('F1 Score =',precision_recall_fscore_support(y_test, predict_class_test, average='weighted')[2])\n",
        "print (\"logloss: %0.3f \" % multiclass_logloss(y_test, predictions))"
      ],
      "metadata": {
        "colab": {
          "base_uri": "https://localhost:8080/"
        },
        "id": "xK4S9GvNxL58",
        "outputId": "c39bbcbd-da8c-41bf-9619-fed4fe122078"
      },
      "execution_count": null,
      "outputs": [
        {
          "output_type": "stream",
          "name": "stdout",
          "text": [
            "SVM + TFIDF\n",
            "Precision = 0.8249296450425173\n",
            "Recall = 0.8527449974345819\n",
            "F1 Score = 0.8354098985417825\n",
            "logloss: 0.581 \n"
          ]
        }
      ]
    },
    {
      "cell_type": "markdown",
      "source": [
        "XGBOOST TFIDF"
      ],
      "metadata": {
        "id": "YHb3VtvBfBFA"
      }
    },
    {
      "cell_type": "code",
      "source": [
        "# Fitting a simple xgboost on tf-idf\n",
        "clf = xgb.XGBClassifier(max_depth=7, n_estimators=200, colsample_bytree=0.8, \n",
        "                        subsample=0.8, nthread=10, learning_rate=0.1)\n",
        "clf.fit(xtrain_tfv.tocsc(), ytrain)\n",
        "predictions = clf.predict_proba(xvalid_tfv.tocsc())\n",
        "\n",
        "print (\"logloss: %0.3f \" % multiclass_logloss(yvalid, predictions))"
      ],
      "metadata": {
        "colab": {
          "base_uri": "https://localhost:8080/"
        },
        "id": "pUlkfeoofAct",
        "outputId": "a6f4e35c-2249-4523-f37d-b2e296ac040b"
      },
      "execution_count": null,
      "outputs": [
        {
          "output_type": "stream",
          "name": "stdout",
          "text": [
            "logloss: 0.091 \n"
          ]
        }
      ]
    },
    {
      "cell_type": "code",
      "source": [
        "#test\n",
        "\n",
        "predict_class_test = clf.predict(x_test_tfv.tocsc())\n",
        "predictions = clf.predict_proba(x_test_tfv.tocsc())"
      ],
      "metadata": {
        "id": "39iUkamQzX32"
      },
      "execution_count": null,
      "outputs": []
    },
    {
      "cell_type": "code",
      "source": [
        "#Generate the confusion matrix\n",
        "cf_matrix = confusion_matrix(y_test, predict_class_test)\n",
        "\n",
        "ax = sns.heatmap(cf_matrix/np.sum(cf_matrix), annot=True, \n",
        "            fmt='.2%', cmap='Reds')\n",
        "\n",
        "ax.set_title('XGBOOST TFIDF\\n\\n');\n",
        "ax.set_xlabel('\\nPredicted Values')\n",
        "ax.set_ylabel('Actual Values ');\n",
        "\n",
        "## Ticket labels - List must be in alphabetical order\n",
        "ax.xaxis.set_ticklabels(['Assignment', 'Course','Instructor','Other'])\n",
        "ax.yaxis.set_ticklabels(['Assignment', 'Course','Instructor','Other'])\n",
        "\n",
        "## Display the vis"
      ],
      "metadata": {
        "colab": {
          "base_uri": "https://localhost:8080/",
          "height": 406
        },
        "id": "7S0McJeXzpPJ",
        "outputId": "5de56c40-351a-4ce2-bf45-b775deabc9f5"
      },
      "execution_count": null,
      "outputs": [
        {
          "output_type": "execute_result",
          "data": {
            "text/plain": [
              "[Text(0, 0.5, 'Assignment'),\n",
              " Text(0, 1.5, 'Course'),\n",
              " Text(0, 2.5, 'Instructor'),\n",
              " Text(0, 3.5, 'Other')]"
            ]
          },
          "metadata": {},
          "execution_count": 45
        },
        {
          "output_type": "display_data",
          "data": {
            "text/plain": [
              "<Figure size 432x288 with 2 Axes>"
            ],
            "image/png": "[encoded data removed]"
          },
          "metadata": {
            "needs_background": "light"
          }
        }
      ]
    },
    {
      "cell_type": "code",
      "source": [
        "precision_recall_fscore_support(y_test, predict_class_test, average='weighted')\n",
        "print('XGBOOST TFIDF\\nPrecision =',precision_recall_fscore_support(y_test, predict_class_test, average='weighted')[0])\n",
        "print('Recall =',precision_recall_fscore_support(y_test, predict_class_test, average='weighted')[1])\n",
        "print('F1 Score =',precision_recall_fscore_support(y_test, predict_class_test, average='weighted')[2])\n",
        "print (\"logloss: %0.3f \" % multiclass_logloss(y_test, predictions))"
      ],
      "metadata": {
        "colab": {
          "base_uri": "https://localhost:8080/"
        },
        "id": "BR5Zddp4zrmR",
        "outputId": "c246a52f-e0e7-42d0-8e90-44830feca12a"
      },
      "execution_count": null,
      "outputs": [
        {
          "output_type": "stream",
          "name": "stdout",
          "text": [
            "XGBOOST TFIDF\n",
            "Precision = 0.8010245533503024\n",
            "Recall = 0.8337609030271934\n",
            "F1 Score = 0.8054173521275534\n",
            "logloss: 0.636 \n"
          ]
        }
      ]
    },
    {
      "cell_type": "code",
      "source": [
        "# Fitting a simple xgboost on CTV\n",
        "clf = xgb.XGBClassifier(max_depth=7, n_estimators=200, colsample_bytree=0.8, \n",
        "                        subsample=0.8, nthread=10, learning_rate=0.1)\n",
        "clf.fit(xtrain_ctv.tocsc(), ytrain)\n",
        "predictions = clf.predict_proba(xvalid_ctv.tocsc())\n",
        "\n",
        "print (\"logloss: %0.3f \" % multiclass_logloss(yvalid, predictions))"
      ],
      "metadata": {
        "colab": {
          "base_uri": "https://localhost:8080/"
        },
        "id": "4Gxzi3cwfJAF",
        "outputId": "3e86315d-6d39-4595-d9a6-0684cbf1f293"
      },
      "execution_count": null,
      "outputs": [
        {
          "output_type": "stream",
          "name": "stdout",
          "text": [
            "logloss: 0.156 \n"
          ]
        }
      ]
    },
    {
      "cell_type": "code",
      "source": [
        "#test\n",
        "\n",
        "predict_class_test = clf.predict(x_test_ctv.tocsc())\n",
        "predictions = clf.predict_proba(x_test_ctv.tocsc())\n",
        "\n",
        "#Generate the confusion matrix\n",
        "cf_matrix = confusion_matrix(y_test, predict_class_test)\n",
        "\n",
        "ax = sns.heatmap(cf_matrix/np.sum(cf_matrix), annot=True, \n",
        "            fmt='.2%', cmap='Reds')\n",
        "\n",
        "ax.set_title('XGBOOST CTV\\n\\n');\n",
        "ax.set_xlabel('\\nPredicted Values')\n",
        "ax.set_ylabel('Actual Values ');\n",
        "\n",
        "## Ticket labels - List must be in alphabetical order\n",
        "ax.xaxis.set_ticklabels(['Assignment', 'Course','Instructor','Other'])\n",
        "ax.yaxis.set_ticklabels(['Assignment', 'Course','Instructor','Other'])\n",
        "\n",
        "## Display the vis"
      ],
      "metadata": {
        "colab": {
          "base_uri": "https://localhost:8080/",
          "height": 406
        },
        "id": "asCpAPG_0r_w",
        "outputId": "5c492134-6eb6-40d9-c44d-d554914739ae"
      },
      "execution_count": null,
      "outputs": [
        {
          "output_type": "execute_result",
          "data": {
            "text/plain": [
              "[Text(0, 0.5, 'Assignment'),\n",
              " Text(0, 1.5, 'Course'),\n",
              " Text(0, 2.5, 'Instructor'),\n",
              " Text(0, 3.5, 'Other')]"
            ]
          },
          "metadata": {},
          "execution_count": 48
        },
        {
          "output_type": "display_data",
          "data": {
            "text/plain": [
              "<Figure size 432x288 with 2 Axes>"
            ],
            "image/png": "[encoded data removed]"
          },
          "metadata": {
            "needs_background": "light"
          }
        }
      ]
    },
    {
      "cell_type": "code",
      "source": [
        "precision_recall_fscore_support(y_test, predict_class_test, average='weighted')\n",
        "print('XGBOOST CTV\\nPrecision =',precision_recall_fscore_support(y_test, predict_class_test, average='weighted')[0])\n",
        "print('Recall =',precision_recall_fscore_support(y_test, predict_class_test, average='weighted')[1])\n",
        "print('F1 Score =',precision_recall_fscore_support(y_test, predict_class_test, average='weighted')[2])\n",
        "print (\"logloss: %0.3f \" % multiclass_logloss(y_test, predictions))"
      ],
      "metadata": {
        "colab": {
          "base_uri": "https://localhost:8080/"
        },
        "id": "BWslged702dV",
        "outputId": "241f53c7-3673-4ba5-c490-5ef089dd5d44"
      },
      "execution_count": null,
      "outputs": [
        {
          "output_type": "stream",
          "name": "stdout",
          "text": [
            "XGBOOST CTV\n",
            "Precision = 0.8483223492710489\n",
            "Recall = 0.8486403283735249\n",
            "F1 Score = 0.8479407812828104\n",
            "logloss: 0.510 \n"
          ]
        }
      ]
    },
    {
      "cell_type": "markdown",
      "source": [
        "XGBOOST TFIDF SVD"
      ],
      "metadata": {
        "id": "MmO6j_wwfPEz"
      }
    },
    {
      "cell_type": "code",
      "source": [
        "# Fitting a simple xgboost on tf-idf svd features\n",
        "clf = xgb.XGBClassifier(max_depth=7, n_estimators=200, colsample_bytree=0.8, \n",
        "                        subsample=0.8, nthread=10, learning_rate=0.1)\n",
        "clf.fit(xtrain_svd, ytrain)\n",
        "predictions = clf.predict_proba(xvalid_svd)\n",
        "\n",
        "print (\"logloss: %0.3f \" % multiclass_logloss(yvalid, predictions))"
      ],
      "metadata": {
        "colab": {
          "base_uri": "https://localhost:8080/"
        },
        "id": "FD9hyVK6fOPc",
        "outputId": "9f86329c-8e52-46d7-dd12-6b59f39f4dd6"
      },
      "execution_count": null,
      "outputs": [
        {
          "output_type": "stream",
          "name": "stdout",
          "text": [
            "logloss: 0.030 \n"
          ]
        }
      ]
    },
    {
      "cell_type": "code",
      "source": [
        "#test\n",
        "\n",
        "predict_class_test = clf.predict(x_test_svd)\n",
        "predictions = clf.predict_proba(x_test_svd)\n",
        "\n",
        "#Generate the confusion matrix\n",
        "cf_matrix = confusion_matrix(y_test, predict_class_test)\n",
        "\n",
        "ax = sns.heatmap(cf_matrix/np.sum(cf_matrix), annot=True, \n",
        "            fmt='.2%', cmap='Reds')\n",
        "\n",
        "ax.set_title('XGBOOST TFIDF SVD\\n\\n');\n",
        "ax.set_xlabel('\\nPredicted Values')\n",
        "ax.set_ylabel('Actual Values ');\n",
        "\n",
        "## Ticket labels - List must be in alphabetical order\n",
        "ax.xaxis.set_ticklabels(['Assignment', 'Course','Instructor','Other'])\n",
        "ax.yaxis.set_ticklabels(['Assignment', 'Course','Instructor','Other'])\n",
        "\n",
        "## Display the vis"
      ],
      "metadata": {
        "colab": {
          "base_uri": "https://localhost:8080/",
          "height": 406
        },
        "id": "MTt_wVFM1wvc",
        "outputId": "2f026717-269f-4e6c-c6c5-9799adedff45"
      },
      "execution_count": null,
      "outputs": [
        {
          "output_type": "execute_result",
          "data": {
            "text/plain": [
              "[Text(0, 0.5, 'Assignment'),\n",
              " Text(0, 1.5, 'Course'),\n",
              " Text(0, 2.5, 'Instructor'),\n",
              " Text(0, 3.5, 'Other')]"
            ]
          },
          "metadata": {},
          "execution_count": 51
        },
        {
          "output_type": "display_data",
          "data": {
            "text/plain": [
              "<Figure size 432x288 with 2 Axes>"
            ],
            "image/png": "[encoded data removed]"
          },
          "metadata": {
            "needs_background": "light"
          }
        }
      ]
    },
    {
      "cell_type": "code",
      "source": [
        "precision_recall_fscore_support(y_test, predict_class_test, average='weighted')\n",
        "print('XGBOOST TFIDF SVD\\nPrecision =',precision_recall_fscore_support(y_test, predict_class_test, average='weighted')[0])\n",
        "print('Recall =',precision_recall_fscore_support(y_test, predict_class_test, average='weighted')[1])\n",
        "print('F1 Score =',precision_recall_fscore_support(y_test, predict_class_test, average='weighted')[2])\n",
        "print (\"logloss: %0.3f \" % multiclass_logloss(y_test, predictions))"
      ],
      "metadata": {
        "colab": {
          "base_uri": "https://localhost:8080/"
        },
        "id": "PzjoMzWV2zLH",
        "outputId": "fc93ef83-bfdd-45cc-d347-d01cfb2438ff"
      },
      "execution_count": null,
      "outputs": [
        {
          "output_type": "stream",
          "name": "stdout",
          "text": [
            "XGBOOST TFIDF SVD\n",
            "Precision = 0.805738506744966\n",
            "Recall = 0.8311954848640328\n",
            "F1 Score = 0.798014680336503\n",
            "logloss: 0.876 \n"
          ]
        }
      ]
    },
    {
      "cell_type": "code",
      "source": [
        "# Fitting a simple xgboost on tf-idf svd features\n",
        "clf = xgb.XGBClassifier(nthread=10)\n",
        "clf.fit(xtrain_svd, ytrain)\n",
        "predictions = clf.predict_proba(xvalid_svd)\n",
        "\n",
        "print (\"logloss: %0.3f \" % multiclass_logloss(yvalid, predictions))"
      ],
      "metadata": {
        "colab": {
          "base_uri": "https://localhost:8080/"
        },
        "id": "_1Ht7yDHfW67",
        "outputId": "8fef1122-a166-4992-fdac-e4ec18380361"
      },
      "execution_count": null,
      "outputs": [
        {
          "output_type": "stream",
          "name": "stdout",
          "text": [
            "logloss: 0.146 \n"
          ]
        }
      ]
    },
    {
      "cell_type": "code",
      "source": [
        "#test\n",
        "\n",
        "predict_class_test = clf.predict(x_test_svd)\n",
        "predictions = clf.predict_proba(x_test_svd)\n",
        "\n",
        "#Generate the confusion matrix\n",
        "cf_matrix = confusion_matrix(y_test, predict_class_test)\n",
        "\n",
        "ax = sns.heatmap(cf_matrix/np.sum(cf_matrix), annot=True, \n",
        "            fmt='.2%', cmap='Reds')\n",
        "\n",
        "ax.set_title('XGBOOST TFIDF SVD\\n\\n');\n",
        "ax.set_xlabel('\\nPredicted Values')\n",
        "ax.set_ylabel('Actual Values ');\n",
        "\n",
        "## Ticket labels - List must be in alphabetical order\n",
        "ax.xaxis.set_ticklabels(['Assignment', 'Course','Instructor','Other'])\n",
        "ax.yaxis.set_ticklabels(['Assignment', 'Course','Instructor','Other'])\n",
        "\n",
        "## Display the vis"
      ],
      "metadata": {
        "colab": {
          "base_uri": "https://localhost:8080/",
          "height": 406
        },
        "id": "fyaiat3X3Hph",
        "outputId": "d77f06d8-8027-4d33-a546-b387e83d3dfe"
      },
      "execution_count": null,
      "outputs": [
        {
          "output_type": "execute_result",
          "data": {
            "text/plain": [
              "[Text(0, 0.5, 'Assignment'),\n",
              " Text(0, 1.5, 'Course'),\n",
              " Text(0, 2.5, 'Instructor'),\n",
              " Text(0, 3.5, 'Other')]"
            ]
          },
          "metadata": {},
          "execution_count": 54
        },
        {
          "output_type": "display_data",
          "data": {
            "text/plain": [
              "<Figure size 432x288 with 2 Axes>"
            ],
            "image/png": "[encoded data removed]"
          },
          "metadata": {
            "needs_background": "light"
          }
        }
      ]
    },
    {
      "cell_type": "code",
      "source": [
        "precision_recall_fscore_support(y_test, predict_class_test, average='weighted')\n",
        "print('XGBOOST TFIDF SVD\\nPrecision =',precision_recall_fscore_support(y_test, predict_class_test, average='weighted')[0])\n",
        "print('Recall =',precision_recall_fscore_support(y_test, predict_class_test, average='weighted')[1])\n",
        "print('F1 Score =',precision_recall_fscore_support(y_test, predict_class_test, average='weighted')[2])\n",
        "print (\"logloss: %0.3f \" % multiclass_logloss(y_test, predictions))"
      ],
      "metadata": {
        "colab": {
          "base_uri": "https://localhost:8080/"
        },
        "id": "Jxmwd5783TYb",
        "outputId": "2b2eb6f9-d6d3-4124-aa00-36fcbce4e396"
      },
      "execution_count": null,
      "outputs": [
        {
          "output_type": "stream",
          "name": "stdout",
          "text": [
            "XGBOOST TFIDF SVD\n",
            "Precision = 0.8057919718386625\n",
            "Recall = 0.8245253976398152\n",
            "F1 Score = 0.8126562913777737\n",
            "logloss: 0.570 \n"
          ]
        }
      ]
    },
    {
      "cell_type": "markdown",
      "source": [
        "Grid Search"
      ],
      "metadata": {
        "id": "BVsosG-gfwti"
      }
    },
    {
      "cell_type": "code",
      "source": [
        "mll_scorer = metrics.make_scorer(multiclass_logloss, greater_is_better=False, needs_proba=True)"
      ],
      "metadata": {
        "id": "y1q3bPCsfxKa"
      },
      "execution_count": null,
      "outputs": []
    },
    {
      "cell_type": "code",
      "source": [
        "# Initialize SVD\n",
        "svd = TruncatedSVD()\n",
        "    \n",
        "# Initialize the standard scaler \n",
        "scl = preprocessing.StandardScaler()\n",
        "\n",
        "# We will use logistic regression here..\n",
        "lr_model = LogisticRegression()\n",
        "\n",
        "# Create the pipeline \n",
        "clf = pipeline.Pipeline([('svd', svd),\n",
        "                         ('scl', scl),\n",
        "                         ('lr', lr_model)])"
      ],
      "metadata": {
        "id": "N1J8Rmn3f0J4"
      },
      "execution_count": null,
      "outputs": []
    },
    {
      "cell_type": "code",
      "source": [
        "param_grid = {'svd__n_components' : [100, 120 ,140 ,160 ,180 , 200],\n",
        "              'lr__C': [0.1, 1.0, 10, 100], \n",
        "              'lr__penalty': ['l1', 'l2']}"
      ],
      "metadata": {
        "id": "Fqwuz_Rzf4K2"
      },
      "execution_count": null,
      "outputs": []
    },
    {
      "cell_type": "code",
      "source": [
        "# Initialize Grid Search Model\n",
        "model = GridSearchCV(estimator=clf, param_grid=param_grid, scoring=mll_scorer,\n",
        "                                 verbose=10, n_jobs=-1, refit=True, cv=2)\n",
        "\n",
        "# Fit Grid Search Model\n",
        "model.fit(x_test_tfv, y_test)  # we can use the full data here but im only using xtrain\n",
        "print(\"Best score: %0.3f\" % model.best_score_)\n",
        "print(\"Best parameters set:\")\n",
        "best_parameters = model.best_estimator_.get_params()\n",
        "for param_name in sorted(param_grid.keys()):\n",
        "    print(\"\\t%s: %r\" % (param_name, best_parameters[param_name]))"
      ],
      "metadata": {
        "colab": {
          "base_uri": "https://localhost:8080/"
        },
        "id": "a1bb_AtSf4rS",
        "outputId": "8698dd6c-409f-4caf-ffb4-295d783eb331"
      },
      "execution_count": null,
      "outputs": [
        {
          "output_type": "stream",
          "name": "stdout",
          "text": [
            "Fitting 2 folds for each of 48 candidates, totalling 96 fits\n"
          ]
        },
        {
          "output_type": "stream",
          "name": "stderr",
          "text": [
            "/usr/local/lib/python3.7/dist-packages/sklearn/model_selection/_validation.py:372: FitFailedWarning: \n",
            "48 fits failed out of a total of 96.\n",
            "The score on these train-test partitions for these parameters will be set to nan.\n",
            "If these failures are not expected, you can try to debug them by setting error_score='raise'.\n",
            "\n",
            "Below are more details about the failures:\n",
            "--------------------------------------------------------------------------------\n",
            "48 fits failed with the following error:\n",
            "Traceback (most recent call last):\n",
            "  File \"/usr/local/lib/python3.7/dist-packages/sklearn/model_selection/_validation.py\", line 680, in _fit_and_score\n",
            "    estimator.fit(X_train, y_train, **fit_params)\n",
            "  File \"/usr/local/lib/python3.7/dist-packages/sklearn/pipeline.py\", line 394, in fit\n",
            "    self._final_estimator.fit(Xt, y, **fit_params_last_step)\n",
            "  File \"/usr/local/lib/python3.7/dist-packages/sklearn/linear_model/_logistic.py\", line 1461, in fit\n",
            "    solver = _check_solver(self.solver, self.penalty, self.dual)\n",
            "  File \"/usr/local/lib/python3.7/dist-packages/sklearn/linear_model/_logistic.py\", line 449, in _check_solver\n",
            "    % (solver, penalty)\n",
            "ValueError: Solver lbfgs supports only 'l2' or 'none' penalties, got l1 penalty.\n",
            "\n",
            "  warnings.warn(some_fits_failed_message, FitFailedWarning)\n",
            "/usr/local/lib/python3.7/dist-packages/sklearn/model_selection/_search.py:972: UserWarning: One or more of the test scores are non-finite: [        nan         nan         nan         nan         nan         nan\n",
            " -0.557061   -0.57074372 -0.58554761 -0.58004317 -0.60489091 -0.59751883\n",
            "         nan         nan         nan         nan         nan         nan\n",
            " -0.7340549  -0.80473747 -0.93285895 -0.97709538 -0.98529453 -0.99689529\n",
            "         nan         nan         nan         nan         nan         nan\n",
            " -0.87723297 -1.16803064 -1.84293824 -1.98442068 -2.04351206 -1.8739951\n",
            "         nan         nan         nan         nan         nan         nan\n",
            " -1.09653433 -1.690441   -3.62067044 -3.55131883 -3.12306503 -2.85955246]\n",
            "  category=UserWarning,\n"
          ]
        },
        {
          "output_type": "stream",
          "name": "stdout",
          "text": [
            "Best score: -0.557\n",
            "Best parameters set:\n",
            "\tlr__C: 0.1\n",
            "\tlr__penalty: 'l2'\n",
            "\tsvd__n_components: 100\n"
          ]
        }
      ]
    },
    {
      "cell_type": "code",
      "source": [
        "nb_model = MultinomialNB()\n",
        "\n",
        "# Create the pipeline \n",
        "clf = pipeline.Pipeline([('nb', nb_model)])\n",
        "\n",
        "# parameter grid\n",
        "param_grid = {'nb__alpha': [0.001, 0.01, 0.1, 1, 10, 100]}\n",
        "\n",
        "# Initialize Grid Search Model\n",
        "model = GridSearchCV(estimator=clf, param_grid=param_grid, scoring=mll_scorer,\n",
        "                                 verbose=10, n_jobs=-1, refit=True, cv=2)\n",
        "\n",
        "# Fit Grid Search Model\n",
        "model.fit(x_test_tfv, y_test)  # we can use the full data here but im only using xtrain. \n",
        "print(\"Best score: %0.3f\" % model.best_score_)\n",
        "print(\"Best parameters set:\")\n",
        "best_parameters = model.best_estimator_.get_params()\n",
        "for param_name in sorted(param_grid.keys()):\n",
        "    print(\"\\t%s: %r\" % (param_name, best_parameters[param_name]))"
      ],
      "metadata": {
        "colab": {
          "base_uri": "https://localhost:8080/"
        },
        "id": "aLTEip9oga0B",
        "outputId": "cb4707b9-6aff-401f-d299-96dd3846410c"
      },
      "execution_count": null,
      "outputs": [
        {
          "output_type": "stream",
          "name": "stdout",
          "text": [
            "Fitting 2 folds for each of 6 candidates, totalling 12 fits\n",
            "Best score: -0.646\n",
            "Best parameters set:\n",
            "\tnb__alpha: 10\n"
          ]
        }
      ]
    },
    {
      "cell_type": "markdown",
      "source": [
        "Word Vectors"
      ],
      "metadata": {
        "id": "lfmZi-pegtcS"
      }
    },
    {
      "cell_type": "code",
      "source": [
        "!wget http://nlp.stanford.edu/data/glove.6B.zip\n",
        "!unzip glove*.zip\n",
        "\n",
        "# load the GloVe vectors in a dictionary:\n",
        "\n",
        "embeddings_index = {}\n",
        "f = open('/content/glove.6B.300d.txt')\n",
        "for line in tqdm(f):\n",
        "    values = line.split()\n",
        "    word = values[0]\n",
        "    coefs = np.asarray(values[1:], dtype='float32')\n",
        "    embeddings_index[word] = coefs\n",
        "f.close()\n",
        "\n",
        "print('Found %s word vectors.' % len(embeddings_index))\n",
        "\n",
        "# this function creates a normalized vector for the whole sentence\n",
        "def sent2vec(s):\n",
        "    words = str(s).lower()\n",
        "    words = word_tokenize(words)\n",
        "    words = [w for w in words if not w in stop_words]\n",
        "    words = [w for w in words if w.isalpha()]\n",
        "    M = []\n",
        "    for w in words:\n",
        "        try:\n",
        "            M.append(embeddings_index[w])\n",
        "        except:\n",
        "            continue\n",
        "    M = np.array(M)\n",
        "    v = M.sum(axis=0)\n",
        "    if type(v) != np.ndarray:\n",
        "        return np.zeros(300)\n",
        "    return v / np.sqrt((v ** 2).sum())\n",
        "\n",
        "nltk.download('punkt')\n",
        "\n",
        "# create sentence vectors using the above function for training and validation set\n",
        "xtrain_glove = [sent2vec(x) for x in tqdm(xtrain)]\n",
        "xvalid_glove = [sent2vec(x) for x in tqdm(xvalid)]\n",
        "x_test_glove = [sent2vec(x) for x in tqdm(x_test)]\n",
        "\n",
        "xtrain_glove = np.array(xtrain_glove)\n",
        "xvalid_glove = np.array(xvalid_glove)\n",
        "x_test_glove = np.array(x_test_glove)"
      ],
      "metadata": {
        "id": "R0S0vfWTzGo_"
      },
      "execution_count": null,
      "outputs": []
    },
    {
      "cell_type": "code",
      "source": [
        "!wget http://nlp.stanford.edu/data/glove.6B.zip"
      ],
      "metadata": {
        "id": "xly-TdJUgrHs"
      },
      "execution_count": null,
      "outputs": []
    },
    {
      "cell_type": "code",
      "source": [
        "!unzip glove*.zip"
      ],
      "metadata": {
        "id": "on4C9v7Pg2Xm"
      },
      "execution_count": null,
      "outputs": []
    },
    {
      "cell_type": "code",
      "source": [
        "# load the GloVe vectors in a dictionary:\n",
        "\n",
        "embeddings_index = {}\n",
        "f = open('/content/glove.6B.300d.txt')\n",
        "for line in tqdm(f):\n",
        "    values = line.split()\n",
        "    word = values[0]\n",
        "    coefs = np.asarray(values[1:], dtype='float32')\n",
        "    embeddings_index[word] = coefs\n",
        "f.close()\n",
        "\n",
        "print('Found %s word vectors.' % len(embeddings_index))"
      ],
      "metadata": {
        "colab": {
          "base_uri": "https://localhost:8080/"
        },
        "id": "tnRBZZ40g7eW",
        "outputId": "aad8a411-a076-4d6b-9266-818a77ae430f"
      },
      "execution_count": null,
      "outputs": [
        {
          "output_type": "stream",
          "name": "stderr",
          "text": [
            "400000it [00:22, 17986.56it/s]"
          ]
        },
        {
          "output_type": "stream",
          "name": "stdout",
          "text": [
            "Found 400000 word vectors.\n"
          ]
        },
        {
          "output_type": "stream",
          "name": "stderr",
          "text": [
            "\n"
          ]
        }
      ]
    },
    {
      "cell_type": "code",
      "source": [
        "# this function creates a normalized vector for the whole sentence\n",
        "def sent2vec(s):\n",
        "    words = str(s).lower()\n",
        "    words = word_tokenize(words)\n",
        "    words = [w for w in words if not w in stop_words]\n",
        "    words = [w for w in words if w.isalpha()]\n",
        "    M = []\n",
        "    for w in words:\n",
        "        try:\n",
        "            M.append(embeddings_index[w])\n",
        "        except:\n",
        "            continue\n",
        "    M = np.array(M)\n",
        "    v = M.sum(axis=0)\n",
        "    if type(v) != np.ndarray:\n",
        "        return np.zeros(300)\n",
        "    return v / np.sqrt((v ** 2).sum())"
      ],
      "metadata": {
        "id": "GPuU1QZpl9om"
      },
      "execution_count": null,
      "outputs": []
    },
    {
      "cell_type": "code",
      "source": [
        "nltk.download('punkt')"
      ],
      "metadata": {
        "colab": {
          "base_uri": "https://localhost:8080/"
        },
        "id": "b3xPj0JenFX1",
        "outputId": "3363f8c3-db7e-45bd-c2d4-46649b69127a"
      },
      "execution_count": null,
      "outputs": [
        {
          "output_type": "stream",
          "name": "stdout",
          "text": [
            "[nltk_data] Downloading package punkt to /root/nltk_data...\n",
            "[nltk_data]   Unzipping tokenizers/punkt.zip.\n"
          ]
        },
        {
          "output_type": "execute_result",
          "data": {
            "text/plain": [
              "True"
            ]
          },
          "metadata": {},
          "execution_count": 65
        }
      ]
    },
    {
      "cell_type": "code",
      "source": [
        "# create sentence vectors using the above function for training and validation set\n",
        "xtrain_glove = [sent2vec(x) for x in tqdm(xtrain)]\n",
        "xvalid_glove = [sent2vec(x) for x in tqdm(xvalid)]\n",
        "x_test_glove = [sent2vec(x) for x in tqdm(x_test)]"
      ],
      "metadata": {
        "colab": {
          "base_uri": "https://localhost:8080/"
        },
        "id": "2rhWr4cdmCIZ",
        "outputId": "30497d7f-e1d7-4402-a60e-082ef894a66f"
      },
      "execution_count": null,
      "outputs": [
        {
          "output_type": "stream",
          "name": "stderr",
          "text": [
            "100%|██████████| 8938/8938 [00:01<00:00, 4564.47it/s]\n",
            "100%|██████████| 994/994 [00:00<00:00, 4824.46it/s]\n",
            "100%|██████████| 1949/1949 [00:00<00:00, 4326.61it/s]\n"
          ]
        }
      ]
    },
    {
      "cell_type": "code",
      "source": [
        "xtrain_glove = np.array(xtrain_glove)\n",
        "xvalid_glove = np.array(xvalid_glove)\n",
        "x_test_glove = np.array(x_test_glove)"
      ],
      "metadata": {
        "id": "7BDOCIZPnHwZ"
      },
      "execution_count": null,
      "outputs": []
    },
    {
      "cell_type": "markdown",
      "source": [
        "# Fitting a simple xgboost on glove features"
      ],
      "metadata": {
        "id": "ljfT0TICoxej"
      }
    },
    {
      "cell_type": "code",
      "source": [
        "# Fitting a simple xgboost on glove features\n",
        "clf = xgb.XGBClassifier(nthread=10, silent=False)\n",
        "clf.fit(xtrain_glove, ytrain)\n",
        "predictions = clf.predict_proba(xvalid_glove)\n",
        "\n",
        "print (\"logloss: %0.3f \" % multiclass_logloss(yvalid, predictions))"
      ],
      "metadata": {
        "colab": {
          "base_uri": "https://localhost:8080/"
        },
        "id": "OAPn5tPdnNDn",
        "outputId": "b8e23e16-1e68-440e-b8b9-7ee4d1ab9820"
      },
      "execution_count": null,
      "outputs": [
        {
          "output_type": "stream",
          "name": "stdout",
          "text": [
            "logloss: 0.147 \n"
          ]
        }
      ]
    },
    {
      "cell_type": "code",
      "source": [
        "#test\n",
        "\n",
        "predict_class_test = clf.predict(x_test_glove)\n",
        "predictions = clf.predict_proba(x_test_glove)\n",
        "\n",
        "#Generate the confusion matrix\n",
        "cf_matrix = confusion_matrix(y_test, predict_class_test)\n",
        "\n",
        "ax = sns.heatmap(cf_matrix/np.sum(cf_matrix), annot=True, \n",
        "            fmt='.2%', cmap='Reds')\n",
        "\n",
        "ax.set_title('XGBOOST GLOVE\\n\\n');\n",
        "ax.set_xlabel('\\nPredicted Values')\n",
        "ax.set_ylabel('Actual Values ');\n",
        "\n",
        "## Ticket labels - List must be in alphabetical order\n",
        "ax.xaxis.set_ticklabels(['Assignment', 'Course','Instructor','Other'])\n",
        "ax.yaxis.set_ticklabels(['Assignment', 'Course','Instructor','Other'])\n",
        "\n",
        "## Display the vis"
      ],
      "metadata": {
        "colab": {
          "base_uri": "https://localhost:8080/",
          "height": 406
        },
        "id": "xL67cdP583-V",
        "outputId": "a1d32bb2-588e-4f6b-b1fb-de8991d2fe4b"
      },
      "execution_count": null,
      "outputs": [
        {
          "output_type": "execute_result",
          "data": {
            "text/plain": [
              "[Text(0, 0.5, 'Assignment'),\n",
              " Text(0, 1.5, 'Course'),\n",
              " Text(0, 2.5, 'Instructor'),\n",
              " Text(0, 3.5, 'Other')]"
            ]
          },
          "metadata": {},
          "execution_count": 69
        },
        {
          "output_type": "display_data",
          "data": {
            "text/plain": [
              "<Figure size 432x288 with 2 Axes>"
            ],
            "image/png": "[encoded data removed]"
          },
          "metadata": {
            "needs_background": "light"
          }
        }
      ]
    },
    {
      "cell_type": "code",
      "source": [
        "precision_recall_fscore_support(y_test, predict_class_test, average='weighted')\n",
        "print('XGBOOST GLOVE\\nPrecision =',precision_recall_fscore_support(y_test, predict_class_test, average='weighted')[0])\n",
        "print('Recall =',precision_recall_fscore_support(y_test, predict_class_test, average='weighted')[1])\n",
        "print('F1 Score =',precision_recall_fscore_support(y_test, predict_class_test, average='weighted')[2])\n",
        "print (\"logloss: %0.3f \" % multiclass_logloss(y_test, predictions))"
      ],
      "metadata": {
        "colab": {
          "base_uri": "https://localhost:8080/"
        },
        "id": "LV1yFvvN-w4m",
        "outputId": "0d13cc4b-0542-45d2-e138-b9ffefef04fe"
      },
      "execution_count": null,
      "outputs": [
        {
          "output_type": "stream",
          "name": "stdout",
          "text": [
            "XGBOOST GLOVE\n",
            "Precision = 0.8191762383109302\n",
            "Recall = 0.8353001539250898\n",
            "F1 Score = 0.8271326312788227\n",
            "logloss: 0.495 \n"
          ]
        }
      ]
    },
    {
      "cell_type": "markdown",
      "source": [
        "Fitting a simple xgboost on glove features"
      ],
      "metadata": {
        "id": "DhucjnOAozlm"
      }
    },
    {
      "cell_type": "code",
      "source": [
        "# Fitting a simple xgboost on glove features\n",
        "clf = xgb.XGBClassifier(max_depth=7, n_estimators=200, colsample_bytree=0.8, \n",
        "                        subsample=0.8, nthread=10, learning_rate=0.1, silent=False)\n",
        "clf.fit(xtrain_glove, ytrain)\n",
        "predictions = clf.predict_proba(xvalid_glove)\n",
        "\n",
        "print (\"logloss: %0.3f \" % multiclass_logloss(yvalid, predictions))"
      ],
      "metadata": {
        "colab": {
          "base_uri": "https://localhost:8080/"
        },
        "id": "sEfQ9AiknPwP",
        "outputId": "ddcf7150-b5eb-4798-ee95-8d553d1170b4"
      },
      "execution_count": null,
      "outputs": [
        {
          "output_type": "stream",
          "name": "stdout",
          "text": [
            "logloss: 0.018 \n"
          ]
        }
      ]
    },
    {
      "cell_type": "code",
      "source": [
        "#test\n",
        "\n",
        "predict_class_test = clf.predict(x_test_glove)\n",
        "predictions = clf.predict_proba(x_test_glove)\n",
        "\n",
        "#Generate the confusion matrix\n",
        "cf_matrix = confusion_matrix(y_test, predict_class_test)\n",
        "\n",
        "ax = sns.heatmap(cf_matrix/np.sum(cf_matrix), annot=True, \n",
        "            fmt='.2%', cmap='Reds')\n",
        "\n",
        "ax.set_title('XGBOOST GLOVE\\n\\n');\n",
        "ax.set_xlabel('\\nPredicted Values')\n",
        "ax.set_ylabel('Actual Values ');\n",
        "\n",
        "## Ticket labels - List must be in alphabetical order\n",
        "ax.xaxis.set_ticklabels(['Assignment', 'Course','Instructor','Other'])\n",
        "ax.yaxis.set_ticklabels(['Assignment', 'Course','Instructor','Other'])\n",
        "\n",
        "## Display the vis"
      ],
      "metadata": {
        "colab": {
          "base_uri": "https://localhost:8080/",
          "height": 406
        },
        "id": "eE7BwSoF_Yfn",
        "outputId": "70530d93-b653-4afc-fb92-e026226f7f57"
      },
      "execution_count": null,
      "outputs": [
        {
          "output_type": "execute_result",
          "data": {
            "text/plain": [
              "[Text(0, 0.5, 'Assignment'),\n",
              " Text(0, 1.5, 'Course'),\n",
              " Text(0, 2.5, 'Instructor'),\n",
              " Text(0, 3.5, 'Other')]"
            ]
          },
          "metadata": {},
          "execution_count": 72
        },
        {
          "output_type": "display_data",
          "data": {
            "text/plain": [
              "<Figure size 432x288 with 2 Axes>"
            ],
            "image/png": "[encoded data removed]"
          },
          "metadata": {
            "needs_background": "light"
          }
        }
      ]
    },
    {
      "cell_type": "code",
      "source": [
        "precision_recall_fscore_support(y_test, predict_class_test, average='weighted')\n",
        "print('XGBOOST GLOVE\\nPrecision =',precision_recall_fscore_support(y_test, predict_class_test, average='weighted')[0])\n",
        "print('Recall =',precision_recall_fscore_support(y_test, predict_class_test, average='weighted')[1])\n",
        "print('F1 Score =',precision_recall_fscore_support(y_test, predict_class_test, average='weighted')[2])\n",
        "print (\"logloss: %0.3f \" % multiclass_logloss(y_test, predictions))"
      ],
      "metadata": {
        "colab": {
          "base_uri": "https://localhost:8080/"
        },
        "id": "E5m-QFSB_fd_",
        "outputId": "a246c992-9b2d-4e29-f1e2-10b165e003b7"
      },
      "execution_count": null,
      "outputs": [
        {
          "output_type": "stream",
          "name": "stdout",
          "text": [
            "XGBOOST GLOVE\n",
            "Precision = 0.8252615159045269\n",
            "Recall = 0.8532580810672139\n",
            "F1 Score = 0.8224264249564023\n",
            "logloss: 0.601 \n"
          ]
        },
        {
          "output_type": "stream",
          "name": "stderr",
          "text": [
            "/usr/local/lib/python3.7/dist-packages/sklearn/metrics/_classification.py:1318: UndefinedMetricWarning: Precision and F-score are ill-defined and being set to 0.0 in labels with no predicted samples. Use `zero_division` parameter to control this behavior.\n",
            "  _warn_prf(average, modifier, msg_start, len(result))\n",
            "/usr/local/lib/python3.7/dist-packages/sklearn/metrics/_classification.py:1318: UndefinedMetricWarning: Precision and F-score are ill-defined and being set to 0.0 in labels with no predicted samples. Use `zero_division` parameter to control this behavior.\n",
            "  _warn_prf(average, modifier, msg_start, len(result))\n",
            "/usr/local/lib/python3.7/dist-packages/sklearn/metrics/_classification.py:1318: UndefinedMetricWarning: Precision and F-score are ill-defined and being set to 0.0 in labels with no predicted samples. Use `zero_division` parameter to control this behavior.\n",
            "  _warn_prf(average, modifier, msg_start, len(result))\n",
            "/usr/local/lib/python3.7/dist-packages/sklearn/metrics/_classification.py:1318: UndefinedMetricWarning: Precision and F-score are ill-defined and being set to 0.0 in labels with no predicted samples. Use `zero_division` parameter to control this behavior.\n",
            "  _warn_prf(average, modifier, msg_start, len(result))\n"
          ]
        }
      ]
    },
    {
      "cell_type": "markdown",
      "source": [
        "Deep Learning"
      ],
      "metadata": {
        "id": "8ekcNPlmpHlh"
      }
    },
    {
      "cell_type": "code",
      "source": [
        "# scale the data before any neural net:\n",
        "scl = preprocessing.StandardScaler()\n",
        "xtrain_glove_scl = scl.fit_transform(xtrain_glove)\n",
        "xvalid_glove_scl = scl.transform(xvalid_glove)\n",
        "x_test_glove_scl = scl.transform(x_test_glove)"
      ],
      "metadata": {
        "id": "IR-ooGYuo91C"
      },
      "execution_count": null,
      "outputs": []
    },
    {
      "cell_type": "code",
      "source": [
        "# we need to binarize the labels for the neural net\n",
        "ytrain_enc = np_utils.to_categorical(ytrain)\n",
        "yvalid_enc = np_utils.to_categorical(yvalid)\n",
        "y_test_enc = np_utils.to_categorical(y_test)"
      ],
      "metadata": {
        "id": "EkY13aq8pOZG"
      },
      "execution_count": null,
      "outputs": []
    },
    {
      "cell_type": "code",
      "source": [
        "# create a simple 3 layer sequential neural net\n",
        "model = Sequential()\n",
        "\n",
        "model.add(Dense(300, input_dim=300, activation='relu'))\n",
        "model.add(Dropout(0.2))\n",
        "model.add(BatchNormalization())\n",
        "\n",
        "model.add(Dense(300, activation='relu'))\n",
        "model.add(Dropout(0.3))\n",
        "model.add(BatchNormalization())\n",
        "\n",
        "model.add(Dense(4))\n",
        "model.add(Activation('softmax'))\n",
        "\n",
        "# compile the model\n",
        "model.compile(loss='categorical_crossentropy', optimizer='adam')"
      ],
      "metadata": {
        "id": "iWI1QJm6pPNN"
      },
      "execution_count": null,
      "outputs": []
    },
    {
      "cell_type": "code",
      "source": [
        "model.fit(xtrain_glove_scl, y=ytrain_enc, batch_size=64, \n",
        "          epochs=5, verbose=1, \n",
        "          validation_data=(xvalid_glove_scl, yvalid_enc))"
      ],
      "metadata": {
        "colab": {
          "base_uri": "https://localhost:8080/"
        },
        "id": "ZnTIWbjjpW2b",
        "outputId": "778869e7-f25d-4768-f709-85fdc89b025a"
      },
      "execution_count": null,
      "outputs": [
        {
          "output_type": "stream",
          "name": "stdout",
          "text": [
            "Epoch 1/5\n",
            "140/140 [==============================] - 5s 5ms/step - loss: 0.3953 - val_loss: 0.1485\n",
            "Epoch 2/5\n",
            "140/140 [==============================] - 1s 4ms/step - loss: 0.1211 - val_loss: 0.0885\n",
            "Epoch 3/5\n",
            "140/140 [==============================] - 1s 4ms/step - loss: 0.0761 - val_loss: 0.0989\n",
            "Epoch 4/5\n",
            "140/140 [==============================] - 1s 4ms/step - loss: 0.0505 - val_loss: 0.0821\n",
            "Epoch 5/5\n",
            "140/140 [==============================] - 1s 4ms/step - loss: 0.0358 - val_loss: 0.0811\n"
          ]
        },
        {
          "output_type": "execute_result",
          "data": {
            "text/plain": [
              "<keras.callbacks.History at 0x7fece4f31350>"
            ]
          },
          "metadata": {},
          "execution_count": 77
        }
      ]
    },
    {
      "cell_type": "code",
      "source": [
        "model.summary()\n",
        "print (\"logloss: %0.3f \" % multiclass_logloss(yvalid_enc, model.predict(xvalid_glove_scl)))"
      ],
      "metadata": {
        "id": "a_epjSI2Gag0",
        "colab": {
          "base_uri": "https://localhost:8080/"
        },
        "outputId": "d12386dc-827c-4685-a16f-8e24a019d4af"
      },
      "execution_count": null,
      "outputs": [
        {
          "output_type": "stream",
          "name": "stdout",
          "text": [
            "Model: \"sequential\"\n",
            "_________________________________________________________________\n",
            " Layer (type)                Output Shape              Param #   \n",
            "=================================================================\n",
            " dense (Dense)               (None, 300)               90300     \n",
            "                                                                 \n",
            " dropout (Dropout)           (None, 300)               0         \n",
            "                                                                 \n",
            " batch_normalization (BatchN  (None, 300)              1200      \n",
            " ormalization)                                                   \n",
            "                                                                 \n",
            " dense_1 (Dense)             (None, 300)               90300     \n",
            "                                                                 \n",
            " dropout_1 (Dropout)         (None, 300)               0         \n",
            "                                                                 \n",
            " batch_normalization_1 (Batc  (None, 300)              1200      \n",
            " hNormalization)                                                 \n",
            "                                                                 \n",
            " dense_2 (Dense)             (None, 4)                 1204      \n",
            "                                                                 \n",
            " activation (Activation)     (None, 4)                 0         \n",
            "                                                                 \n",
            "=================================================================\n",
            "Total params: 184,204\n",
            "Trainable params: 183,004\n",
            "Non-trainable params: 1,200\n",
            "_________________________________________________________________\n",
            "logloss: 0.081 \n"
          ]
        }
      ]
    },
    {
      "cell_type": "markdown",
      "source": [
        "You need to keep on tuning the parameters of the neural network, add more layers, increase dropout to get better results. Here, I'm just showing that its fast to implement and run and gets better result than xgboost without any optimization :)\n",
        "\n",
        "To move further, i.e. with LSTMs we need to tokenize the text data"
      ],
      "metadata": {
        "id": "9dngnnu0pcEF"
      }
    },
    {
      "cell_type": "code",
      "source": [
        "print (\"logloss: %0.3f \" % multiclass_logloss(y_test_enc, model.predict(x_test_glove_scl)))"
      ],
      "metadata": {
        "colab": {
          "base_uri": "https://localhost:8080/"
        },
        "id": "2RdRcUdaA36H",
        "outputId": "f6a4842b-fd40-42b3-877c-429495923458"
      },
      "execution_count": null,
      "outputs": [
        {
          "output_type": "stream",
          "name": "stdout",
          "text": [
            "logloss: 0.785 \n"
          ]
        }
      ]
    },
    {
      "cell_type": "code",
      "source": [
        "model.predict(x_test_glove_scl)"
      ],
      "metadata": {
        "colab": {
          "base_uri": "https://localhost:8080/"
        },
        "id": "Pn20UzrtHucJ",
        "outputId": "2064823b-186a-4e4d-92e7-cf794834dcc1"
      },
      "execution_count": null,
      "outputs": [
        {
          "output_type": "execute_result",
          "data": {
            "text/plain": [
              "array([[6.9953827e-04, 9.6473390e-01, 3.4385223e-02, 1.8137075e-04],\n",
              "       [4.7326083e-07, 4.9779988e-05, 9.9993563e-01, 1.4091960e-05],\n",
              "       [3.7522975e-04, 9.9946207e-01, 1.4022007e-04, 2.2533630e-05],\n",
              "       ...,\n",
              "       [2.9467347e-07, 9.9999940e-01, 4.0116544e-07, 1.3225083e-09],\n",
              "       [1.5130978e-04, 9.9983728e-01, 9.7175407e-06, 1.7381899e-06],\n",
              "       [2.6460921e-05, 9.6936083e-01, 3.0610226e-02, 2.4482119e-06]],\n",
              "      dtype=float32)"
            ]
          },
          "metadata": {},
          "execution_count": 86
        }
      ]
    },
    {
      "cell_type": "code",
      "source": [
        "predictions = [np.argmax(i) for i in model.predict(x_test_glove_scl)]"
      ],
      "metadata": {
        "id": "LMaoZ1lgww53"
      },
      "execution_count": null,
      "outputs": []
    },
    {
      "cell_type": "code",
      "source": [
        "precision_recall_fscore_support(y_test, predictions, average='weighted')\n",
        "print('Simple Neural Network\\nPrecision =',precision_recall_fscore_support(y_test, predictions, average='weighted')[0])\n",
        "print('Recall =',precision_recall_fscore_support(y_test, predictions, average='weighted')[1])\n",
        "print('F1 Score =',precision_recall_fscore_support(y_test, predictions, average='weighted')[2])\n",
        "#print (\"logloss: %0.3f \" % multiclass_logloss(y_test, predictions))\n",
        "print (\"logloss: %0.3f \" % multiclass_logloss(y_test_enc, model.predict(x_test_glove_scl)))"
      ],
      "metadata": {
        "colab": {
          "base_uri": "https://localhost:8080/"
        },
        "id": "LJ9QLGVnx6Lh",
        "outputId": "c6b860df-aec6-46b0-e2ae-dc155a0bc4d7"
      },
      "execution_count": null,
      "outputs": [
        {
          "output_type": "stream",
          "name": "stdout",
          "text": [
            "Simple Neural Network\n",
            "Precision = 0.817536787119739\n",
            "Recall = 0.8429964084145716\n",
            "F1 Score = 0.8287531587456807\n",
            "logloss: 0.785 \n"
          ]
        }
      ]
    },
    {
      "cell_type": "code",
      "source": [
        "#test\n",
        "\n",
        "predict_class_test = [np.argmax(i) for i in model.predict(x_test_glove_scl)]\n",
        "predictions = model.predict(x_test_glove_scl)\n",
        "\n",
        "#Generate the confusion matrix\n",
        "cf_matrix = confusion_matrix(y_test, predict_class_test)\n",
        "\n",
        "ax = sns.heatmap(cf_matrix/np.sum(cf_matrix), annot=True, \n",
        "            fmt='.2%', cmap='Reds')\n",
        "\n",
        "ax.set_title('Simple NN GLOVE\\n\\n');\n",
        "ax.set_xlabel('\\nPredicted Values')\n",
        "ax.set_ylabel('Actual Values ');\n",
        "\n",
        "## Ticket labels - List must be in alphabetical order\n",
        "ax.xaxis.set_ticklabels(['Assignment', 'Course','Instructor','Other'])\n",
        "ax.yaxis.set_ticklabels(['Assignment', 'Course','Instructor','Other'])\n",
        "\n",
        "## Display the vis"
      ],
      "metadata": {
        "colab": {
          "base_uri": "https://localhost:8080/",
          "height": 406
        },
        "id": "DBIhVxnDzt_I",
        "outputId": "1d973894-b4f5-42e5-b711-6edc6b23be63"
      },
      "execution_count": null,
      "outputs": [
        {
          "output_type": "execute_result",
          "data": {
            "text/plain": [
              "[Text(0, 0.5, 'Assignment'),\n",
              " Text(0, 1.5, 'Course'),\n",
              " Text(0, 2.5, 'Instructor'),\n",
              " Text(0, 3.5, 'Other')]"
            ]
          },
          "metadata": {},
          "execution_count": 102
        },
        {
          "output_type": "display_data",
          "data": {
            "text/plain": [
              "<Figure size 432x288 with 2 Axes>"
            ],
            "image/png": "[encoded data removed]"
          },
          "metadata": {
            "needs_background": "light"
          }
        }
      ]
    },
    {
      "cell_type": "markdown",
      "source": [
        "LSTM Glove"
      ],
      "metadata": {
        "id": "TbMX-Pec0i1u"
      }
    },
    {
      "cell_type": "code",
      "source": [
        ""
      ],
      "metadata": {
        "id": "16mAUvRp0h0W"
      },
      "execution_count": null,
      "outputs": []
    },
    {
      "cell_type": "code",
      "source": [
        ""
      ],
      "metadata": {
        "id": "JwLdgNYR0hv6"
      },
      "execution_count": null,
      "outputs": []
    },
    {
      "cell_type": "code",
      "source": [
        ""
      ],
      "metadata": {
        "id": "jJyHfmwt0hrK"
      },
      "execution_count": null,
      "outputs": []
    },
    {
      "cell_type": "code",
      "source": [
        ""
      ],
      "metadata": {
        "id": "Dm0EN-kXzt8M"
      },
      "execution_count": null,
      "outputs": []
    },
    {
      "cell_type": "markdown",
      "source": [
        "using keras tokenizer here"
      ],
      "metadata": {
        "id": "VKogkgCEpnCK"
      }
    },
    {
      "cell_type": "code",
      "source": [
        "# using keras tokenizer here\n",
        "token = text.Tokenizer(num_words=None)\n",
        "max_len = 70\n",
        "\n",
        "token.fit_on_texts(list(xtrain) + list(xvalid) + list(x_test))\n",
        "xtrain_seq = token.texts_to_sequences(xtrain)\n",
        "xvalid_seq = token.texts_to_sequences(xvalid)\n",
        "x_test_seq = token.texts_to_sequences(x_test)\n",
        "\n",
        "# zero pad the sequences\n",
        "xtrain_pad = sequence.pad_sequences(xtrain_seq, maxlen=max_len)\n",
        "xvalid_pad = sequence.pad_sequences(xvalid_seq, maxlen=max_len)\n",
        "x_test_pad = sequence.pad_sequences(x_test_seq, maxlen=max_len)\n",
        "\n",
        "word_index = token.word_index"
      ],
      "metadata": {
        "id": "AL6OHnmzpcwI"
      },
      "execution_count": null,
      "outputs": []
    },
    {
      "cell_type": "code",
      "source": [
        "# create an embedding matrix for the words we have in the dataset\n",
        "embedding_matrix = np.zeros((len(word_index) + 1, 300))\n",
        "for word, i in tqdm(word_index.items()):\n",
        "    embedding_vector = embeddings_index.get(word)\n",
        "    if embedding_vector is not None:\n",
        "        embedding_matrix[i] = embedding_vector"
      ],
      "metadata": {
        "colab": {
          "base_uri": "https://localhost:8080/"
        },
        "id": "QhSuuhVipik-",
        "outputId": "d3c119e9-c630-4d31-f3b1-8cbe821b7f78"
      },
      "execution_count": null,
      "outputs": [
        {
          "output_type": "stream",
          "name": "stderr",
          "text": [
            "100%|██████████| 6553/6553 [00:00<00:00, 310694.45it/s]\n"
          ]
        }
      ]
    },
    {
      "cell_type": "code",
      "source": [
        "# A simple LSTM with glove embeddings and two dense layers\n",
        "model = Sequential()\n",
        "model.add(Embedding(len(word_index) + 1,\n",
        "                     300,\n",
        "                     weights=[embedding_matrix],\n",
        "                     input_length=max_len,\n",
        "                     trainable=False))\n",
        "model.add(SpatialDropout1D(0.3))\n",
        "model.add(LSTM(100, dropout=0.3, recurrent_dropout=0.3))\n",
        "\n",
        "model.add(Dense(1024, activation='relu'))\n",
        "model.add(Dropout(0.8))\n",
        "\n",
        "model.add(Dense(1024, activation='relu'))\n",
        "model.add(Dropout(0.8))\n",
        "\n",
        "model.add(Dense(4))\n",
        "model.add(Activation('softmax'))\n",
        "model.compile(loss='categorical_crossentropy', optimizer='adam')"
      ],
      "metadata": {
        "id": "7W70-xY5poQ8"
      },
      "execution_count": null,
      "outputs": []
    },
    {
      "cell_type": "code",
      "source": [
        "model.fit(xtrain_pad, y=ytrain_enc, batch_size=512, epochs=100, verbose=1, validation_data=(xvalid_pad, yvalid_enc))"
      ],
      "metadata": {
        "id": "bbaKvV88pwCh"
      },
      "execution_count": null,
      "outputs": []
    },
    {
      "cell_type": "code",
      "source": [
        "model.summary()\n",
        "print (\"logloss: %0.3f \" % multiclass_logloss(yvalid_enc, model.predict(xvalid_pad)))"
      ],
      "metadata": {
        "colab": {
          "base_uri": "https://localhost:8080/"
        },
        "id": "mI4z__rlGUu4",
        "outputId": "6d232f38-100b-4ede-be00-34e3095f4f6c"
      },
      "execution_count": null,
      "outputs": [
        {
          "output_type": "stream",
          "name": "stdout",
          "text": [
            "Model: \"sequential_2\"\n",
            "_________________________________________________________________\n",
            " Layer (type)                Output Shape              Param #   \n",
            "=================================================================\n",
            " embedding (Embedding)       (None, 70, 300)           1966200   \n",
            "                                                                 \n",
            " spatial_dropout1d (SpatialD  (None, 70, 300)          0         \n",
            " ropout1D)                                                       \n",
            "                                                                 \n",
            " lstm (LSTM)                 (None, 100)               160400    \n",
            "                                                                 \n",
            " dense_3 (Dense)             (None, 1024)              103424    \n",
            "                                                                 \n",
            " dropout_2 (Dropout)         (None, 1024)              0         \n",
            "                                                                 \n",
            " dense_4 (Dense)             (None, 1024)              1049600   \n",
            "                                                                 \n",
            " dropout_3 (Dropout)         (None, 1024)              0         \n",
            "                                                                 \n",
            " dense_5 (Dense)             (None, 4)                 4100      \n",
            "                                                                 \n",
            " activation_1 (Activation)   (None, 4)                 0         \n",
            "                                                                 \n",
            "=================================================================\n",
            "Total params: 3,283,724\n",
            "Trainable params: 1,317,524\n",
            "Non-trainable params: 1,966,200\n",
            "_________________________________________________________________\n",
            "logloss: 0.172 \n"
          ]
        }
      ]
    },
    {
      "cell_type": "code",
      "source": [
        "predictions = [np.argmax(i) for i in model.predict(x_test_pad)]"
      ],
      "metadata": {
        "id": "lwgvPPvh4ONG"
      },
      "execution_count": null,
      "outputs": []
    },
    {
      "cell_type": "code",
      "source": [
        "precision_recall_fscore_support(y_test, predictions, average='weighted')\n",
        "print('LSTM keras tokenizer\\nPrecision =',precision_recall_fscore_support(y_test, predictions, average='weighted')[0])\n",
        "print('Recall =',precision_recall_fscore_support(y_test, predictions, average='weighted')[1])\n",
        "print('F1 Score =',precision_recall_fscore_support(y_test, predictions, average='weighted')[2])\n",
        "#print (\"logloss: %0.3f \" % multiclass_logloss(y_test, predictions))\n",
        "print (\"logloss: %0.3f \" % multiclass_logloss(y_test_enc, model.predict(x_test_pad)))"
      ],
      "metadata": {
        "colab": {
          "base_uri": "https://localhost:8080/"
        },
        "id": "PWnYNbcd5GrB",
        "outputId": "e6ddc353-0964-40d0-f4d3-d020e17af7af"
      },
      "execution_count": null,
      "outputs": [
        {
          "output_type": "stream",
          "name": "stdout",
          "text": [
            "LSTM keras tokenizer\n",
            "Precision = 0.848605211953348\n",
            "Recall = 0.8594150846587993\n",
            "F1 Score = 0.8521253781665513\n",
            "logloss: 1.648 \n"
          ]
        }
      ]
    },
    {
      "cell_type": "code",
      "source": [
        "print (\"logloss: %0.3f \" % multiclass_logloss(y_test_enc, model.predict(x_test_pad)))"
      ],
      "metadata": {
        "colab": {
          "base_uri": "https://localhost:8080/"
        },
        "id": "VOiaU7fu5evH",
        "outputId": "8b93cbfd-7f55-42c5-a9d3-c1bed568a0bc"
      },
      "execution_count": null,
      "outputs": [
        {
          "output_type": "stream",
          "name": "stdout",
          "text": [
            "logloss: 1.648 \n"
          ]
        }
      ]
    },
    {
      "cell_type": "code",
      "source": [
        "#test\n",
        "\n",
        "predict_class_test = [np.argmax(i) for i in model.predict(x_test_pad)]\n",
        "predictions = model.predict(x_test_pad)\n",
        "\n",
        "#Generate the confusion matrix\n",
        "cf_matrix = confusion_matrix(y_test, predict_class_test)\n",
        "\n",
        "ax = sns.heatmap(cf_matrix/np.sum(cf_matrix), annot=True, \n",
        "            fmt='.2%', cmap='Reds')\n",
        "\n",
        "ax.set_title('LSTM Keras\\n\\n');\n",
        "ax.set_xlabel('\\nPredicted Values')\n",
        "ax.set_ylabel('Actual Values ');\n",
        "\n",
        "## Ticket labels - List must be in alphabetical order\n",
        "ax.xaxis.set_ticklabels(['Assignment', 'Course','Instructor','Other'])\n",
        "ax.yaxis.set_ticklabels(['Assignment', 'Course','Instructor','Other'])\n",
        "\n",
        "## Display the vis"
      ],
      "metadata": {
        "colab": {
          "base_uri": "https://localhost:8080/",
          "height": 406
        },
        "id": "LjrgnTy2516G",
        "outputId": "75cc73a6-8547-415e-b4ab-55740374b7e5"
      },
      "execution_count": null,
      "outputs": [
        {
          "output_type": "execute_result",
          "data": {
            "text/plain": [
              "[Text(0, 0.5, 'Assignment'),\n",
              " Text(0, 1.5, 'Course'),\n",
              " Text(0, 2.5, 'Instructor'),\n",
              " Text(0, 3.5, 'Other')]"
            ]
          },
          "metadata": {},
          "execution_count": 117
        },
        {
          "output_type": "display_data",
          "data": {
            "text/plain": [
              "<Figure size 432x288 with 2 Axes>"
            ],
            "image/png": "[encoded data removed]"
          },
          "metadata": {
            "needs_background": "light"
          }
        }
      ]
    },
    {
      "cell_type": "markdown",
      "source": [
        "LSTM Glove"
      ],
      "metadata": {
        "id": "_iTuS9Y76t8C"
      }
    },
    {
      "cell_type": "code",
      "source": [
        "EMBEDDING_FILE=f'/content/glove.6B.300d.txt'"
      ],
      "metadata": {
        "id": "lha9m4IG9pfy"
      },
      "execution_count": null,
      "outputs": []
    },
    {
      "cell_type": "code",
      "source": [
        "def get_coefs(word,*arr): return word, np.asarray(arr, dtype='float32')\n",
        "embeddings_index = dict(get_coefs(*o.strip().split()) for o in open(EMBEDDING_FILE))"
      ],
      "metadata": {
        "id": "zv0Tv4o9812u"
      },
      "execution_count": null,
      "outputs": []
    },
    {
      "cell_type": "code",
      "source": [
        "all_embs = np.stack(embeddings_index.values())\n",
        "emb_mean,emb_std = all_embs.mean(), all_embs.std()\n",
        "emb_mean,emb_std"
      ],
      "metadata": {
        "colab": {
          "base_uri": "https://localhost:8080/"
        },
        "id": "ZsDBaAKV-KIC",
        "outputId": "54fac626-0813-48ed-a124-3d19890c2f64"
      },
      "execution_count": null,
      "outputs": [
        {
          "output_type": "stream",
          "name": "stderr",
          "text": [
            "/usr/local/lib/python3.7/dist-packages/IPython/core/interactiveshell.py:2822: FutureWarning: arrays to stack must be passed as a \"sequence\" type such as list or tuple. Support for non-sequence iterables such as generators is deprecated as of NumPy 1.16 and will raise an error in the future.\n",
            "  if self.run_code(code, result):\n"
          ]
        },
        {
          "output_type": "execute_result",
          "data": {
            "text/plain": [
              "(-0.0039050116, 0.38177028)"
            ]
          },
          "metadata": {},
          "execution_count": 130
        }
      ]
    },
    {
      "cell_type": "code",
      "source": [
        "from keras.layers import Dense, Input, LSTM, Embedding, Dropout, Activation\n",
        "from keras.layers import Bidirectional, GlobalMaxPool1D\n",
        "maxlen = 300\n",
        "max_features = len(word_index) + 1\n",
        "embed_size = 300"
      ],
      "metadata": {
        "id": "Jmwj3cIl-dYn"
      },
      "execution_count": null,
      "outputs": []
    },
    {
      "cell_type": "code",
      "source": [
        "inp = Input(shape=(maxlen,))\n",
        "x = Embedding(max_features, embed_size, weights=[embedding_matrix])(inp)\n",
        "x = Bidirectional(LSTM(100, return_sequences=True, dropout=0.3, recurrent_dropout=0.3))(x)\n",
        "x = GlobalMaxPool1D()(x)\n",
        "x = Dense(1024, activation=\"relu\")(x)\n",
        "x = Dropout(0.8)(x)\n",
        "\n",
        "x = Dense(1024, activation=\"relu\")(x)\n",
        "x = Dropout(0.8)(x)\n",
        "\n",
        "x = Dense(4, activation=\"softmax\")(x)\n",
        "model = Model(inputs=inp, outputs=x)\n",
        "model.compile(loss='categorical_crossentropy', optimizer='adam', metrics=['accuracy'])"
      ],
      "metadata": {
        "colab": {
          "base_uri": "https://localhost:8080/"
        },
        "id": "zZCCwibf-ZMK",
        "outputId": "0471f793-42fd-436d-a063-720c02232cc5"
      },
      "execution_count": null,
      "outputs": [
        {
          "output_type": "stream",
          "name": "stdout",
          "text": [
            "WARNING:tensorflow:Layer lstm_4 will not use cuDNN kernels since it doesn't meet the criteria. It will use a generic GPU kernel as fallback when running on GPU.\n",
            "WARNING:tensorflow:Layer lstm_4 will not use cuDNN kernels since it doesn't meet the criteria. It will use a generic GPU kernel as fallback when running on GPU.\n",
            "WARNING:tensorflow:Layer lstm_4 will not use cuDNN kernels since it doesn't meet the criteria. It will use a generic GPU kernel as fallback when running on GPU.\n"
          ]
        }
      ]
    },
    {
      "cell_type": "code",
      "source": [
        "model.fit(xtrain_glove_scl, y=ytrain_enc, batch_size=512, epochs=100, verbose=1, \n",
        "          validation_data=(xvalid_glove_scl, yvalid_enc))"
      ],
      "metadata": {
        "colab": {
          "base_uri": "https://localhost:8080/"
        },
        "id": "uycZd2pbA-E3",
        "outputId": "2c168649-6edd-4e60-d799-bb4075ce1c1d"
      },
      "execution_count": null,
      "outputs": [
        {
          "output_type": "stream",
          "name": "stdout",
          "text": [
            "Epoch 1/100\n",
            "18/18 [==============================] - 102s 3s/step - loss: 1.3820 - accuracy: 0.2841 - val_loss: 1.3112 - val_accuracy: 0.3924\n",
            "Epoch 2/100\n",
            "18/18 [==============================] - 47s 3s/step - loss: 1.2955 - accuracy: 0.3688 - val_loss: 1.2725 - val_accuracy: 0.3763\n",
            "Epoch 3/100\n",
            "18/18 [==============================] - 47s 3s/step - loss: 1.2736 - accuracy: 0.3678 - val_loss: 1.2555 - val_accuracy: 0.4135\n",
            "Epoch 4/100\n",
            "18/18 [==============================] - 48s 3s/step - loss: 1.2517 - accuracy: 0.3830 - val_loss: 1.2258 - val_accuracy: 0.4205\n",
            "Epoch 5/100\n",
            "18/18 [==============================] - 48s 3s/step - loss: 1.2142 - accuracy: 0.4156 - val_loss: 1.1668 - val_accuracy: 0.4366\n",
            "Epoch 6/100\n",
            "18/18 [==============================] - 46s 3s/step - loss: 1.1647 - accuracy: 0.4463 - val_loss: 1.1384 - val_accuracy: 0.4718\n",
            "Epoch 7/100\n",
            "18/18 [==============================] - 47s 3s/step - loss: 1.1279 - accuracy: 0.4614 - val_loss: 1.0791 - val_accuracy: 0.4930\n",
            "Epoch 8/100\n",
            "18/18 [==============================] - 47s 3s/step - loss: 1.0673 - accuracy: 0.4947 - val_loss: 1.0025 - val_accuracy: 0.5352\n",
            "Epoch 9/100\n",
            "18/18 [==============================] - 47s 3s/step - loss: 1.0089 - accuracy: 0.5207 - val_loss: 0.9136 - val_accuracy: 0.5694\n",
            "Epoch 10/100\n",
            "18/18 [==============================] - 47s 3s/step - loss: 0.9240 - accuracy: 0.5499 - val_loss: 0.8489 - val_accuracy: 0.5986\n",
            "Epoch 11/100\n",
            "18/18 [==============================] - 51s 3s/step - loss: 0.8810 - accuracy: 0.5624 - val_loss: 0.8092 - val_accuracy: 0.5926\n",
            "Epoch 12/100\n",
            "18/18 [==============================] - 46s 3s/step - loss: 0.8436 - accuracy: 0.5793 - val_loss: 0.7917 - val_accuracy: 0.6087\n",
            "Epoch 13/100\n",
            "18/18 [==============================] - 46s 3s/step - loss: 0.8411 - accuracy: 0.5735 - val_loss: 0.7958 - val_accuracy: 0.5915\n",
            "Epoch 14/100\n",
            "18/18 [==============================] - 46s 3s/step - loss: 0.8096 - accuracy: 0.5893 - val_loss: 0.7604 - val_accuracy: 0.6197\n",
            "Epoch 15/100\n",
            "18/18 [==============================] - 46s 3s/step - loss: 0.7878 - accuracy: 0.5915 - val_loss: 0.7503 - val_accuracy: 0.6378\n",
            "Epoch 16/100\n",
            "18/18 [==============================] - 46s 3s/step - loss: 0.7783 - accuracy: 0.6140 - val_loss: 0.7532 - val_accuracy: 0.6177\n",
            "Epoch 17/100\n",
            "18/18 [==============================] - 46s 3s/step - loss: 0.7628 - accuracy: 0.6134 - val_loss: 0.7454 - val_accuracy: 0.6237\n",
            "Epoch 18/100\n",
            "18/18 [==============================] - 46s 3s/step - loss: 0.7590 - accuracy: 0.6112 - val_loss: 0.7243 - val_accuracy: 0.6378\n",
            "Epoch 19/100\n",
            "18/18 [==============================] - 46s 3s/step - loss: 0.7395 - accuracy: 0.6255 - val_loss: 0.7026 - val_accuracy: 0.6751\n",
            "Epoch 20/100\n",
            "18/18 [==============================] - 46s 3s/step - loss: 0.7336 - accuracy: 0.6343 - val_loss: 0.6951 - val_accuracy: 0.6720\n",
            "Epoch 21/100\n",
            "18/18 [==============================] - 47s 3s/step - loss: 0.7183 - accuracy: 0.6437 - val_loss: 0.6849 - val_accuracy: 0.6720\n",
            "Epoch 22/100\n",
            "18/18 [==============================] - 46s 3s/step - loss: 0.7050 - accuracy: 0.6513 - val_loss: 0.6730 - val_accuracy: 0.6781\n",
            "Epoch 23/100\n",
            "18/18 [==============================] - 46s 3s/step - loss: 0.6924 - accuracy: 0.6599 - val_loss: 0.6959 - val_accuracy: 0.6720\n",
            "Epoch 24/100\n",
            "18/18 [==============================] - 46s 3s/step - loss: 0.6964 - accuracy: 0.6595 - val_loss: 0.6607 - val_accuracy: 0.6962\n",
            "Epoch 25/100\n",
            "18/18 [==============================] - 46s 3s/step - loss: 0.6748 - accuracy: 0.6753 - val_loss: 0.6434 - val_accuracy: 0.6982\n",
            "Epoch 26/100\n",
            "18/18 [==============================] - 46s 3s/step - loss: 0.6640 - accuracy: 0.6805 - val_loss: 0.6446 - val_accuracy: 0.7233\n",
            "Epoch 27/100\n",
            "18/18 [==============================] - 45s 3s/step - loss: 0.6548 - accuracy: 0.6902 - val_loss: 0.6140 - val_accuracy: 0.7223\n",
            "Epoch 28/100\n",
            "18/18 [==============================] - 46s 3s/step - loss: 0.6466 - accuracy: 0.6983 - val_loss: 0.6586 - val_accuracy: 0.6801\n",
            "Epoch 29/100\n",
            "18/18 [==============================] - 46s 3s/step - loss: 0.6447 - accuracy: 0.6918 - val_loss: 0.6036 - val_accuracy: 0.7113\n",
            "Epoch 30/100\n",
            "18/18 [==============================] - 46s 3s/step - loss: 0.6315 - accuracy: 0.6964 - val_loss: 0.5807 - val_accuracy: 0.7304\n",
            "Epoch 31/100\n",
            "18/18 [==============================] - 45s 3s/step - loss: 0.6082 - accuracy: 0.7164 - val_loss: 0.5969 - val_accuracy: 0.7183\n",
            "Epoch 32/100\n",
            "18/18 [==============================] - 46s 3s/step - loss: 0.5902 - accuracy: 0.7205 - val_loss: 0.5363 - val_accuracy: 0.7515\n",
            "Epoch 33/100\n",
            "18/18 [==============================] - 46s 3s/step - loss: 0.5798 - accuracy: 0.7286 - val_loss: 0.5449 - val_accuracy: 0.7565\n",
            "Epoch 34/100\n",
            "18/18 [==============================] - 45s 3s/step - loss: 0.5801 - accuracy: 0.7294 - val_loss: 0.5256 - val_accuracy: 0.7797\n",
            "Epoch 35/100\n",
            "18/18 [==============================] - 46s 3s/step - loss: 0.5616 - accuracy: 0.7390 - val_loss: 0.5550 - val_accuracy: 0.7535\n",
            "Epoch 36/100\n",
            "18/18 [==============================] - 46s 3s/step - loss: 0.5623 - accuracy: 0.7395 - val_loss: 0.5024 - val_accuracy: 0.7817\n",
            "Epoch 37/100\n",
            "18/18 [==============================] - 46s 3s/step - loss: 0.5403 - accuracy: 0.7516 - val_loss: 0.5182 - val_accuracy: 0.7797\n",
            "Epoch 38/100\n",
            "18/18 [==============================] - 46s 3s/step - loss: 0.5273 - accuracy: 0.7621 - val_loss: 0.4924 - val_accuracy: 0.7897\n",
            "Epoch 39/100\n",
            "18/18 [==============================] - 45s 3s/step - loss: 0.5160 - accuracy: 0.7714 - val_loss: 0.4604 - val_accuracy: 0.8018\n",
            "Epoch 40/100\n",
            "18/18 [==============================] - 46s 3s/step - loss: 0.5274 - accuracy: 0.7600 - val_loss: 0.4630 - val_accuracy: 0.8159\n",
            "Epoch 41/100\n",
            "18/18 [==============================] - 46s 3s/step - loss: 0.5044 - accuracy: 0.7728 - val_loss: 0.4520 - val_accuracy: 0.8089\n",
            "Epoch 42/100\n",
            "18/18 [==============================] - 46s 3s/step - loss: 0.4942 - accuracy: 0.7819 - val_loss: 0.4123 - val_accuracy: 0.8320\n",
            "Epoch 43/100\n",
            "18/18 [==============================] - 46s 3s/step - loss: 0.4659 - accuracy: 0.7930 - val_loss: 0.3952 - val_accuracy: 0.8511\n",
            "Epoch 44/100\n",
            "18/18 [==============================] - 46s 3s/step - loss: 0.4488 - accuracy: 0.8069 - val_loss: 0.3862 - val_accuracy: 0.8390\n",
            "Epoch 45/100\n",
            "18/18 [==============================] - 46s 3s/step - loss: 0.4408 - accuracy: 0.8091 - val_loss: 0.3658 - val_accuracy: 0.8521\n",
            "Epoch 46/100\n",
            "18/18 [==============================] - 46s 3s/step - loss: 0.4450 - accuracy: 0.8025 - val_loss: 0.4083 - val_accuracy: 0.8370\n",
            "Epoch 47/100\n",
            "18/18 [==============================] - 46s 3s/step - loss: 0.4410 - accuracy: 0.8059 - val_loss: 0.3803 - val_accuracy: 0.8471\n",
            "Epoch 48/100\n",
            "18/18 [==============================] - 46s 3s/step - loss: 0.4207 - accuracy: 0.8128 - val_loss: 0.3496 - val_accuracy: 0.8602\n",
            "Epoch 49/100\n",
            "18/18 [==============================] - 46s 3s/step - loss: 0.4041 - accuracy: 0.8237 - val_loss: 0.3452 - val_accuracy: 0.8541\n",
            "Epoch 50/100\n",
            "18/18 [==============================] - 46s 3s/step - loss: 0.3996 - accuracy: 0.8275 - val_loss: 0.3237 - val_accuracy: 0.8672\n",
            "Epoch 51/100\n",
            "18/18 [==============================] - 46s 3s/step - loss: 0.3992 - accuracy: 0.8339 - val_loss: 0.3536 - val_accuracy: 0.8421\n",
            "Epoch 52/100\n",
            "18/18 [==============================] - 46s 3s/step - loss: 0.4042 - accuracy: 0.8241 - val_loss: 0.3290 - val_accuracy: 0.8702\n",
            "Epoch 53/100\n",
            "18/18 [==============================] - 46s 3s/step - loss: 0.3874 - accuracy: 0.8339 - val_loss: 0.3226 - val_accuracy: 0.8712\n",
            "Epoch 54/100\n",
            "18/18 [==============================] - 46s 3s/step - loss: 0.3705 - accuracy: 0.8427 - val_loss: 0.3072 - val_accuracy: 0.8753\n",
            "Epoch 55/100\n",
            "18/18 [==============================] - 46s 3s/step - loss: 0.3541 - accuracy: 0.8507 - val_loss: 0.3469 - val_accuracy: 0.8531\n",
            "Epoch 56/100\n",
            "18/18 [==============================] - 46s 3s/step - loss: 0.3511 - accuracy: 0.8538 - val_loss: 0.2846 - val_accuracy: 0.8913\n",
            "Epoch 57/100\n",
            "18/18 [==============================] - 46s 3s/step - loss: 0.3475 - accuracy: 0.8558 - val_loss: 0.2916 - val_accuracy: 0.8833\n",
            "Epoch 58/100\n",
            "18/18 [==============================] - 46s 3s/step - loss: 0.3549 - accuracy: 0.8519 - val_loss: 0.2887 - val_accuracy: 0.8763\n",
            "Epoch 59/100\n",
            "18/18 [==============================] - 46s 3s/step - loss: 0.3335 - accuracy: 0.8615 - val_loss: 0.2694 - val_accuracy: 0.8934\n",
            "Epoch 60/100\n",
            "18/18 [==============================] - 46s 3s/step - loss: 0.3250 - accuracy: 0.8665 - val_loss: 0.2733 - val_accuracy: 0.8934\n",
            "Epoch 61/100\n",
            "18/18 [==============================] - 46s 3s/step - loss: 0.3247 - accuracy: 0.8640 - val_loss: 0.2698 - val_accuracy: 0.8853\n",
            "Epoch 62/100\n",
            "18/18 [==============================] - 46s 3s/step - loss: 0.3122 - accuracy: 0.8740 - val_loss: 0.2714 - val_accuracy: 0.8934\n",
            "Epoch 63/100\n",
            "18/18 [==============================] - 46s 3s/step - loss: 0.2985 - accuracy: 0.8731 - val_loss: 0.2549 - val_accuracy: 0.9034\n",
            "Epoch 64/100\n",
            "18/18 [==============================] - 46s 3s/step - loss: 0.3047 - accuracy: 0.8749 - val_loss: 0.2442 - val_accuracy: 0.9044\n",
            "Epoch 65/100\n",
            "18/18 [==============================] - 46s 3s/step - loss: 0.3042 - accuracy: 0.8761 - val_loss: 0.2491 - val_accuracy: 0.8984\n",
            "Epoch 66/100\n",
            "18/18 [==============================] - 46s 3s/step - loss: 0.2907 - accuracy: 0.8817 - val_loss: 0.2600 - val_accuracy: 0.8984\n",
            "Epoch 67/100\n",
            "18/18 [==============================] - 46s 3s/step - loss: 0.3053 - accuracy: 0.8770 - val_loss: 0.2345 - val_accuracy: 0.9095\n",
            "Epoch 68/100\n",
            "18/18 [==============================] - 46s 3s/step - loss: 0.3008 - accuracy: 0.8760 - val_loss: 0.2423 - val_accuracy: 0.9095\n",
            "Epoch 69/100\n",
            "18/18 [==============================] - 46s 3s/step - loss: 0.2824 - accuracy: 0.8844 - val_loss: 0.2297 - val_accuracy: 0.9064\n",
            "Epoch 70/100\n",
            "18/18 [==============================] - 46s 3s/step - loss: 0.2728 - accuracy: 0.8862 - val_loss: 0.2180 - val_accuracy: 0.9054\n",
            "Epoch 71/100\n",
            "18/18 [==============================] - 46s 3s/step - loss: 0.2758 - accuracy: 0.8839 - val_loss: 0.2572 - val_accuracy: 0.8903\n",
            "Epoch 72/100\n",
            "18/18 [==============================] - 46s 3s/step - loss: 0.2763 - accuracy: 0.8861 - val_loss: 0.2434 - val_accuracy: 0.9024\n",
            "Epoch 73/100\n",
            "18/18 [==============================] - 46s 3s/step - loss: 0.2640 - accuracy: 0.8945 - val_loss: 0.2469 - val_accuracy: 0.9064\n",
            "Epoch 74/100\n",
            "18/18 [==============================] - 46s 3s/step - loss: 0.2515 - accuracy: 0.8984 - val_loss: 0.2185 - val_accuracy: 0.9205\n",
            "Epoch 75/100\n",
            "18/18 [==============================] - 46s 3s/step - loss: 0.2646 - accuracy: 0.8939 - val_loss: 0.2265 - val_accuracy: 0.9135\n",
            "Epoch 76/100\n",
            "18/18 [==============================] - 46s 3s/step - loss: 0.2605 - accuracy: 0.8953 - val_loss: 0.2048 - val_accuracy: 0.9245\n",
            "Epoch 77/100\n",
            "18/18 [==============================] - 46s 3s/step - loss: 0.2449 - accuracy: 0.9012 - val_loss: 0.2007 - val_accuracy: 0.9215\n",
            "Epoch 78/100\n",
            "18/18 [==============================] - 46s 3s/step - loss: 0.2500 - accuracy: 0.8984 - val_loss: 0.2367 - val_accuracy: 0.9155\n",
            "Epoch 79/100\n",
            "18/18 [==============================] - 46s 3s/step - loss: 0.2410 - accuracy: 0.9066 - val_loss: 0.2086 - val_accuracy: 0.9105\n",
            "Epoch 80/100\n",
            "18/18 [==============================] - 46s 3s/step - loss: 0.2231 - accuracy: 0.9104 - val_loss: 0.2055 - val_accuracy: 0.9256\n",
            "Epoch 81/100\n",
            "18/18 [==============================] - 46s 3s/step - loss: 0.2299 - accuracy: 0.9098 - val_loss: 0.2079 - val_accuracy: 0.9165\n",
            "Epoch 82/100\n",
            "18/18 [==============================] - 46s 3s/step - loss: 0.2213 - accuracy: 0.9100 - val_loss: 0.2028 - val_accuracy: 0.9225\n",
            "Epoch 83/100\n",
            "18/18 [==============================] - 46s 3s/step - loss: 0.2204 - accuracy: 0.9152 - val_loss: 0.1815 - val_accuracy: 0.9306\n",
            "Epoch 84/100\n",
            "18/18 [==============================] - 46s 3s/step - loss: 0.2132 - accuracy: 0.9172 - val_loss: 0.1954 - val_accuracy: 0.9356\n",
            "Epoch 85/100\n",
            "18/18 [==============================] - 46s 3s/step - loss: 0.2213 - accuracy: 0.9127 - val_loss: 0.1846 - val_accuracy: 0.9276\n",
            "Epoch 86/100\n",
            "18/18 [==============================] - 46s 3s/step - loss: 0.2075 - accuracy: 0.9210 - val_loss: 0.1641 - val_accuracy: 0.9447\n",
            "Epoch 87/100\n",
            "18/18 [==============================] - 46s 3s/step - loss: 0.2183 - accuracy: 0.9174 - val_loss: 0.1726 - val_accuracy: 0.9336\n",
            "Epoch 88/100\n",
            "18/18 [==============================] - 47s 3s/step - loss: 0.2080 - accuracy: 0.9194 - val_loss: 0.1797 - val_accuracy: 0.9356\n",
            "Epoch 89/100\n",
            "18/18 [==============================] - 46s 3s/step - loss: 0.2034 - accuracy: 0.9188 - val_loss: 0.1657 - val_accuracy: 0.9366\n",
            "Epoch 90/100\n",
            "18/18 [==============================] - 45s 3s/step - loss: 0.2015 - accuracy: 0.9193 - val_loss: 0.1865 - val_accuracy: 0.9245\n",
            "Epoch 91/100\n",
            "18/18 [==============================] - 46s 3s/step - loss: 0.1977 - accuracy: 0.9239 - val_loss: 0.1885 - val_accuracy: 0.9286\n",
            "Epoch 92/100\n",
            "18/18 [==============================] - 46s 3s/step - loss: 0.1982 - accuracy: 0.9218 - val_loss: 0.1684 - val_accuracy: 0.9427\n",
            "Epoch 93/100\n",
            "18/18 [==============================] - 46s 3s/step - loss: 0.1855 - accuracy: 0.9273 - val_loss: 0.1744 - val_accuracy: 0.9346\n",
            "Epoch 94/100\n",
            "18/18 [==============================] - 46s 3s/step - loss: 0.1862 - accuracy: 0.9290 - val_loss: 0.1646 - val_accuracy: 0.9396\n",
            "Epoch 95/100\n",
            "18/18 [==============================] - 46s 3s/step - loss: 0.1891 - accuracy: 0.9285 - val_loss: 0.1843 - val_accuracy: 0.9296\n",
            "Epoch 96/100\n",
            "18/18 [==============================] - 46s 3s/step - loss: 0.1801 - accuracy: 0.9324 - val_loss: 0.1665 - val_accuracy: 0.9376\n",
            "Epoch 97/100\n",
            "18/18 [==============================] - 46s 3s/step - loss: 0.1880 - accuracy: 0.9291 - val_loss: 0.2021 - val_accuracy: 0.9326\n",
            "Epoch 98/100\n",
            "18/18 [==============================] - 46s 3s/step - loss: 0.1993 - accuracy: 0.9221 - val_loss: 0.1849 - val_accuracy: 0.9276\n",
            "Epoch 99/100\n",
            "18/18 [==============================] - 45s 3s/step - loss: 0.1876 - accuracy: 0.9268 - val_loss: 0.1730 - val_accuracy: 0.9336\n",
            "Epoch 100/100\n",
            "18/18 [==============================] - 46s 3s/step - loss: 0.1783 - accuracy: 0.9318 - val_loss: 0.1645 - val_accuracy: 0.9366\n"
          ]
        },
        {
          "output_type": "execute_result",
          "data": {
            "text/plain": [
              "<keras.callbacks.History at 0x7fecbc928210>"
            ]
          },
          "metadata": {},
          "execution_count": 151
        }
      ]
    },
    {
      "cell_type": "code",
      "source": [
        "predictions = [np.argmax(i) for i in model.predict(x_test_glove_scl)]"
      ],
      "metadata": {
        "id": "v0ehoP9hA-CK"
      },
      "execution_count": null,
      "outputs": []
    },
    {
      "cell_type": "code",
      "source": [
        "precision_recall_fscore_support(y_test, predictions, average='weighted')\n",
        "print('LSTM Glove\\nPrecision =',precision_recall_fscore_support(y_test, predictions, average='weighted')[0])\n",
        "print('Recall =',precision_recall_fscore_support(y_test, predictions, average='weighted')[1])\n",
        "print('F1 Score =',precision_recall_fscore_support(y_test, predictions, average='weighted')[2])\n",
        "#print (\"logloss: %0.3f \" % multiclass_logloss(y_test, predictions))\n",
        "print (\"logloss: %0.3f \" % multiclass_logloss(y_test_enc, model.predict(x_test_glove_scl)))"
      ],
      "metadata": {
        "colab": {
          "base_uri": "https://localhost:8080/"
        },
        "id": "6-nhy2S6CdxU",
        "outputId": "1ba214d5-49fc-475c-9bd8-72e4663967ef"
      },
      "execution_count": null,
      "outputs": [
        {
          "output_type": "stream",
          "name": "stdout",
          "text": [
            "LSTM Glove\n",
            "Precision = 0.7018451345192871\n",
            "Recall = 0.6582863006670088\n",
            "F1 Score = 0.6770458800487783\n",
            "logloss: 1.954 \n"
          ]
        }
      ]
    },
    {
      "cell_type": "code",
      "source": [
        "#test\n",
        "\n",
        "predict_class_test = [np.argmax(i) for i in model.predict(x_test_glove_scl)]\n",
        "predictions = model.predict(x_test_glove_scl)\n",
        "\n",
        "#Generate the confusion matrix\n",
        "cf_matrix = confusion_matrix(y_test, predict_class_test)\n",
        "\n",
        "ax = sns.heatmap(cf_matrix/np.sum(cf_matrix), annot=True, \n",
        "            fmt='.2%', cmap='Reds')\n",
        "\n",
        "ax.set_title('LSTM Glove\\n\\n');\n",
        "ax.set_xlabel('\\nPredicted Values')\n",
        "ax.set_ylabel('Actual Values ');\n",
        "\n",
        "## Ticket labels - List must be in alphabetical order\n",
        "ax.xaxis.set_ticklabels(['Assignment', 'Course','Instructor','Other'])\n",
        "ax.yaxis.set_ticklabels(['Assignment', 'Course','Instructor','Other'])\n",
        "\n",
        "## Display the vis"
      ],
      "metadata": {
        "colab": {
          "base_uri": "https://localhost:8080/",
          "height": 406
        },
        "id": "-aFk07f7DAzU",
        "outputId": "ea2d9da4-8618-4d0d-c194-41714bd16875"
      },
      "execution_count": null,
      "outputs": [
        {
          "output_type": "execute_result",
          "data": {
            "text/plain": [
              "[Text(0, 0.5, 'Assignment'),\n",
              " Text(0, 1.5, 'Course'),\n",
              " Text(0, 2.5, 'Instructor'),\n",
              " Text(0, 3.5, 'Other')]"
            ]
          },
          "metadata": {},
          "execution_count": 154
        },
        {
          "output_type": "display_data",
          "data": {
            "text/plain": [
              "<Figure size 432x288 with 2 Axes>"
            ],
            "image/png": "[encoded data removed]"
          },
          "metadata": {
            "needs_background": "light"
          }
        }
      ]
    },
    {
      "cell_type": "code",
      "source": [
        ""
      ],
      "metadata": {
        "id": "IJzNiWLHA97Q"
      },
      "execution_count": null,
      "outputs": []
    },
    {
      "cell_type": "code",
      "source": [
        "#Early stop\n",
        "inp = Input(shape=(maxlen,))\n",
        "x = Embedding(max_features, embed_size, weights=[embedding_matrix])(inp)\n",
        "x = Bidirectional(LSTM(100, return_sequences=True, dropout=0.3, recurrent_dropout=0.3))(x)\n",
        "x = GlobalMaxPool1D()(x)\n",
        "x = Dense(1024, activation=\"relu\")(x)\n",
        "x = Dropout(0.8)(x)\n",
        "\n",
        "x = Dense(1024, activation=\"relu\")(x)\n",
        "x = Dropout(0.8)(x)\n",
        "\n",
        "x = Dense(4, activation=\"softmax\")(x)\n",
        "model = Model(inputs=inp, outputs=x)\n",
        "model.compile(loss='categorical_crossentropy', optimizer='adam', metrics=['accuracy'])\n",
        "\n",
        "# Fit the model with early stopping callback\n",
        "earlystop = EarlyStopping(monitor='val_loss', min_delta=0, patience=3, verbose=0, mode='auto')\n",
        "model.fit(xtrain_glove_scl, y=ytrain_enc, batch_size=512, epochs=100, \n",
        "          verbose=1, validation_data=(xvalid_glove_scl, yvalid_enc), callbacks=[earlystop])"
      ],
      "metadata": {
        "colab": {
          "base_uri": "https://localhost:8080/"
        },
        "id": "u-RVBJpT-ZBt",
        "outputId": "5b18459f-f701-40af-c6ba-44ee7701f226"
      },
      "execution_count": null,
      "outputs": [
        {
          "output_type": "stream",
          "name": "stdout",
          "text": [
            "WARNING:tensorflow:Layer lstm_5 will not use cuDNN kernels since it doesn't meet the criteria. It will use a generic GPU kernel as fallback when running on GPU.\n",
            "WARNING:tensorflow:Layer lstm_5 will not use cuDNN kernels since it doesn't meet the criteria. It will use a generic GPU kernel as fallback when running on GPU.\n",
            "WARNING:tensorflow:Layer lstm_5 will not use cuDNN kernels since it doesn't meet the criteria. It will use a generic GPU kernel as fallback when running on GPU.\n",
            "Epoch 1/100\n",
            "18/18 [==============================] - 89s 5s/step - loss: 1.3786 - accuracy: 0.2901 - val_loss: 1.3141 - val_accuracy: 0.3863\n",
            "Epoch 2/100\n",
            "18/18 [==============================] - 47s 3s/step - loss: 1.2989 - accuracy: 0.3654 - val_loss: 1.2691 - val_accuracy: 0.3773\n",
            "Epoch 3/100\n",
            "18/18 [==============================] - 46s 3s/step - loss: 1.2710 - accuracy: 0.3802 - val_loss: 1.2568 - val_accuracy: 0.4054\n",
            "Epoch 4/100\n",
            "18/18 [==============================] - 48s 3s/step - loss: 1.2489 - accuracy: 0.3948 - val_loss: 1.2191 - val_accuracy: 0.4356\n",
            "Epoch 5/100\n",
            "18/18 [==============================] - 47s 3s/step - loss: 1.2046 - accuracy: 0.4276 - val_loss: 1.1725 - val_accuracy: 0.4266\n",
            "Epoch 6/100\n",
            "18/18 [==============================] - 46s 3s/step - loss: 1.1710 - accuracy: 0.4457 - val_loss: 1.1370 - val_accuracy: 0.4799\n",
            "Epoch 7/100\n",
            "18/18 [==============================] - 75s 4s/step - loss: 1.1341 - accuracy: 0.4670 - val_loss: 1.1245 - val_accuracy: 0.4718\n",
            "Epoch 8/100\n",
            "18/18 [==============================] - 56s 3s/step - loss: 1.0755 - accuracy: 0.4940 - val_loss: 0.9994 - val_accuracy: 0.5312\n",
            "Epoch 9/100\n",
            "18/18 [==============================] - 57s 3s/step - loss: 0.9977 - accuracy: 0.5185 - val_loss: 0.9364 - val_accuracy: 0.5553\n",
            "Epoch 10/100\n",
            "18/18 [==============================] - 75s 4s/step - loss: 0.9422 - accuracy: 0.5433 - val_loss: 0.9030 - val_accuracy: 0.5443\n",
            "Epoch 11/100\n",
            "18/18 [==============================] - 46s 3s/step - loss: 0.9062 - accuracy: 0.5534 - val_loss: 0.8197 - val_accuracy: 0.5946\n",
            "Epoch 12/100\n",
            "18/18 [==============================] - 48s 3s/step - loss: 0.8467 - accuracy: 0.5820 - val_loss: 0.7889 - val_accuracy: 0.6157\n",
            "Epoch 13/100\n",
            "18/18 [==============================] - 60s 3s/step - loss: 0.8445 - accuracy: 0.5848 - val_loss: 0.8035 - val_accuracy: 0.6117\n",
            "Epoch 14/100\n",
            "18/18 [==============================] - 47s 3s/step - loss: 0.8243 - accuracy: 0.5894 - val_loss: 0.7631 - val_accuracy: 0.6328\n",
            "Epoch 15/100\n",
            "18/18 [==============================] - 48s 3s/step - loss: 0.7856 - accuracy: 0.6052 - val_loss: 0.7444 - val_accuracy: 0.6398\n",
            "Epoch 16/100\n",
            "18/18 [==============================] - 46s 3s/step - loss: 0.7693 - accuracy: 0.6196 - val_loss: 0.7269 - val_accuracy: 0.6368\n",
            "Epoch 17/100\n",
            "18/18 [==============================] - 47s 3s/step - loss: 0.7518 - accuracy: 0.6281 - val_loss: 0.7195 - val_accuracy: 0.6408\n",
            "Epoch 18/100\n",
            "18/18 [==============================] - 47s 3s/step - loss: 0.7473 - accuracy: 0.6247 - val_loss: 0.7321 - val_accuracy: 0.6338\n",
            "Epoch 19/100\n",
            "18/18 [==============================] - 46s 3s/step - loss: 0.7357 - accuracy: 0.6341 - val_loss: 0.7188 - val_accuracy: 0.6258\n",
            "Epoch 20/100\n",
            "18/18 [==============================] - 46s 3s/step - loss: 0.7275 - accuracy: 0.6378 - val_loss: 0.6972 - val_accuracy: 0.6509\n",
            "Epoch 21/100\n",
            "18/18 [==============================] - 46s 3s/step - loss: 0.7300 - accuracy: 0.6385 - val_loss: 0.7152 - val_accuracy: 0.6318\n",
            "Epoch 22/100\n",
            "18/18 [==============================] - 46s 3s/step - loss: 0.7428 - accuracy: 0.6299 - val_loss: 0.7167 - val_accuracy: 0.6449\n",
            "Epoch 23/100\n",
            "18/18 [==============================] - 46s 3s/step - loss: 0.7291 - accuracy: 0.6425 - val_loss: 0.6906 - val_accuracy: 0.6730\n",
            "Epoch 24/100\n",
            "18/18 [==============================] - 46s 3s/step - loss: 0.7344 - accuracy: 0.6430 - val_loss: 0.6912 - val_accuracy: 0.6801\n",
            "Epoch 25/100\n",
            "18/18 [==============================] - 46s 3s/step - loss: 0.7128 - accuracy: 0.6527 - val_loss: 0.6767 - val_accuracy: 0.6841\n",
            "Epoch 26/100\n",
            "18/18 [==============================] - 46s 3s/step - loss: 0.6977 - accuracy: 0.6604 - val_loss: 0.6730 - val_accuracy: 0.6831\n",
            "Epoch 27/100\n",
            "18/18 [==============================] - 46s 3s/step - loss: 0.6859 - accuracy: 0.6665 - val_loss: 0.6484 - val_accuracy: 0.6922\n",
            "Epoch 28/100\n",
            "18/18 [==============================] - 46s 3s/step - loss: 0.6714 - accuracy: 0.6805 - val_loss: 0.6356 - val_accuracy: 0.6972\n",
            "Epoch 29/100\n",
            "18/18 [==============================] - 46s 3s/step - loss: 0.6683 - accuracy: 0.6750 - val_loss: 0.6200 - val_accuracy: 0.7143\n",
            "Epoch 30/100\n",
            "18/18 [==============================] - 46s 3s/step - loss: 0.6544 - accuracy: 0.6819 - val_loss: 0.6404 - val_accuracy: 0.6992\n",
            "Epoch 31/100\n",
            "18/18 [==============================] - 50s 3s/step - loss: 0.6530 - accuracy: 0.6852 - val_loss: 0.6094 - val_accuracy: 0.7384\n",
            "Epoch 32/100\n",
            "18/18 [==============================] - 47s 3s/step - loss: 0.6335 - accuracy: 0.6993 - val_loss: 0.5868 - val_accuracy: 0.7384\n",
            "Epoch 33/100\n",
            "18/18 [==============================] - 45s 3s/step - loss: 0.6192 - accuracy: 0.7040 - val_loss: 0.5664 - val_accuracy: 0.7414\n",
            "Epoch 34/100\n",
            "18/18 [==============================] - 45s 3s/step - loss: 0.6150 - accuracy: 0.7098 - val_loss: 0.5557 - val_accuracy: 0.7294\n",
            "Epoch 35/100\n",
            "18/18 [==============================] - 45s 3s/step - loss: 0.6048 - accuracy: 0.7137 - val_loss: 0.5737 - val_accuracy: 0.7354\n",
            "Epoch 36/100\n",
            "18/18 [==============================] - 46s 3s/step - loss: 0.5937 - accuracy: 0.7216 - val_loss: 0.5472 - val_accuracy: 0.7555\n",
            "Epoch 37/100\n",
            "18/18 [==============================] - 46s 3s/step - loss: 0.5836 - accuracy: 0.7262 - val_loss: 0.5348 - val_accuracy: 0.7626\n",
            "Epoch 38/100\n",
            "18/18 [==============================] - 45s 3s/step - loss: 0.5727 - accuracy: 0.7366 - val_loss: 0.5121 - val_accuracy: 0.7817\n",
            "Epoch 39/100\n",
            "18/18 [==============================] - 45s 3s/step - loss: 0.5518 - accuracy: 0.7424 - val_loss: 0.5020 - val_accuracy: 0.7817\n",
            "Epoch 40/100\n",
            "18/18 [==============================] - 46s 3s/step - loss: 0.5437 - accuracy: 0.7492 - val_loss: 0.5065 - val_accuracy: 0.7666\n",
            "Epoch 41/100\n",
            "18/18 [==============================] - 45s 3s/step - loss: 0.5335 - accuracy: 0.7557 - val_loss: 0.4709 - val_accuracy: 0.7988\n",
            "Epoch 42/100\n",
            "18/18 [==============================] - 45s 3s/step - loss: 0.5261 - accuracy: 0.7558 - val_loss: 0.4562 - val_accuracy: 0.7988\n",
            "Epoch 43/100\n",
            "18/18 [==============================] - 46s 3s/step - loss: 0.5018 - accuracy: 0.7777 - val_loss: 0.4478 - val_accuracy: 0.8119\n",
            "Epoch 44/100\n",
            "18/18 [==============================] - 46s 3s/step - loss: 0.5133 - accuracy: 0.7683 - val_loss: 0.4664 - val_accuracy: 0.7907\n",
            "Epoch 45/100\n",
            "18/18 [==============================] - 46s 3s/step - loss: 0.4897 - accuracy: 0.7824 - val_loss: 0.4405 - val_accuracy: 0.8119\n",
            "Epoch 46/100\n",
            "18/18 [==============================] - 46s 3s/step - loss: 0.4827 - accuracy: 0.7813 - val_loss: 0.4415 - val_accuracy: 0.8068\n",
            "Epoch 47/100\n",
            "18/18 [==============================] - 46s 3s/step - loss: 0.4753 - accuracy: 0.7878 - val_loss: 0.4155 - val_accuracy: 0.8330\n",
            "Epoch 48/100\n",
            "18/18 [==============================] - 46s 3s/step - loss: 0.4698 - accuracy: 0.7941 - val_loss: 0.4388 - val_accuracy: 0.8099\n",
            "Epoch 49/100\n",
            "18/18 [==============================] - 46s 3s/step - loss: 0.4842 - accuracy: 0.7907 - val_loss: 0.4254 - val_accuracy: 0.8290\n",
            "Epoch 50/100\n",
            "18/18 [==============================] - 46s 3s/step - loss: 0.4581 - accuracy: 0.7962 - val_loss: 0.3890 - val_accuracy: 0.8461\n",
            "Epoch 51/100\n",
            "18/18 [==============================] - 46s 3s/step - loss: 0.4471 - accuracy: 0.8073 - val_loss: 0.4233 - val_accuracy: 0.8239\n",
            "Epoch 52/100\n",
            "18/18 [==============================] - 45s 3s/step - loss: 0.4434 - accuracy: 0.8045 - val_loss: 0.3819 - val_accuracy: 0.8481\n",
            "Epoch 53/100\n",
            "18/18 [==============================] - 45s 3s/step - loss: 0.4227 - accuracy: 0.8183 - val_loss: 0.3684 - val_accuracy: 0.8521\n",
            "Epoch 54/100\n",
            "18/18 [==============================] - 46s 3s/step - loss: 0.4079 - accuracy: 0.8278 - val_loss: 0.3736 - val_accuracy: 0.8330\n",
            "Epoch 55/100\n",
            "18/18 [==============================] - 46s 3s/step - loss: 0.4129 - accuracy: 0.8219 - val_loss: 0.3704 - val_accuracy: 0.8461\n",
            "Epoch 56/100\n",
            "18/18 [==============================] - 46s 3s/step - loss: 0.4154 - accuracy: 0.8240 - val_loss: 0.3787 - val_accuracy: 0.8320\n"
          ]
        },
        {
          "output_type": "execute_result",
          "data": {
            "text/plain": [
              "<keras.callbacks.History at 0x7fecbb2be250>"
            ]
          },
          "metadata": {},
          "execution_count": 155
        }
      ]
    },
    {
      "cell_type": "code",
      "source": [
        "predictions = [np.argmax(i) for i in model.predict(x_test_glove_scl)]\n",
        "precision_recall_fscore_support(y_test, predictions, average='weighted')\n",
        "print('LSTM Glove early stop\\nPrecision =',precision_recall_fscore_support(y_test, predictions, average='weighted')[0])\n",
        "print('Recall =',precision_recall_fscore_support(y_test, predictions, average='weighted')[1])\n",
        "print('F1 Score =',precision_recall_fscore_support(y_test, predictions, average='weighted')[2])\n",
        "#print (\"logloss: %0.3f \" % multiclass_logloss(y_test, predictions))\n",
        "print (\"logloss: %0.3f \" % multiclass_logloss(y_test_enc, model.predict(x_test_glove_scl)))"
      ],
      "metadata": {
        "colab": {
          "base_uri": "https://localhost:8080/"
        },
        "id": "G5VGA2SxXA7h",
        "outputId": "973b3fbb-2b35-4616-e24c-2f87077cd3cc"
      },
      "execution_count": null,
      "outputs": [
        {
          "output_type": "stream",
          "name": "stdout",
          "text": [
            "LSTM Glove early stop\n",
            "Precision = 0.6906377648513111\n",
            "Recall = 0.41046690610569525\n",
            "F1 Score = 0.49008552293074015\n",
            "logloss: 1.556 \n"
          ]
        }
      ]
    },
    {
      "cell_type": "code",
      "source": [
        ""
      ],
      "metadata": {
        "id": "AcDMlDXUXA4X"
      },
      "execution_count": null,
      "outputs": []
    },
    {
      "cell_type": "markdown",
      "source": [
        "Bi LSTM Glove"
      ],
      "metadata": {
        "id": "NG20_PqDYoMz"
      }
    },
    {
      "cell_type": "code",
      "source": [
        "inp = Input(shape=(maxlen,))\n",
        "x = Embedding(max_features, embed_size, weights=[embedding_matrix],trainable=False)(inp)\n",
        "x = Bidirectional(LSTM(300, dropout=0.3, recurrent_dropout=0.3))(x)\n",
        "#x = GlobalMaxPool1D()(x)\n",
        "x = Dense(1024, activation=\"relu\")(x)\n",
        "x = Dropout(0.8)(x)\n",
        "\n",
        "x = Dense(1024, activation=\"relu\")(x)\n",
        "x = Dropout(0.8)(x)\n",
        "\n",
        "x = Dense(4, activation=\"softmax\")(x)\n",
        "model = Model(inputs=inp, outputs=x)\n",
        "model.compile(loss='categorical_crossentropy', optimizer='adam', metrics=['accuracy'])\n",
        "\n",
        "# Fit the model with early stopping callback\n",
        "earlystop = EarlyStopping(monitor='val_loss', min_delta=0, patience=3, verbose=0, mode='auto')\n",
        "model.fit(xtrain_glove_scl, y=ytrain_enc, batch_size=512, epochs=100, \n",
        "          verbose=1, validation_data=(xvalid_glove_scl, yvalid_enc), callbacks=[earlystop])"
      ],
      "metadata": {
        "colab": {
          "base_uri": "https://localhost:8080/"
        },
        "id": "L0h8VEueYNbt",
        "outputId": "8842c315-b222-480d-cd74-95504b90947f"
      },
      "execution_count": null,
      "outputs": [
        {
          "output_type": "stream",
          "name": "stdout",
          "text": [
            "WARNING:tensorflow:Layer lstm_8 will not use cuDNN kernels since it doesn't meet the criteria. It will use a generic GPU kernel as fallback when running on GPU.\n",
            "WARNING:tensorflow:Layer lstm_8 will not use cuDNN kernels since it doesn't meet the criteria. It will use a generic GPU kernel as fallback when running on GPU.\n",
            "WARNING:tensorflow:Layer lstm_8 will not use cuDNN kernels since it doesn't meet the criteria. It will use a generic GPU kernel as fallback when running on GPU.\n",
            "Epoch 1/100\n",
            "18/18 [==============================] - 58s 3s/step - loss: 1.3504 - accuracy: 0.3164 - val_loss: 1.3238 - val_accuracy: 0.3954\n",
            "Epoch 2/100\n",
            "18/18 [==============================] - 44s 2s/step - loss: 1.2672 - accuracy: 0.3927 - val_loss: 1.1663 - val_accuracy: 0.4769\n",
            "Epoch 3/100\n",
            "18/18 [==============================] - 44s 2s/step - loss: 1.1442 - accuracy: 0.4777 - val_loss: 1.0498 - val_accuracy: 0.5030\n",
            "Epoch 4/100\n",
            "18/18 [==============================] - 45s 2s/step - loss: 1.0478 - accuracy: 0.5267 - val_loss: 0.9125 - val_accuracy: 0.5905\n",
            "Epoch 5/100\n",
            "18/18 [==============================] - 45s 3s/step - loss: 0.9067 - accuracy: 0.5872 - val_loss: 0.8045 - val_accuracy: 0.6177\n",
            "Epoch 6/100\n",
            "18/18 [==============================] - 44s 2s/step - loss: 0.8323 - accuracy: 0.6231 - val_loss: 0.7623 - val_accuracy: 0.6549\n",
            "Epoch 7/100\n",
            "18/18 [==============================] - 44s 2s/step - loss: 0.7687 - accuracy: 0.6579 - val_loss: 0.6681 - val_accuracy: 0.7213\n",
            "Epoch 8/100\n",
            "18/18 [==============================] - 43s 2s/step - loss: 0.7086 - accuracy: 0.6868 - val_loss: 0.6497 - val_accuracy: 0.7233\n",
            "Epoch 9/100\n",
            "18/18 [==============================] - 43s 2s/step - loss: 0.6671 - accuracy: 0.7131 - val_loss: 0.5702 - val_accuracy: 0.7716\n",
            "Epoch 10/100\n",
            "18/18 [==============================] - 42s 2s/step - loss: 0.6092 - accuracy: 0.7386 - val_loss: 0.5448 - val_accuracy: 0.7736\n",
            "Epoch 11/100\n",
            "18/18 [==============================] - 43s 2s/step - loss: 0.6135 - accuracy: 0.7405 - val_loss: 0.5175 - val_accuracy: 0.7867\n",
            "Epoch 12/100\n",
            "18/18 [==============================] - 43s 2s/step - loss: 0.5373 - accuracy: 0.7681 - val_loss: 0.4427 - val_accuracy: 0.8159\n",
            "Epoch 13/100\n",
            "18/18 [==============================] - 46s 3s/step - loss: 0.5155 - accuracy: 0.7819 - val_loss: 0.4285 - val_accuracy: 0.8249\n",
            "Epoch 14/100\n",
            "18/18 [==============================] - 44s 2s/step - loss: 0.4572 - accuracy: 0.8054 - val_loss: 0.4158 - val_accuracy: 0.8350\n",
            "Epoch 15/100\n",
            "18/18 [==============================] - 43s 2s/step - loss: 0.4958 - accuracy: 0.7915 - val_loss: 0.4151 - val_accuracy: 0.8370\n",
            "Epoch 16/100\n",
            "18/18 [==============================] - 42s 2s/step - loss: 0.4489 - accuracy: 0.8110 - val_loss: 0.3718 - val_accuracy: 0.8451\n",
            "Epoch 17/100\n",
            "18/18 [==============================] - 41s 2s/step - loss: 0.4023 - accuracy: 0.8320 - val_loss: 0.3444 - val_accuracy: 0.8672\n",
            "Epoch 18/100\n",
            "18/18 [==============================] - 43s 2s/step - loss: 0.3748 - accuracy: 0.8492 - val_loss: 0.3065 - val_accuracy: 0.8793\n",
            "Epoch 19/100\n",
            "18/18 [==============================] - 42s 2s/step - loss: 0.3376 - accuracy: 0.8669 - val_loss: 0.3018 - val_accuracy: 0.8823\n",
            "Epoch 20/100\n",
            "18/18 [==============================] - 43s 2s/step - loss: 0.3157 - accuracy: 0.8711 - val_loss: 0.2672 - val_accuracy: 0.8964\n",
            "Epoch 21/100\n",
            "18/18 [==============================] - 42s 2s/step - loss: 0.2918 - accuracy: 0.8822 - val_loss: 0.2521 - val_accuracy: 0.8974\n",
            "Epoch 22/100\n",
            "18/18 [==============================] - 43s 2s/step - loss: 0.2579 - accuracy: 0.8999 - val_loss: 0.2471 - val_accuracy: 0.9014\n",
            "Epoch 23/100\n",
            "18/18 [==============================] - 42s 2s/step - loss: 0.2649 - accuracy: 0.8957 - val_loss: 0.2450 - val_accuracy: 0.9074\n",
            "Epoch 24/100\n",
            "18/18 [==============================] - 42s 2s/step - loss: 0.2499 - accuracy: 0.9024 - val_loss: 0.1979 - val_accuracy: 0.9235\n",
            "Epoch 25/100\n",
            "18/18 [==============================] - 41s 2s/step - loss: 0.2417 - accuracy: 0.9079 - val_loss: 0.2268 - val_accuracy: 0.9074\n",
            "Epoch 26/100\n",
            "18/18 [==============================] - 42s 2s/step - loss: 0.2536 - accuracy: 0.9047 - val_loss: 0.2342 - val_accuracy: 0.9145\n",
            "Epoch 27/100\n",
            "18/18 [==============================] - 43s 2s/step - loss: 0.2300 - accuracy: 0.9127 - val_loss: 0.2112 - val_accuracy: 0.9205\n"
          ]
        },
        {
          "output_type": "execute_result",
          "data": {
            "text/plain": [
              "<keras.callbacks.History at 0x7fecbc6da690>"
            ]
          },
          "metadata": {},
          "execution_count": 159
        }
      ]
    },
    {
      "cell_type": "code",
      "source": [
        "predictions = [np.argmax(i) for i in model.predict(x_test_glove_scl)]\n",
        "precision_recall_fscore_support(y_test, predictions, average='weighted')\n",
        "print('LSTM Glove early stop\\nPrecision =',precision_recall_fscore_support(y_test, predictions, average='weighted')[0])\n",
        "print('Recall =',precision_recall_fscore_support(y_test, predictions, average='weighted')[1])\n",
        "print('F1 Score =',precision_recall_fscore_support(y_test, predictions, average='weighted')[2])\n",
        "#print (\"logloss: %0.3f \" % multiclass_logloss(y_test, predictions))\n",
        "print (\"logloss: %0.3f \" % multiclass_logloss(y_test_enc, model.predict(x_test_glove_scl)))"
      ],
      "metadata": {
        "colab": {
          "base_uri": "https://localhost:8080/"
        },
        "id": "kO6yZ_iHYNYl",
        "outputId": "01ece0c4-0c35-4213-a02c-ed87172ae543"
      },
      "execution_count": null,
      "outputs": [
        {
          "output_type": "stream",
          "name": "stdout",
          "text": [
            "LSTM Glove early stop\n",
            "Precision = 0.7206714567773624\n",
            "Recall = 0.6044125192406362\n",
            "F1 Score = 0.6499132375153678\n",
            "logloss: 1.744 \n"
          ]
        }
      ]
    },
    {
      "cell_type": "code",
      "source": [
        ""
      ],
      "metadata": {
        "id": "ymzMyKLwYNVt"
      },
      "execution_count": null,
      "outputs": []
    },
    {
      "cell_type": "markdown",
      "source": [
        "bi-lstm keras glove"
      ],
      "metadata": {
        "id": "LjibKzf5sHW9"
      }
    },
    {
      "cell_type": "code",
      "source": [
        "'''# A simple LSTM with glove embeddings and two dense layers\n",
        "model = Sequential()\n",
        "model.add(Embedding(len(word_index) + 1,\n",
        "                     300,\n",
        "                     weights=[embedding_matrix],\n",
        "                     input_length=max_len,\n",
        "                     trainable=False))\n",
        "model.add(SpatialDropout1D(0.3))\n",
        "model.add(LSTM(100, dropout=0.3, recurrent_dropout=0.3))\n",
        "\n",
        "model.add(Dense(1024, activation='relu'))\n",
        "model.add(Dropout(0.8))\n",
        "\n",
        "model.add(Dense(1024, activation='relu'))\n",
        "model.add(Dropout(0.8))\n",
        "\n",
        "model.add(Dense(4))\n",
        "model.add(Activation('softmax'))\n",
        "model.compile(loss='categorical_crossentropy', optimizer='adam')'''"
      ],
      "metadata": {
        "id": "iF6VUcIeysI8"
      },
      "execution_count": null,
      "outputs": []
    },
    {
      "cell_type": "code",
      "source": [
        "# A simple bidirectional LSTM with glove embeddings and two dense layers\n",
        "model = Sequential()\n",
        "model.add(Embedding(len(word_index) + 1,\n",
        "                     300,\n",
        "                     weights=[embedding_matrix],\n",
        "                     input_length=max_len,\n",
        "                     trainable=False))\n",
        "model.add(SpatialDropout1D(0.3))\n",
        "model.add(Bidirectional(LSTM(300, dropout=0.3, recurrent_dropout=0.3)))\n",
        "\n",
        "model.add(Dense(1024, activation='relu'))\n",
        "model.add(Dropout(0.8))\n",
        "\n",
        "model.add(Dense(1024, activation='relu'))\n",
        "model.add(Dropout(0.8))\n",
        "\n",
        "model.add(Dense(4))\n",
        "model.add(Activation('softmax'))\n",
        "model.compile(loss='categorical_crossentropy', optimizer='adam')\n",
        "\n",
        "# Fit the model with early stopping callback\n",
        "'''earlystop = EarlyStopping(monitor='val_loss', min_delta=0, patience=3, verbose=0, mode='auto')\n",
        "model.fit(xtrain_pad, y=ytrain_enc, batch_size=512, epochs=100, \n",
        "          verbose=1, validation_data=(xvalid_pad, yvalid_enc), callbacks=[earlystop])'''"
      ],
      "metadata": {
        "colab": {
          "base_uri": "https://localhost:8080/",
          "height": 142
        },
        "id": "Sxd6yX8my-1u",
        "outputId": "1edb80a2-05cd-4c6d-ede4-ac09b6efc000"
      },
      "execution_count": null,
      "outputs": [
        {
          "output_type": "stream",
          "name": "stdout",
          "text": [
            "WARNING:tensorflow:Layer lstm_12 will not use cuDNN kernels since it doesn't meet the criteria. It will use a generic GPU kernel as fallback when running on GPU.\n",
            "WARNING:tensorflow:Layer lstm_12 will not use cuDNN kernels since it doesn't meet the criteria. It will use a generic GPU kernel as fallback when running on GPU.\n",
            "WARNING:tensorflow:Layer lstm_12 will not use cuDNN kernels since it doesn't meet the criteria. It will use a generic GPU kernel as fallback when running on GPU.\n"
          ]
        },
        {
          "output_type": "execute_result",
          "data": {
            "text/plain": [
              "\"earlystop = EarlyStopping(monitor='val_loss', min_delta=0, patience=3, verbose=0, mode='auto')\\nmodel.fit(xtrain_pad, y=ytrain_enc, batch_size=512, epochs=100, \\n          verbose=1, validation_data=(xvalid_pad, yvalid_enc), callbacks=[earlystop])\""
            ],
            "application/vnd.google.colaboratory.intrinsic+json": {
              "type": "string"
            }
          },
          "metadata": {},
          "execution_count": 165
        }
      ]
    },
    {
      "cell_type": "code",
      "source": [
        "model.fit(xtrain_pad, y=ytrain_enc, batch_size=512, epochs=100, \n",
        "          verbose=1, validation_data=(xvalid_pad, yvalid_enc))"
      ],
      "metadata": {
        "colab": {
          "base_uri": "https://localhost:8080/"
        },
        "id": "aGQiG0IlsGr0",
        "outputId": "cc5e5224-d6bd-4f2b-92a4-92868b5ac694"
      },
      "execution_count": null,
      "outputs": [
        {
          "output_type": "stream",
          "name": "stdout",
          "text": [
            "Epoch 1/100\n",
            "18/18 [==============================] - 24s 1s/step - loss: 0.0067 - val_loss: 0.2196\n",
            "Epoch 2/100\n",
            "18/18 [==============================] - 24s 1s/step - loss: 0.0035 - val_loss: 0.2140\n",
            "Epoch 3/100\n",
            "18/18 [==============================] - 12s 662ms/step - loss: 0.0037 - val_loss: 0.1906\n",
            "Epoch 4/100\n",
            "18/18 [==============================] - 10s 564ms/step - loss: 0.0035 - val_loss: 0.1973\n",
            "Epoch 5/100\n",
            "18/18 [==============================] - 10s 552ms/step - loss: 0.0052 - val_loss: 0.2028\n",
            "Epoch 6/100\n",
            "18/18 [==============================] - 10s 559ms/step - loss: 0.0052 - val_loss: 0.1621\n",
            "Epoch 7/100\n",
            "18/18 [==============================] - 10s 558ms/step - loss: 0.0048 - val_loss: 0.1815\n",
            "Epoch 8/100\n",
            "18/18 [==============================] - 11s 615ms/step - loss: 0.0048 - val_loss: 0.1288\n",
            "Epoch 9/100\n",
            "18/18 [==============================] - 10s 559ms/step - loss: 0.0065 - val_loss: 0.2031\n",
            "Epoch 10/100\n",
            "18/18 [==============================] - 12s 654ms/step - loss: 0.0026 - val_loss: 0.2042\n",
            "Epoch 11/100\n",
            "18/18 [==============================] - 10s 559ms/step - loss: 0.0051 - val_loss: 0.2067\n",
            "Epoch 12/100\n",
            "18/18 [==============================] - 10s 561ms/step - loss: 0.0057 - val_loss: 0.1491\n",
            "Epoch 13/100\n",
            "18/18 [==============================] - 10s 548ms/step - loss: 0.0031 - val_loss: 0.1727\n",
            "Epoch 14/100\n",
            "18/18 [==============================] - 10s 565ms/step - loss: 0.0036 - val_loss: 0.1773\n",
            "Epoch 15/100\n",
            "18/18 [==============================] - 10s 558ms/step - loss: 0.0016 - val_loss: 0.1637\n",
            "Epoch 16/100\n",
            "18/18 [==============================] - 10s 560ms/step - loss: 0.0039 - val_loss: 0.2010\n",
            "Epoch 17/100\n",
            "18/18 [==============================] - 10s 563ms/step - loss: 0.0036 - val_loss: 0.1335\n",
            "Epoch 18/100\n",
            "18/18 [==============================] - 10s 549ms/step - loss: 0.0049 - val_loss: 0.1571\n",
            "Epoch 19/100\n",
            "18/18 [==============================] - 10s 555ms/step - loss: 0.0041 - val_loss: 0.1590\n",
            "Epoch 20/100\n",
            "18/18 [==============================] - 10s 555ms/step - loss: 0.0018 - val_loss: 0.1686\n",
            "Epoch 21/100\n",
            "18/18 [==============================] - 10s 552ms/step - loss: 0.0017 - val_loss: 0.1727\n",
            "Epoch 22/100\n",
            "18/18 [==============================] - 10s 557ms/step - loss: 0.0020 - val_loss: 0.1870\n",
            "Epoch 23/100\n",
            "18/18 [==============================] - 10s 551ms/step - loss: 0.0023 - val_loss: 0.1585\n",
            "Epoch 24/100\n",
            "18/18 [==============================] - 10s 555ms/step - loss: 0.0014 - val_loss: 0.2249\n",
            "Epoch 25/100\n",
            "18/18 [==============================] - 10s 571ms/step - loss: 0.0028 - val_loss: 0.1917\n",
            "Epoch 26/100\n",
            "18/18 [==============================] - 10s 565ms/step - loss: 9.2259e-04 - val_loss: 0.1803\n",
            "Epoch 27/100\n",
            "18/18 [==============================] - 10s 564ms/step - loss: 0.0025 - val_loss: 0.1709\n",
            "Epoch 28/100\n",
            "18/18 [==============================] - 10s 553ms/step - loss: 0.0032 - val_loss: 0.1333\n",
            "Epoch 29/100\n",
            "18/18 [==============================] - 10s 558ms/step - loss: 0.0044 - val_loss: 0.1748\n",
            "Epoch 30/100\n",
            "18/18 [==============================] - 10s 548ms/step - loss: 0.0029 - val_loss: 0.1672\n",
            "Epoch 31/100\n",
            "18/18 [==============================] - 10s 547ms/step - loss: 0.0025 - val_loss: 0.1378\n",
            "Epoch 32/100\n",
            "18/18 [==============================] - 10s 547ms/step - loss: 0.0056 - val_loss: 0.1531\n",
            "Epoch 33/100\n",
            "18/18 [==============================] - 10s 553ms/step - loss: 0.0053 - val_loss: 0.2157\n",
            "Epoch 34/100\n",
            "18/18 [==============================] - 10s 550ms/step - loss: 0.0027 - val_loss: 0.2023\n",
            "Epoch 35/100\n",
            "18/18 [==============================] - 10s 557ms/step - loss: 8.0027e-04 - val_loss: 0.1690\n",
            "Epoch 36/100\n",
            "18/18 [==============================] - 10s 552ms/step - loss: 0.0014 - val_loss: 0.1869\n",
            "Epoch 37/100\n",
            "18/18 [==============================] - 10s 557ms/step - loss: 0.0028 - val_loss: 0.1951\n",
            "Epoch 38/100\n",
            "18/18 [==============================] - 10s 557ms/step - loss: 0.0073 - val_loss: 0.2108\n",
            "Epoch 39/100\n",
            "18/18 [==============================] - 10s 553ms/step - loss: 0.0041 - val_loss: 0.1906\n",
            "Epoch 40/100\n",
            "18/18 [==============================] - 10s 560ms/step - loss: 0.0052 - val_loss: 0.1478\n",
            "Epoch 41/100\n",
            "18/18 [==============================] - 10s 554ms/step - loss: 0.0036 - val_loss: 0.2783\n",
            "Epoch 42/100\n",
            "18/18 [==============================] - 10s 544ms/step - loss: 0.0051 - val_loss: 0.2392\n",
            "Epoch 43/100\n",
            "18/18 [==============================] - 10s 544ms/step - loss: 0.0053 - val_loss: 0.1755\n",
            "Epoch 44/100\n",
            "18/18 [==============================] - 10s 551ms/step - loss: 0.0055 - val_loss: 0.1625\n",
            "Epoch 45/100\n",
            "18/18 [==============================] - 10s 553ms/step - loss: 0.0032 - val_loss: 0.1872\n",
            "Epoch 46/100\n",
            "18/18 [==============================] - 10s 549ms/step - loss: 0.0045 - val_loss: 0.1227\n",
            "Epoch 47/100\n",
            "18/18 [==============================] - 10s 546ms/step - loss: 0.0040 - val_loss: 0.1759\n",
            "Epoch 48/100\n",
            "18/18 [==============================] - 10s 555ms/step - loss: 0.0034 - val_loss: 0.1301\n",
            "Epoch 49/100\n",
            "18/18 [==============================] - 10s 547ms/step - loss: 0.0015 - val_loss: 0.1609\n",
            "Epoch 50/100\n",
            "18/18 [==============================] - 10s 551ms/step - loss: 0.0045 - val_loss: 0.1945\n",
            "Epoch 51/100\n",
            "18/18 [==============================] - 10s 552ms/step - loss: 0.0041 - val_loss: 0.2183\n",
            "Epoch 52/100\n",
            "18/18 [==============================] - 10s 547ms/step - loss: 0.0115 - val_loss: 0.1445\n",
            "Epoch 53/100\n",
            "18/18 [==============================] - 10s 555ms/step - loss: 0.0079 - val_loss: 0.2666\n",
            "Epoch 54/100\n",
            "18/18 [==============================] - 10s 552ms/step - loss: 0.0075 - val_loss: 0.1655\n",
            "Epoch 55/100\n",
            "18/18 [==============================] - 10s 547ms/step - loss: 0.0039 - val_loss: 0.3029\n",
            "Epoch 56/100\n",
            "18/18 [==============================] - 10s 551ms/step - loss: 0.0090 - val_loss: 0.1663\n",
            "Epoch 57/100\n",
            "18/18 [==============================] - 10s 549ms/step - loss: 0.0081 - val_loss: 0.1024\n",
            "Epoch 58/100\n",
            "18/18 [==============================] - 10s 549ms/step - loss: 0.0106 - val_loss: 0.1506\n",
            "Epoch 59/100\n",
            "18/18 [==============================] - 10s 552ms/step - loss: 0.0051 - val_loss: 0.1570\n",
            "Epoch 60/100\n",
            "18/18 [==============================] - 10s 553ms/step - loss: 0.0028 - val_loss: 0.1511\n",
            "Epoch 61/100\n",
            "18/18 [==============================] - 10s 560ms/step - loss: 6.8715e-04 - val_loss: 0.1679\n",
            "Epoch 62/100\n",
            "18/18 [==============================] - 10s 554ms/step - loss: 0.0027 - val_loss: 0.1342\n",
            "Epoch 63/100\n",
            "18/18 [==============================] - 10s 554ms/step - loss: 7.3213e-04 - val_loss: 0.1862\n",
            "Epoch 64/100\n",
            "18/18 [==============================] - 10s 552ms/step - loss: 0.0024 - val_loss: 0.1104\n",
            "Epoch 65/100\n",
            "18/18 [==============================] - 10s 548ms/step - loss: 0.0017 - val_loss: 0.1478\n",
            "Epoch 66/100\n",
            "18/18 [==============================] - 10s 548ms/step - loss: 0.0018 - val_loss: 0.1937\n",
            "Epoch 67/100\n",
            "18/18 [==============================] - 10s 551ms/step - loss: 0.0028 - val_loss: 0.1686\n",
            "Epoch 68/100\n",
            "18/18 [==============================] - 10s 563ms/step - loss: 0.0031 - val_loss: 0.1712\n",
            "Epoch 69/100\n",
            "18/18 [==============================] - 10s 561ms/step - loss: 9.6498e-04 - val_loss: 0.2275\n",
            "Epoch 70/100\n",
            "18/18 [==============================] - 10s 559ms/step - loss: 0.0024 - val_loss: 0.1905\n",
            "Epoch 71/100\n",
            "18/18 [==============================] - 10s 555ms/step - loss: 0.0085 - val_loss: 0.2023\n",
            "Epoch 72/100\n",
            "18/18 [==============================] - 10s 551ms/step - loss: 0.0031 - val_loss: 0.1892\n",
            "Epoch 73/100\n",
            "18/18 [==============================] - 10s 545ms/step - loss: 0.0040 - val_loss: 0.0996\n",
            "Epoch 74/100\n",
            "18/18 [==============================] - 10s 555ms/step - loss: 0.0035 - val_loss: 0.2060\n",
            "Epoch 75/100\n",
            "18/18 [==============================] - 10s 556ms/step - loss: 0.0042 - val_loss: 0.1593\n",
            "Epoch 76/100\n",
            "18/18 [==============================] - 10s 551ms/step - loss: 0.0043 - val_loss: 0.1341\n",
            "Epoch 77/100\n",
            "18/18 [==============================] - 10s 548ms/step - loss: 0.0026 - val_loss: 0.1698\n",
            "Epoch 78/100\n",
            "18/18 [==============================] - 10s 548ms/step - loss: 0.0033 - val_loss: 0.1367\n",
            "Epoch 79/100\n",
            "18/18 [==============================] - 10s 555ms/step - loss: 0.0018 - val_loss: 0.1188\n",
            "Epoch 80/100\n",
            "18/18 [==============================] - 10s 549ms/step - loss: 9.0183e-04 - val_loss: 0.1294\n",
            "Epoch 81/100\n",
            "18/18 [==============================] - 10s 548ms/step - loss: 3.6117e-04 - val_loss: 0.1502\n",
            "Epoch 82/100\n",
            "18/18 [==============================] - 10s 555ms/step - loss: 8.8513e-04 - val_loss: 0.1661\n",
            "Epoch 83/100\n",
            "18/18 [==============================] - 10s 561ms/step - loss: 0.0030 - val_loss: 0.1640\n",
            "Epoch 84/100\n",
            "18/18 [==============================] - 10s 544ms/step - loss: 0.0053 - val_loss: 0.1507\n",
            "Epoch 85/100\n",
            "18/18 [==============================] - 10s 555ms/step - loss: 0.0028 - val_loss: 0.1173\n",
            "Epoch 86/100\n",
            "18/18 [==============================] - 10s 547ms/step - loss: 0.0025 - val_loss: 0.1699\n",
            "Epoch 87/100\n",
            "18/18 [==============================] - 10s 553ms/step - loss: 0.0010 - val_loss: 0.1875\n",
            "Epoch 88/100\n",
            "18/18 [==============================] - 10s 554ms/step - loss: 0.0015 - val_loss: 0.2057\n",
            "Epoch 89/100\n",
            "18/18 [==============================] - 10s 556ms/step - loss: 6.0899e-04 - val_loss: 0.1958\n",
            "Epoch 90/100\n",
            "18/18 [==============================] - 10s 548ms/step - loss: 9.4176e-04 - val_loss: 0.1759\n",
            "Epoch 91/100\n",
            "18/18 [==============================] - 10s 551ms/step - loss: 0.0021 - val_loss: 0.2378\n",
            "Epoch 92/100\n",
            "18/18 [==============================] - 10s 547ms/step - loss: 0.0018 - val_loss: 0.2664\n",
            "Epoch 93/100\n",
            "18/18 [==============================] - 10s 554ms/step - loss: 0.0017 - val_loss: 0.2032\n",
            "Epoch 94/100\n",
            "18/18 [==============================] - 10s 562ms/step - loss: 0.0029 - val_loss: 0.2332\n",
            "Epoch 95/100\n",
            "18/18 [==============================] - 10s 550ms/step - loss: 0.0017 - val_loss: 0.2283\n",
            "Epoch 96/100\n",
            "18/18 [==============================] - 10s 552ms/step - loss: 0.0016 - val_loss: 0.2043\n",
            "Epoch 97/100\n",
            "18/18 [==============================] - 10s 547ms/step - loss: 0.0042 - val_loss: 0.2262\n",
            "Epoch 98/100\n",
            "18/18 [==============================] - 10s 555ms/step - loss: 0.0104 - val_loss: 0.2186\n",
            "Epoch 99/100\n",
            "18/18 [==============================] - 10s 545ms/step - loss: 0.0080 - val_loss: 0.1552\n",
            "Epoch 100/100\n",
            "18/18 [==============================] - 10s 556ms/step - loss: 0.0061 - val_loss: 0.2213\n"
          ]
        },
        {
          "output_type": "execute_result",
          "data": {
            "text/plain": [
              "<keras.callbacks.History at 0x7fe8c76a3d10>"
            ]
          },
          "metadata": {},
          "execution_count": 167
        }
      ]
    },
    {
      "cell_type": "code",
      "source": [
        "predictions = [np.argmax(i) for i in model.predict(x_test_pad)]\n",
        "precision_recall_fscore_support(y_test, predictions, average='weighted')\n",
        "print('bi LSTM Glove\\nPrecision =',precision_recall_fscore_support(y_test, predictions, average='weighted')[0])\n",
        "print('Recall =',precision_recall_fscore_support(y_test, predictions, average='weighted')[1])\n",
        "print('F1 Score =',precision_recall_fscore_support(y_test, predictions, average='weighted')[2])\n",
        "#print (\"logloss: %0.3f \" % multiclass_logloss(y_test, predictions))\n",
        "print (\"logloss: %0.3f \" % multiclass_logloss(y_test_enc, model.predict(x_test_pad)))"
      ],
      "metadata": {
        "colab": {
          "base_uri": "https://localhost:8080/"
        },
        "id": "AsL0kGnmsGpH",
        "outputId": "d10a052f-077d-43d0-c3f1-01d7b97ec392"
      },
      "execution_count": null,
      "outputs": [
        {
          "output_type": "stream",
          "name": "stdout",
          "text": [
            "LSTM Glove early stop\n",
            "Precision = 0.8532671672645598\n",
            "Recall = 0.8624935864545921\n",
            "F1 Score = 0.856224509848335\n",
            "logloss: 1.826 \n"
          ]
        }
      ]
    },
    {
      "cell_type": "code",
      "source": [
        ""
      ],
      "metadata": {
        "id": "MBHDA6ajZihQ"
      },
      "execution_count": null,
      "outputs": []
    },
    {
      "cell_type": "code",
      "source": [
        ""
      ],
      "metadata": {
        "id": "BPfWQ4xlXA1P"
      },
      "execution_count": null,
      "outputs": []
    },
    {
      "cell_type": "code",
      "source": [
        ""
      ],
      "metadata": {
        "id": "rxfOvF29W7WS"
      },
      "execution_count": null,
      "outputs": []
    },
    {
      "cell_type": "markdown",
      "source": [
        "two layers of GRU"
      ],
      "metadata": {
        "id": "SD1RUnfIti9I"
      }
    },
    {
      "cell_type": "code",
      "source": [
        "# GRU with glove embeddings and two dense layers\n",
        "model = Sequential()\n",
        "model.add(Embedding(len(word_index) + 1,\n",
        "                     300,\n",
        "                     weights=[embedding_matrix],\n",
        "                     input_length=max_len,\n",
        "                     trainable=False))\n",
        "model.add(SpatialDropout1D(0.3))\n",
        "model.add(GRU(300, dropout=0.3, recurrent_dropout=0.3, return_sequences=True))\n",
        "model.add(GRU(300, dropout=0.3, recurrent_dropout=0.3))\n",
        "\n",
        "model.add(Dense(1024, activation='relu'))\n",
        "model.add(Dropout(0.8))\n",
        "\n",
        "model.add(Dense(1024, activation='relu'))\n",
        "model.add(Dropout(0.8))\n",
        "\n",
        "model.add(Dense(4))\n",
        "model.add(Activation('softmax'))\n",
        "model.compile(loss='categorical_crossentropy', optimizer='adam')\n",
        "\n",
        "'''# Fit the model with early stopping callback\n",
        "earlystop = EarlyStopping(monitor='val_loss', min_delta=0, patience=3, verbose=0, mode='auto')\n",
        "model.fit(xtrain_pad, y=ytrain_enc, batch_size=512, epochs=100, \n",
        "          verbose=1, validation_data=(xvalid_pad, yvalid_enc), callbacks=[earlystop])'''"
      ],
      "metadata": {
        "id": "D6Tl-dAntjW1",
        "colab": {
          "base_uri": "https://localhost:8080/",
          "height": 70
        },
        "outputId": "ad2d92f8-3637-4593-80a5-6bb1bf3a5e02"
      },
      "execution_count": null,
      "outputs": [
        {
          "output_type": "execute_result",
          "data": {
            "text/plain": [
              "\"# Fit the model with early stopping callback\\nearlystop = EarlyStopping(monitor='val_loss', min_delta=0, patience=3, verbose=0, mode='auto')\\nmodel.fit(xtrain_pad, y=ytrain_enc, batch_size=512, epochs=100, \\n          verbose=1, validation_data=(xvalid_pad, yvalid_enc), callbacks=[earlystop])\""
            ],
            "application/vnd.google.colaboratory.intrinsic+json": {
              "type": "string"
            }
          },
          "metadata": {},
          "execution_count": 169
        }
      ]
    },
    {
      "cell_type": "code",
      "source": [
        "model.fit(xtrain_pad, y=ytrain_enc, batch_size=512, epochs=100, \n",
        "          verbose=1, validation_data=(xvalid_pad, yvalid_enc))"
      ],
      "metadata": {
        "colab": {
          "base_uri": "https://localhost:8080/"
        },
        "id": "EO_YAtKZ81R9",
        "outputId": "cce98c49-15b0-4e70-ee53-ba17bab69592"
      },
      "execution_count": null,
      "outputs": [
        {
          "output_type": "stream",
          "name": "stdout",
          "text": [
            "Epoch 1/100\n",
            "18/18 [==============================] - 41s 2s/step - loss: 1.2880 - val_loss: 0.8682\n",
            "Epoch 2/100\n",
            "18/18 [==============================] - 32s 2s/step - loss: 0.8235 - val_loss: 0.5054\n",
            "Epoch 3/100\n",
            "18/18 [==============================] - 24s 1s/step - loss: 0.5905 - val_loss: 0.3754\n",
            "Epoch 4/100\n",
            "18/18 [==============================] - 12s 641ms/step - loss: 0.4328 - val_loss: 0.2792\n",
            "Epoch 5/100\n",
            "18/18 [==============================] - 12s 648ms/step - loss: 0.3306 - val_loss: 0.2312\n",
            "Epoch 6/100\n",
            "18/18 [==============================] - 12s 694ms/step - loss: 0.2830 - val_loss: 0.1792\n",
            "Epoch 7/100\n",
            "18/18 [==============================] - 12s 659ms/step - loss: 0.2253 - val_loss: 0.1628\n",
            "Epoch 8/100\n",
            "18/18 [==============================] - 12s 654ms/step - loss: 0.2053 - val_loss: 0.1393\n",
            "Epoch 9/100\n",
            "18/18 [==============================] - 12s 651ms/step - loss: 0.1807 - val_loss: 0.1219\n",
            "Epoch 10/100\n",
            "18/18 [==============================] - 12s 653ms/step - loss: 0.1674 - val_loss: 0.1435\n",
            "Epoch 11/100\n",
            "18/18 [==============================] - 12s 651ms/step - loss: 0.1553 - val_loss: 0.1158\n",
            "Epoch 12/100\n",
            "18/18 [==============================] - 13s 707ms/step - loss: 0.1383 - val_loss: 0.1300\n",
            "Epoch 13/100\n",
            "18/18 [==============================] - 12s 643ms/step - loss: 0.1245 - val_loss: 0.1145\n",
            "Epoch 14/100\n",
            "18/18 [==============================] - 11s 637ms/step - loss: 0.1157 - val_loss: 0.1164\n",
            "Epoch 15/100\n",
            "18/18 [==============================] - 12s 667ms/step - loss: 0.1041 - val_loss: 0.1128\n",
            "Epoch 16/100\n",
            "18/18 [==============================] - 11s 633ms/step - loss: 0.0943 - val_loss: 0.1008\n",
            "Epoch 17/100\n",
            "18/18 [==============================] - 11s 632ms/step - loss: 0.0859 - val_loss: 0.0946\n",
            "Epoch 18/100\n",
            "18/18 [==============================] - 11s 631ms/step - loss: 0.0783 - val_loss: 0.1057\n",
            "Epoch 19/100\n",
            "18/18 [==============================] - 11s 623ms/step - loss: 0.0734 - val_loss: 0.1160\n",
            "Epoch 20/100\n",
            "18/18 [==============================] - 12s 677ms/step - loss: 0.0727 - val_loss: 0.0759\n",
            "Epoch 21/100\n",
            "18/18 [==============================] - 12s 686ms/step - loss: 0.0677 - val_loss: 0.0817\n",
            "Epoch 22/100\n",
            "18/18 [==============================] - 11s 638ms/step - loss: 0.0644 - val_loss: 0.0785\n",
            "Epoch 23/100\n",
            "18/18 [==============================] - 11s 640ms/step - loss: 0.0522 - val_loss: 0.1026\n",
            "Epoch 24/100\n",
            "18/18 [==============================] - 12s 641ms/step - loss: 0.0541 - val_loss: 0.1232\n",
            "Epoch 25/100\n",
            "18/18 [==============================] - 11s 638ms/step - loss: 0.0455 - val_loss: 0.0753\n",
            "Epoch 26/100\n",
            "18/18 [==============================] - 11s 624ms/step - loss: 0.0472 - val_loss: 0.1327\n",
            "Epoch 27/100\n",
            "18/18 [==============================] - 11s 632ms/step - loss: 0.0388 - val_loss: 0.1043\n",
            "Epoch 28/100\n",
            "18/18 [==============================] - 11s 635ms/step - loss: 0.0501 - val_loss: 0.0719\n",
            "Epoch 29/100\n",
            "18/18 [==============================] - 11s 638ms/step - loss: 0.0356 - val_loss: 0.0933\n",
            "Epoch 30/100\n",
            "18/18 [==============================] - 12s 683ms/step - loss: 0.0324 - val_loss: 0.1116\n",
            "Epoch 31/100\n",
            "18/18 [==============================] - 11s 616ms/step - loss: 0.0340 - val_loss: 0.0934\n",
            "Epoch 32/100\n",
            "18/18 [==============================] - 11s 633ms/step - loss: 0.0264 - val_loss: 0.1076\n",
            "Epoch 33/100\n",
            "18/18 [==============================] - 12s 641ms/step - loss: 0.0219 - val_loss: 0.1197\n",
            "Epoch 34/100\n",
            "18/18 [==============================] - 11s 627ms/step - loss: 0.0343 - val_loss: 0.0890\n",
            "Epoch 35/100\n",
            "18/18 [==============================] - 11s 629ms/step - loss: 0.0224 - val_loss: 0.0932\n",
            "Epoch 36/100\n",
            "18/18 [==============================] - 11s 629ms/step - loss: 0.0182 - val_loss: 0.1408\n",
            "Epoch 37/100\n",
            "18/18 [==============================] - 11s 621ms/step - loss: 0.0259 - val_loss: 0.0948\n",
            "Epoch 38/100\n",
            "18/18 [==============================] - 11s 624ms/step - loss: 0.0247 - val_loss: 0.1126\n",
            "Epoch 39/100\n",
            "18/18 [==============================] - 11s 631ms/step - loss: 0.0175 - val_loss: 0.1137\n",
            "Epoch 40/100\n",
            "18/18 [==============================] - 11s 627ms/step - loss: 0.0178 - val_loss: 0.1124\n",
            "Epoch 41/100\n",
            "18/18 [==============================] - 11s 627ms/step - loss: 0.0137 - val_loss: 0.1367\n",
            "Epoch 42/100\n",
            "18/18 [==============================] - 11s 622ms/step - loss: 0.0154 - val_loss: 0.1496\n",
            "Epoch 43/100\n",
            "18/18 [==============================] - 11s 626ms/step - loss: 0.0177 - val_loss: 0.1884\n",
            "Epoch 44/100\n",
            "18/18 [==============================] - 11s 627ms/step - loss: 0.0193 - val_loss: 0.1150\n",
            "Epoch 45/100\n",
            "18/18 [==============================] - 11s 623ms/step - loss: 0.0165 - val_loss: 0.1188\n",
            "Epoch 46/100\n",
            "18/18 [==============================] - 11s 620ms/step - loss: 0.0166 - val_loss: 0.1243\n",
            "Epoch 47/100\n",
            "18/18 [==============================] - 11s 614ms/step - loss: 0.0151 - val_loss: 0.1473\n",
            "Epoch 48/100\n",
            "18/18 [==============================] - 11s 627ms/step - loss: 0.0150 - val_loss: 0.1049\n",
            "Epoch 49/100\n",
            "18/18 [==============================] - 11s 623ms/step - loss: 0.0107 - val_loss: 0.1515\n",
            "Epoch 50/100\n",
            "18/18 [==============================] - 11s 626ms/step - loss: 0.0134 - val_loss: 0.1297\n",
            "Epoch 51/100\n",
            "18/18 [==============================] - 11s 627ms/step - loss: 0.0073 - val_loss: 0.1703\n",
            "Epoch 52/100\n",
            "18/18 [==============================] - 11s 617ms/step - loss: 0.0119 - val_loss: 0.1389\n",
            "Epoch 53/100\n",
            "18/18 [==============================] - 11s 625ms/step - loss: 0.0166 - val_loss: 0.1779\n",
            "Epoch 54/100\n",
            "18/18 [==============================] - 11s 623ms/step - loss: 0.0105 - val_loss: 0.1798\n",
            "Epoch 55/100\n",
            "18/18 [==============================] - 11s 630ms/step - loss: 0.0079 - val_loss: 0.1887\n",
            "Epoch 56/100\n",
            "18/18 [==============================] - 11s 632ms/step - loss: 0.0103 - val_loss: 0.1435\n",
            "Epoch 57/100\n",
            "18/18 [==============================] - 11s 632ms/step - loss: 0.0148 - val_loss: 0.1672\n",
            "Epoch 58/100\n",
            "18/18 [==============================] - 11s 619ms/step - loss: 0.0144 - val_loss: 0.1523\n",
            "Epoch 59/100\n",
            "18/18 [==============================] - 11s 627ms/step - loss: 0.0090 - val_loss: 0.1262\n",
            "Epoch 60/100\n",
            "18/18 [==============================] - 11s 622ms/step - loss: 0.0106 - val_loss: 0.1615\n",
            "Epoch 61/100\n",
            "18/18 [==============================] - 11s 620ms/step - loss: 0.0084 - val_loss: 0.1446\n",
            "Epoch 62/100\n",
            "18/18 [==============================] - 11s 620ms/step - loss: 0.0057 - val_loss: 0.1743\n",
            "Epoch 63/100\n",
            "18/18 [==============================] - 11s 617ms/step - loss: 0.0053 - val_loss: 0.1704\n",
            "Epoch 64/100\n",
            "18/18 [==============================] - 11s 626ms/step - loss: 0.0044 - val_loss: 0.1672\n",
            "Epoch 65/100\n",
            "18/18 [==============================] - 11s 627ms/step - loss: 0.0099 - val_loss: 0.1814\n",
            "Epoch 66/100\n",
            "18/18 [==============================] - 11s 635ms/step - loss: 0.0111 - val_loss: 0.1781\n",
            "Epoch 67/100\n",
            "18/18 [==============================] - 11s 637ms/step - loss: 0.0098 - val_loss: 0.1364\n",
            "Epoch 68/100\n",
            "18/18 [==============================] - 12s 647ms/step - loss: 0.0099 - val_loss: 0.1445\n",
            "Epoch 69/100\n",
            "18/18 [==============================] - 12s 640ms/step - loss: 0.0089 - val_loss: 0.1582\n",
            "Epoch 70/100\n",
            "18/18 [==============================] - 11s 638ms/step - loss: 0.0080 - val_loss: 0.1699\n",
            "Epoch 71/100\n",
            "18/18 [==============================] - 11s 636ms/step - loss: 0.0043 - val_loss: 0.1961\n",
            "Epoch 72/100\n",
            "18/18 [==============================] - 11s 630ms/step - loss: 0.0041 - val_loss: 0.2030\n",
            "Epoch 73/100\n",
            "18/18 [==============================] - 12s 642ms/step - loss: 0.0063 - val_loss: 0.1754\n",
            "Epoch 74/100\n",
            "18/18 [==============================] - 11s 630ms/step - loss: 0.0036 - val_loss: 0.1970\n",
            "Epoch 75/100\n",
            "18/18 [==============================] - 11s 623ms/step - loss: 0.0037 - val_loss: 0.1662\n",
            "Epoch 76/100\n",
            "18/18 [==============================] - 11s 623ms/step - loss: 0.0104 - val_loss: 0.1292\n",
            "Epoch 77/100\n",
            "18/18 [==============================] - 11s 626ms/step - loss: 0.0139 - val_loss: 0.1607\n",
            "Epoch 78/100\n",
            "18/18 [==============================] - 11s 633ms/step - loss: 0.0060 - val_loss: 0.1458\n",
            "Epoch 79/100\n",
            "18/18 [==============================] - 11s 628ms/step - loss: 0.0096 - val_loss: 0.1224\n",
            "Epoch 80/100\n",
            "18/18 [==============================] - 11s 619ms/step - loss: 0.0056 - val_loss: 0.1943\n",
            "Epoch 81/100\n",
            "18/18 [==============================] - 11s 627ms/step - loss: 0.0062 - val_loss: 0.1629\n",
            "Epoch 82/100\n",
            "18/18 [==============================] - 11s 626ms/step - loss: 0.0075 - val_loss: 0.1523\n",
            "Epoch 83/100\n",
            "18/18 [==============================] - 11s 622ms/step - loss: 0.0054 - val_loss: 0.1804\n",
            "Epoch 84/100\n",
            "18/18 [==============================] - 11s 622ms/step - loss: 0.0087 - val_loss: 0.2279\n",
            "Epoch 85/100\n",
            "18/18 [==============================] - 12s 640ms/step - loss: 0.0098 - val_loss: 0.2047\n",
            "Epoch 86/100\n",
            "18/18 [==============================] - 11s 623ms/step - loss: 0.0068 - val_loss: 0.2311\n",
            "Epoch 87/100\n",
            "18/18 [==============================] - 11s 619ms/step - loss: 0.0052 - val_loss: 0.1526\n",
            "Epoch 88/100\n",
            "18/18 [==============================] - 11s 637ms/step - loss: 0.0049 - val_loss: 0.2305\n",
            "Epoch 89/100\n",
            "18/18 [==============================] - 11s 625ms/step - loss: 0.0046 - val_loss: 0.2324\n",
            "Epoch 90/100\n",
            "18/18 [==============================] - 11s 617ms/step - loss: 0.0049 - val_loss: 0.1809\n",
            "Epoch 91/100\n",
            "18/18 [==============================] - 11s 621ms/step - loss: 0.0071 - val_loss: 0.1521\n",
            "Epoch 92/100\n",
            "18/18 [==============================] - 11s 625ms/step - loss: 0.0061 - val_loss: 0.1470\n",
            "Epoch 93/100\n",
            "18/18 [==============================] - 11s 622ms/step - loss: 0.0043 - val_loss: 0.1724\n",
            "Epoch 94/100\n",
            "18/18 [==============================] - 11s 638ms/step - loss: 0.0022 - val_loss: 0.2533\n",
            "Epoch 95/100\n",
            "18/18 [==============================] - 11s 627ms/step - loss: 0.0083 - val_loss: 0.2221\n",
            "Epoch 96/100\n",
            "18/18 [==============================] - 11s 623ms/step - loss: 0.0099 - val_loss: 0.2578\n",
            "Epoch 97/100\n",
            "18/18 [==============================] - 11s 620ms/step - loss: 0.0061 - val_loss: 0.2366\n",
            "Epoch 98/100\n",
            "18/18 [==============================] - 11s 630ms/step - loss: 0.0063 - val_loss: 0.1749\n",
            "Epoch 99/100\n",
            "18/18 [==============================] - 11s 623ms/step - loss: 0.0044 - val_loss: 0.1985\n",
            "Epoch 100/100\n",
            "18/18 [==============================] - 11s 622ms/step - loss: 0.0061 - val_loss: 0.2690\n"
          ]
        },
        {
          "output_type": "execute_result",
          "data": {
            "text/plain": [
              "<keras.callbacks.History at 0x7fea2e5e9a10>"
            ]
          },
          "metadata": {},
          "execution_count": 170
        }
      ]
    },
    {
      "cell_type": "code",
      "source": [
        ""
      ],
      "metadata": {
        "id": "vZ-wp8ft-n3e"
      },
      "execution_count": null,
      "outputs": []
    },
    {
      "cell_type": "code",
      "source": [
        "predictions = [np.argmax(i) for i in model.predict(x_test_pad)]\n",
        "precision_recall_fscore_support(y_test, predictions, average='weighted')\n",
        "print('GRU Glove keras\\nPrecision =',precision_recall_fscore_support(y_test, predictions, average='weighted')[0])\n",
        "print('Recall =',precision_recall_fscore_support(y_test, predictions, average='weighted')[1])\n",
        "print('F1 Score =',precision_recall_fscore_support(y_test, predictions, average='weighted')[2])\n",
        "#print (\"logloss: %0.3f \" % multiclass_logloss(y_test, predictions))\n",
        "print (\"logloss: %0.3f \" % multiclass_logloss(y_test_enc, model.predict(x_test_pad)))"
      ],
      "metadata": {
        "colab": {
          "base_uri": "https://localhost:8080/"
        },
        "id": "MfFZGTxx9CS4",
        "outputId": "10966535-aabe-4a3c-8bbe-68f1eae73354"
      },
      "execution_count": null,
      "outputs": [
        {
          "output_type": "stream",
          "name": "stdout",
          "text": [
            "GRU Glove keras\n",
            "Precision = 0.8547377992342549\n",
            "Recall = 0.8624935864545921\n",
            "F1 Score = 0.8571003754058378\n",
            "logloss: 1.803 \n"
          ]
        }
      ]
    },
    {
      "cell_type": "code",
      "source": [
        "model.summary()\n",
        "print (\"logloss: %0.3f \" % multiclass_logloss(yvalid_enc, model.predict(xvalid_pad)))"
      ],
      "metadata": {
        "id": "DASQRBSHDEmr"
      },
      "execution_count": null,
      "outputs": []
    },
    {
      "cell_type": "code",
      "source": [
        ""
      ],
      "metadata": {
        "id": "EjCw8VCOO6Xt"
      },
      "execution_count": null,
      "outputs": []
    },
    {
      "cell_type": "code",
      "source": [
        ""
      ],
      "metadata": {
        "id": "z6Tefw5tO6UR"
      },
      "execution_count": null,
      "outputs": []
    },
    {
      "cell_type": "code",
      "source": [
        "# Bidirectional RNN\n",
        "model = Sequential()\n",
        "model.add(Embedding(len(word_index) + 1,\n",
        "                     300,\n",
        "                     weights=[embedding_matrix],\n",
        "                     input_length=max_len,\n",
        "                     trainable=False))\n",
        "model.add(SpatialDropout1D(0.3))\n",
        "\n",
        "model.add(Bidirectional(LSTM(300, dropout=0.3, recurrent_dropout=0.3)))\n",
        "#model.add(LSTM(300, dropout=0.3, recurrent_dropout=0.3))\n",
        "\n",
        "model.add(Dense(1024, activation='relu'))\n",
        "model.add(Dropout(0.8))\n",
        "\n",
        "model.add(Dense(1024, activation='relu'))\n",
        "model.add(Dropout(0.8))\n",
        "\n",
        "model.add(Dense(4))\n",
        "model.add(Activation('softmax'))\n",
        "model.compile(loss='categorical_crossentropy', optimizer='adam')\n",
        "\n",
        "# Fit the model with early stopping callback\n",
        "earlystop = EarlyStopping(monitor='val_loss', min_delta=0, patience=3, verbose=0, mode='auto')\n",
        "model.fit(xtrain_pad, y=ytrain_enc, batch_size=512, epochs=100, \n",
        "          verbose=1, validation_data=(xvalid_pad, yvalid_enc), callbacks=[earlystop])"
      ],
      "metadata": {
        "id": "E0XDOUahO6P6"
      },
      "execution_count": null,
      "outputs": []
    },
    {
      "cell_type": "code",
      "source": [
        "model.summary()\n",
        "print (\"logloss: %0.3f \" % multiclass_logloss(yvalid_enc, model.predict(xvalid_pad)))"
      ],
      "metadata": {
        "id": "-waae2aVO6NN"
      },
      "execution_count": null,
      "outputs": []
    },
    {
      "cell_type": "code",
      "source": [
        ""
      ],
      "metadata": {
        "id": "k9uivA5vO6Kb"
      },
      "execution_count": null,
      "outputs": []
    },
    {
      "cell_type": "markdown",
      "source": [
        "ATTENTION PLEASE"
      ],
      "metadata": {
        "id": "0WSepU5sQLbf"
      }
    },
    {
      "cell_type": "code",
      "source": [
        "def fast_encode(texts, tokenizer, chunk_size=256, maxlen=512):\n",
        "    \"\"\"\n",
        "    Encoder for encoding the text into sequence of integers for BERT Input\n",
        "    \"\"\"\n",
        "    tokenizer.enable_truncation(max_length=maxlen)\n",
        "    tokenizer.enable_padding(max_length=maxlen)\n",
        "    all_ids = []\n",
        "    \n",
        "    for i in tqdm(range(0, len(texts), chunk_size)):\n",
        "        text_chunk = texts[i:i+chunk_size].tolist()\n",
        "        encs = tokenizer.encode_batch(text_chunk)\n",
        "        all_ids.extend([enc.ids for enc in encs])\n",
        "    \n",
        "    return np.array(all_ids)"
      ],
      "metadata": {
        "id": "BF9pys18QhLC"
      },
      "execution_count": null,
      "outputs": []
    },
    {
      "cell_type": "code",
      "source": [
        "#IMP DATA FOR CONFIG\n",
        "\n",
        "AUTO = tf.data.experimental.AUTOTUNE\n",
        "\n",
        "\n",
        "# Configuration\n",
        "EPOCHS = 3\n",
        "BATCH_SIZE = 32\n",
        "MAX_LEN = 300"
      ],
      "metadata": {
        "id": "w9M-q0t9QhIN"
      },
      "execution_count": null,
      "outputs": []
    },
    {
      "cell_type": "markdown",
      "source": [
        "Load Tokenizer"
      ],
      "metadata": {
        "id": "Tvjx8Jr1Q8jH"
      }
    },
    {
      "cell_type": "code",
      "source": [
        "# First load the real tokenizer\n",
        "tokenizer = transformers.DistilBertTokenizer.from_pretrained('distilbert-base-multilingual-cased')\n",
        "# Save the loaded tokenizer locally\n",
        "tokenizer.save_pretrained('.')\n",
        "# Reload it with the huggingface tokenizers library\n",
        "fast_tokenizer = BertWordPieceTokenizer('vocab.txt', lowercase=False)\n",
        "fast_tokenizer"
      ],
      "metadata": {
        "colab": {
          "base_uri": "https://localhost:8080/",
          "height": 636,
          "referenced_widgets": [
            "5553ecc401b34e7d97c9cc02e0a1c47a",
            "1e0b5aa6345f49b89795569be3cd1af0",
            "cc18cecfc90c4db98cfb052490293864",
            "d22f4827f1fb45118cfa7422e9afeadf",
            "585b3f80be7b4626948e6592957c6e86",
            "06b1d2648ee142e8b9d424c55899d4aa",
            "52ce5d6e493d494fb1345e75aa23c41c",
            "7d2a26df9fa445aca65278c6ec08b972",
            "151ca40110734da59bad273104e3a748",
            "7af683e24d69465da18a650dbaaa95ca",
            "a2e4da34f21640759a023946aaf2eb51",
            "0b8d1dbef2044ebb82e5ffd549b5458d",
            "d1649d4aaf0d41188a1ecb210aaa539d",
            "b5d1f8c163c34a5f880d813ce15e3f98",
            "d7223d25133a412da01aee8b966a3e62",
            "0748fb881a1a4f41b321d4ddbd9b1d05",
            "e68624ade97c43e0a0fc5ceb563ab096",
            "157cfc426db34d48a856254605551ab9",
            "f3ef8fa63db04a1bb89dd17f5c9040c5",
            "870b65ab277a4e7c8909500716b1cf41",
            "d0b7f61ab2a24e1bb4602a758da5b199",
            "31136312ac6f49f39036c197c877959e",
            "87c1b58168584e0a8559b21a436a3fd0",
            "8349ec33af8b452688798faa4f07a9eb",
            "d24f64bb97d44c47ba50b8b9f1738871",
            "65fbc400b4344aa5b161df0a3070d667",
            "d3d52d03226b40ed833f15a3778f3337",
            "8e9986fc7908461e955513c49e23c2aa",
            "ba152ae62eca40a8860849d5671fd1dc",
            "3bea51671e614e6a9e331276b750e780",
            "3734edd8df834db1bee7638d5d97e876",
            "cc1230abd25e4f22bdbc4e7226208f84",
            "1d1aa96e922c468696ac60c986c7d1fa"
          ]
        },
        "id": "zaGpeGAaQhFA",
        "outputId": "725c2980-c50d-431d-9bfc-edd81387f0bb"
      },
      "execution_count": null,
      "outputs": [
        {
          "output_type": "stream",
          "name": "stdout",
          "text": [
            "[06:31:23] DEBUG Starting new HTTPS connection (1): huggingface.co:443\n",
            "[06:31:23] DEBUG https://huggingface.co:443 \"HEAD /distilbert-base-multilingual-cased/resolve/main/vocab.txt HTTP/1.1\" 200 0\n",
            "[06:31:23] DEBUG Attempting to acquire lock 139890070013136 on /root/.cache/huggingface/transformers/28e5b750bf4f39cc620367720e105de1501cf36ec4ca7029eba82c1d2cc47caf.6c5b6600e968f4b5e08c86d8891ea99e51537fc2bf251435fb46922e8f7a7b29.lock\n",
            "[06:31:23] DEBUG Lock 139890070013136 acquired on /root/.cache/huggingface/transformers/28e5b750bf4f39cc620367720e105de1501cf36ec4ca7029eba82c1d2cc47caf.6c5b6600e968f4b5e08c86d8891ea99e51537fc2bf251435fb46922e8f7a7b29.lock\n",
            "[06:31:23] DEBUG Starting new HTTPS connection (1): huggingface.co:443\n",
            "[06:31:24] DEBUG https://huggingface.co:443 \"GET /distilbert-base-multilingual-cased/resolve/main/vocab.txt HTTP/1.1\" 200 995526\n"
          ]
        },
        {
          "output_type": "display_data",
          "data": {
            "text/plain": [
              "Downloading:   0%|          | 0.00/972k [00:00<?, ?B/s]"
            ],
            "application/vnd.jupyter.widget-view+json": {
              "version_major": 2,
              "version_minor": 0,
              "model_id": "5553ecc401b34e7d97c9cc02e0a1c47a"
            }
          },
          "metadata": {}
        },
        {
          "output_type": "stream",
          "name": "stdout",
          "text": [
            "[06:31:24] DEBUG Attempting to release lock 139890070013136 on /root/.cache/huggingface/transformers/28e5b750bf4f39cc620367720e105de1501cf36ec4ca7029eba82c1d2cc47caf.6c5b6600e968f4b5e08c86d8891ea99e51537fc2bf251435fb46922e8f7a7b29.lock\n",
            "[06:31:24] DEBUG Lock 139890070013136 released on /root/.cache/huggingface/transformers/28e5b750bf4f39cc620367720e105de1501cf36ec4ca7029eba82c1d2cc47caf.6c5b6600e968f4b5e08c86d8891ea99e51537fc2bf251435fb46922e8f7a7b29.lock\n",
            "[06:31:24] DEBUG Starting new HTTPS connection (1): huggingface.co:443\n",
            "[06:31:24] DEBUG https://huggingface.co:443 \"HEAD /distilbert-base-multilingual-cased/resolve/main/added_tokens.json HTTP/1.1\" 404 0\n",
            "[06:31:24] DEBUG Starting new HTTPS connection (1): huggingface.co:443\n",
            "[06:31:25] DEBUG https://huggingface.co:443 \"HEAD /distilbert-base-multilingual-cased/resolve/main/special_tokens_map.json HTTP/1.1\" 404 0\n",
            "[06:31:25] DEBUG Starting new HTTPS connection (1): huggingface.co:443\n",
            "[06:31:25] DEBUG https://huggingface.co:443 \"HEAD /distilbert-base-multilingual-cased/resolve/main/tokenizer_config.json HTTP/1.1\" 200 0\n",
            "[06:31:25] DEBUG Attempting to acquire lock 139890074902672 on /root/.cache/huggingface/transformers/47087d99feeb3bc6184d7576ff089c52f7fbe3219fe48c6c4fa681e617753256.ec5c189f89475aac7d8cbd243960a0655cfadc3d0474da8ff2ed0bf1699c2a5f.lock\n",
            "[06:31:25] DEBUG Lock 139890074902672 acquired on /root/.cache/huggingface/transformers/47087d99feeb3bc6184d7576ff089c52f7fbe3219fe48c6c4fa681e617753256.ec5c189f89475aac7d8cbd243960a0655cfadc3d0474da8ff2ed0bf1699c2a5f.lock\n",
            "[06:31:25] DEBUG Starting new HTTPS connection (1): huggingface.co:443\n",
            "[06:31:25] DEBUG https://huggingface.co:443 \"GET /distilbert-base-multilingual-cased/resolve/main/tokenizer_config.json HTTP/1.1\" 200 29\n"
          ]
        },
        {
          "output_type": "display_data",
          "data": {
            "text/plain": [
              "Downloading:   0%|          | 0.00/29.0 [00:00<?, ?B/s]"
            ],
            "application/vnd.jupyter.widget-view+json": {
              "version_major": 2,
              "version_minor": 0,
              "model_id": "0b8d1dbef2044ebb82e5ffd549b5458d"
            }
          },
          "metadata": {}
        },
        {
          "output_type": "stream",
          "name": "stdout",
          "text": [
            "[06:31:25] DEBUG Attempting to release lock 139890074902672 on /root/.cache/huggingface/transformers/47087d99feeb3bc6184d7576ff089c52f7fbe3219fe48c6c4fa681e617753256.ec5c189f89475aac7d8cbd243960a0655cfadc3d0474da8ff2ed0bf1699c2a5f.lock\n",
            "[06:31:25] DEBUG Lock 139890074902672 released on /root/.cache/huggingface/transformers/47087d99feeb3bc6184d7576ff089c52f7fbe3219fe48c6c4fa681e617753256.ec5c189f89475aac7d8cbd243960a0655cfadc3d0474da8ff2ed0bf1699c2a5f.lock\n",
            "[06:31:25] DEBUG Starting new HTTPS connection (1): huggingface.co:443\n",
            "[06:31:26] DEBUG https://huggingface.co:443 \"HEAD /distilbert-base-multilingual-cased/resolve/main/config.json HTTP/1.1\" 200 0\n",
            "[06:31:26] DEBUG Attempting to acquire lock 139890035812816 on /root/.cache/huggingface/transformers/cf37a9dc282a679f121734d06f003625d14cfdaf55c14358c4c0b8e7e2b89ac9.7a727bd85e40715bec919a39cdd6f0aba27a8cd488f2d4e0f512448dcd02bf0f.lock\n",
            "[06:31:26] DEBUG Lock 139890035812816 acquired on /root/.cache/huggingface/transformers/cf37a9dc282a679f121734d06f003625d14cfdaf55c14358c4c0b8e7e2b89ac9.7a727bd85e40715bec919a39cdd6f0aba27a8cd488f2d4e0f512448dcd02bf0f.lock\n",
            "[06:31:26] DEBUG Starting new HTTPS connection (1): huggingface.co:443\n",
            "[06:31:26] DEBUG https://huggingface.co:443 \"GET /distilbert-base-multilingual-cased/resolve/main/config.json HTTP/1.1\" 200 466\n"
          ]
        },
        {
          "output_type": "display_data",
          "data": {
            "text/plain": [
              "Downloading:   0%|          | 0.00/466 [00:00<?, ?B/s]"
            ],
            "application/vnd.jupyter.widget-view+json": {
              "version_major": 2,
              "version_minor": 0,
              "model_id": "87c1b58168584e0a8559b21a436a3fd0"
            }
          },
          "metadata": {}
        },
        {
          "output_type": "stream",
          "name": "stdout",
          "text": [
            "[06:31:26] DEBUG Attempting to release lock 139890035812816 on /root/.cache/huggingface/transformers/cf37a9dc282a679f121734d06f003625d14cfdaf55c14358c4c0b8e7e2b89ac9.7a727bd85e40715bec919a39cdd6f0aba27a8cd488f2d4e0f512448dcd02bf0f.lock\n",
            "[06:31:26] DEBUG Lock 139890035812816 released on /root/.cache/huggingface/transformers/cf37a9dc282a679f121734d06f003625d14cfdaf55c14358c4c0b8e7e2b89ac9.7a727bd85e40715bec919a39cdd6f0aba27a8cd488f2d4e0f512448dcd02bf0f.lock\n"
          ]
        },
        {
          "output_type": "execute_result",
          "data": {
            "text/plain": [
              "Tokenizer(vocabulary_size=119547, model=BertWordPiece, unk_token=[UNK], sep_token=[SEP], cls_token=[CLS], pad_token=[PAD], mask_token=[MASK], clean_text=True, handle_chinese_chars=True, strip_accents=None, lowercase=False, wordpieces_prefix=##)"
            ]
          },
          "metadata": {},
          "execution_count": 104
        }
      ]
    },
    {
      "cell_type": "code",
      "source": [
        "df"
      ],
      "metadata": {
        "colab": {
          "base_uri": "https://localhost:8080/",
          "height": 424
        },
        "id": "imN8QQ-gRi5V",
        "outputId": "41ae3bcf-bc7b-4d28-cb3d-f7fcf90e3383"
      },
      "execution_count": null,
      "outputs": [
        {
          "output_type": "execute_result",
          "data": {
            "text/plain": [
              "      Unnamed                                           sentence   class  \\\n",
              "0        2189  working with jupyter workspace and ibm cloud w...   other   \n",
              "1        1880  i had my degree in mathematics in   from a uni...   other   \n",
              "2        1371                                          seriously   other   \n",
              "3        2587                       hope it helps you get better   other   \n",
              "4        6853               i am basically a noob at programming   other   \n",
              "...       ...                                                ...     ...   \n",
              "9927     7032                              a very handson course  course   \n",
              "9928     3887  well structured course with clear and compelli...  course   \n",
              "9929     4025  taking this course opened a pandoras box of th...  course   \n",
              "9930     5424  it was quite easy to understand since i have s...  course   \n",
              "9931     5846                   also as easy notetaking features  course   \n",
              "\n",
              "      class_num  \n",
              "0             4  \n",
              "1             4  \n",
              "2             4  \n",
              "3             4  \n",
              "4             4  \n",
              "...         ...  \n",
              "9927          1  \n",
              "9928          1  \n",
              "9929          1  \n",
              "9930          1  \n",
              "9931          1  \n",
              "\n",
              "[9932 rows x 4 columns]"
            ],
            "text/html": [
              "\n",
              "  <div id=\"df-6f48c3c5-dc2d-4f29-8784-0c7da8157358\">\n",
              "    <div class=\"colab-df-container\">\n",
              "      <div>\n",
              "<style scoped>\n",
              "    .dataframe tbody tr th:only-of-type {\n",
              "        vertical-align: middle;\n",
              "    }\n",
              "\n",
              "    .dataframe tbody tr th {\n",
              "        vertical-align: top;\n",
              "    }\n",
              "\n",
              "    .dataframe thead th {\n",
              "        text-align: right;\n",
              "    }\n",
              "</style>\n",
              "<table border=\"1\" class=\"dataframe\">\n",
              "  <thead>\n",
              "    <tr style=\"text-align: right;\">\n",
              "      <th></th>\n",
              "      <th>Unnamed</th>\n",
              "      <th>sentence</th>\n",
              "      <th>class</th>\n",
              "      <th>class_num</th>\n",
              "    </tr>\n",
              "  </thead>\n",
              "  <tbody>\n",
              "    <tr>\n",
              "      <th>0</th>\n",
              "      <td>2189</td>\n",
              "      <td>working with jupyter workspace and ibm cloud w...</td>\n",
              "      <td>other</td>\n",
              "      <td>4</td>\n",
              "    </tr>\n",
              "    <tr>\n",
              "      <th>1</th>\n",
              "      <td>1880</td>\n",
              "      <td>i had my degree in mathematics in   from a uni...</td>\n",
              "      <td>other</td>\n",
              "      <td>4</td>\n",
              "    </tr>\n",
              "    <tr>\n",
              "      <th>2</th>\n",
              "      <td>1371</td>\n",
              "      <td>seriously</td>\n",
              "      <td>other</td>\n",
              "      <td>4</td>\n",
              "    </tr>\n",
              "    <tr>\n",
              "      <th>3</th>\n",
              "      <td>2587</td>\n",
              "      <td>hope it helps you get better</td>\n",
              "      <td>other</td>\n",
              "      <td>4</td>\n",
              "    </tr>\n",
              "    <tr>\n",
              "      <th>4</th>\n",
              "      <td>6853</td>\n",
              "      <td>i am basically a noob at programming</td>\n",
              "      <td>other</td>\n",
              "      <td>4</td>\n",
              "    </tr>\n",
              "    <tr>\n",
              "      <th>...</th>\n",
              "      <td>...</td>\n",
              "      <td>...</td>\n",
              "      <td>...</td>\n",
              "      <td>...</td>\n",
              "    </tr>\n",
              "    <tr>\n",
              "      <th>9927</th>\n",
              "      <td>7032</td>\n",
              "      <td>a very handson course</td>\n",
              "      <td>course</td>\n",
              "      <td>1</td>\n",
              "    </tr>\n",
              "    <tr>\n",
              "      <th>9928</th>\n",
              "      <td>3887</td>\n",
              "      <td>well structured course with clear and compelli...</td>\n",
              "      <td>course</td>\n",
              "      <td>1</td>\n",
              "    </tr>\n",
              "    <tr>\n",
              "      <th>9929</th>\n",
              "      <td>4025</td>\n",
              "      <td>taking this course opened a pandoras box of th...</td>\n",
              "      <td>course</td>\n",
              "      <td>1</td>\n",
              "    </tr>\n",
              "    <tr>\n",
              "      <th>9930</th>\n",
              "      <td>5424</td>\n",
              "      <td>it was quite easy to understand since i have s...</td>\n",
              "      <td>course</td>\n",
              "      <td>1</td>\n",
              "    </tr>\n",
              "    <tr>\n",
              "      <th>9931</th>\n",
              "      <td>5846</td>\n",
              "      <td>also as easy notetaking features</td>\n",
              "      <td>course</td>\n",
              "      <td>1</td>\n",
              "    </tr>\n",
              "  </tbody>\n",
              "</table>\n",
              "<p>9932 rows × 4 columns</p>\n",
              "</div>\n",
              "      <button class=\"colab-df-convert\" onclick=\"convertToInteractive('df-6f48c3c5-dc2d-4f29-8784-0c7da8157358')\"\n",
              "              title=\"Convert this dataframe to an interactive table.\"\n",
              "              style=\"display:none;\">\n",
              "        \n",
              "  <svg xmlns=\"http://www.w3.org/2000/svg\" height=\"24px\"viewBox=\"0 0 24 24\"\n",
              "       width=\"24px\">\n",
              "    <path d=\"M0 0h24v24H0V0z\" fill=\"none\"/>\n",
              "    <path d=\"M18.56 5.44l.94 2.06.94-2.06 2.06-.94-2.06-.94-.94-2.06-.94 2.06-2.06.94zm-11 1L8.5 8.5l.94-2.06 2.06-.94-2.06-.94L8.5 2.5l-.94 2.06-2.06.94zm10 10l.94 2.06.94-2.06 2.06-.94-2.06-.94-.94-2.06-.94 2.06-2.06.94z\"/><path d=\"M17.41 7.96l-1.37-1.37c-.4-.4-.92-.59-1.43-.59-.52 0-1.04.2-1.43.59L10.3 9.45l-7.72 7.72c-.78.78-.78 2.05 0 2.83L4 21.41c.39.39.9.59 1.41.59.51 0 1.02-.2 1.41-.59l7.78-7.78 2.81-2.81c.8-.78.8-2.07 0-2.86zM5.41 20L4 18.59l7.72-7.72 1.47 1.35L5.41 20z\"/>\n",
              "  </svg>\n",
              "      </button>\n",
              "      \n",
              "  <style>\n",
              "    .colab-df-container {\n",
              "      display:flex;\n",
              "      flex-wrap:wrap;\n",
              "      gap: 12px;\n",
              "    }\n",
              "\n",
              "    .colab-df-convert {\n",
              "      background-color: #E8F0FE;\n",
              "      border: none;\n",
              "      border-radius: 50%;\n",
              "      cursor: pointer;\n",
              "      display: none;\n",
              "      fill: #1967D2;\n",
              "      height: 32px;\n",
              "      padding: 0 0 0 0;\n",
              "      width: 32px;\n",
              "    }\n",
              "\n",
              "    .colab-df-convert:hover {\n",
              "      background-color: #E2EBFA;\n",
              "      box-shadow: 0px 1px 2px rgba(60, 64, 67, 0.3), 0px 1px 3px 1px rgba(60, 64, 67, 0.15);\n",
              "      fill: #174EA6;\n",
              "    }\n",
              "\n",
              "    [theme=dark] .colab-df-convert {\n",
              "      background-color: #3B4455;\n",
              "      fill: #D2E3FC;\n",
              "    }\n",
              "\n",
              "    [theme=dark] .colab-df-convert:hover {\n",
              "      background-color: #434B5C;\n",
              "      box-shadow: 0px 1px 3px 1px rgba(0, 0, 0, 0.15);\n",
              "      filter: drop-shadow(0px 1px 2px rgba(0, 0, 0, 0.3));\n",
              "      fill: #FFFFFF;\n",
              "    }\n",
              "  </style>\n",
              "\n",
              "      <script>\n",
              "        const buttonEl =\n",
              "          document.querySelector('#df-6f48c3c5-dc2d-4f29-8784-0c7da8157358 button.colab-df-convert');\n",
              "        buttonEl.style.display =\n",
              "          google.colab.kernel.accessAllowed ? 'block' : 'none';\n",
              "\n",
              "        async function convertToInteractive(key) {\n",
              "          const element = document.querySelector('#df-6f48c3c5-dc2d-4f29-8784-0c7da8157358');\n",
              "          const dataTable =\n",
              "            await google.colab.kernel.invokeFunction('convertToInteractive',\n",
              "                                                     [key], {});\n",
              "          if (!dataTable) return;\n",
              "\n",
              "          const docLinkHtml = 'Like what you see? Visit the ' +\n",
              "            '<a target=\"_blank\" href=https://colab.research.google.com/notebooks/data_table.ipynb>data table notebook</a>'\n",
              "            + ' to learn more about interactive tables.';\n",
              "          element.innerHTML = '';\n",
              "          dataTable['output_type'] = 'display_data';\n",
              "          await google.colab.output.renderOutput(dataTable, element);\n",
              "          const docLink = document.createElement('div');\n",
              "          docLink.innerHTML = docLinkHtml;\n",
              "          element.appendChild(docLink);\n",
              "        }\n",
              "      </script>\n",
              "    </div>\n",
              "  </div>\n",
              "  "
            ]
          },
          "metadata": {},
          "execution_count": 109
        }
      ]
    },
    {
      "cell_type": "code",
      "source": [
        "x_train = fast_encode(train1.comment_text.astype(str), fast_tokenizer, maxlen=MAX_LEN)\n",
        "x_valid = fast_encode(valid.comment_text.astype(str), fast_tokenizer, maxlen=MAX_LEN)\n",
        "x_test = fast_encode(test.content.astype(str), fast_tokenizer, maxlen=MAX_LEN)\n",
        "\n",
        "y_train = train1.toxic.values\n",
        "y_valid = valid.toxic.values"
      ],
      "metadata": {
        "id": "o0q16P4RQJw0"
      },
      "execution_count": null,
      "outputs": []
    },
    {
      "cell_type": "code",
      "source": [
        ""
      ],
      "metadata": {
        "id": "RAupJBL2Q-9o"
      },
      "execution_count": null,
      "outputs": []
    },
    {
      "cell_type": "code",
      "source": [
        ""
      ],
      "metadata": {
        "id": "d1uwV61GQ-78"
      },
      "execution_count": null,
      "outputs": []
    },
    {
      "cell_type": "code",
      "source": [
        ""
      ],
      "metadata": {
        "id": "G5nPjc6QQJtf"
      },
      "execution_count": null,
      "outputs": []
    },
    {
      "cell_type": "code",
      "source": [
        ""
      ],
      "metadata": {
        "id": "D0THEgh8O6FQ"
      },
      "execution_count": null,
      "outputs": []
    },
    {
      "cell_type": "markdown",
      "source": [
        "Ensembling"
      ],
      "metadata": {
        "id": "et7cAVe4vvxs"
      }
    },
    {
      "cell_type": "code",
      "source": [
        "# this is the main ensembling class. how to use it is in the next cell!\n",
        "import numpy as np\n",
        "from sklearn.metrics import roc_auc_score\n",
        "from sklearn.preprocessing import LabelEncoder\n",
        "from sklearn.model_selection import StratifiedKFold, KFold\n",
        "import pandas as pd\n",
        "import os\n",
        "import sys\n",
        "import logging\n",
        "\n",
        "logging.basicConfig(\n",
        "    level=logging.DEBUG,\n",
        "    format=\"[%(asctime)s] %(levelname)s %(message)s\",\n",
        "    datefmt=\"%H:%M:%S\", stream=sys.stdout)\n",
        "logger = logging.getLogger(__name__)\n",
        "\n",
        "\n",
        "class Ensembler(object):\n",
        "    def __init__(self, model_dict, num_folds=3, task_type='classification', optimize=roc_auc_score,\n",
        "                 lower_is_better=False, save_path=None):\n",
        "        \"\"\"\n",
        "        Ensembler init function\n",
        "        :param model_dict: model dictionary, see README for its format\n",
        "        :param num_folds: the number of folds for ensembling\n",
        "        :param task_type: classification or regression\n",
        "        :param optimize: the function to optimize for, e.g. AUC, logloss, etc. Must have two arguments y_test and y_pred\n",
        "        :param lower_is_better: is lower value of optimization function better or higher\n",
        "        :param save_path: path to which model pickles will be dumped to along with generated predictions, or None\n",
        "        \"\"\"\n",
        "\n",
        "        self.model_dict = model_dict\n",
        "        self.levels = len(self.model_dict)\n",
        "        self.num_folds = num_folds\n",
        "        self.task_type = task_type\n",
        "        self.optimize = optimize\n",
        "        self.lower_is_better = lower_is_better\n",
        "        self.save_path = save_path\n",
        "\n",
        "        self.training_data = None\n",
        "        self.test_data = None\n",
        "        self.y = None\n",
        "        self.lbl_enc = None\n",
        "        self.y_enc = None\n",
        "        self.train_prediction_dict = None\n",
        "        self.test_prediction_dict = None\n",
        "        self.num_classes = None\n",
        "\n",
        "    def fit(self, training_data, y, lentrain):\n",
        "        \"\"\"\n",
        "        :param training_data: training data in tabular format\n",
        "        :param y: binary, multi-class or regression\n",
        "        :return: chain of models to be used in prediction\n",
        "        \"\"\"\n",
        "\n",
        "        self.training_data = training_data\n",
        "        self.y = y\n",
        "\n",
        "        if self.task_type == 'classification':\n",
        "            self.num_classes = len(np.unique(self.y))\n",
        "            logger.info(\"Found %d classes\", self.num_classes)\n",
        "            self.lbl_enc = LabelEncoder()\n",
        "            self.y_enc = self.lbl_enc.fit_transform(self.y)\n",
        "            kf = StratifiedKFold(n_splits=self.num_folds)\n",
        "            train_prediction_shape = (lentrain, self.num_classes)\n",
        "        else:\n",
        "            self.num_classes = -1\n",
        "            self.y_enc = self.y\n",
        "            kf = KFold(n_splits=self.num_folds)\n",
        "            train_prediction_shape = (lentrain, 1)\n",
        "\n",
        "        self.train_prediction_dict = {}\n",
        "        for level in range(self.levels):\n",
        "            self.train_prediction_dict[level] = np.zeros((train_prediction_shape[0],\n",
        "                                                          train_prediction_shape[1] * len(self.model_dict[level])))\n",
        "\n",
        "        for level in range(self.levels):\n",
        "\n",
        "            if level == 0:\n",
        "                temp_train = self.training_data\n",
        "            else:\n",
        "                temp_train = self.train_prediction_dict[level - 1]\n",
        "\n",
        "            for model_num, model in enumerate(self.model_dict[level]):\n",
        "                validation_scores = []\n",
        "                foldnum = 1\n",
        "                for train_index, valid_index in kf.split(self.train_prediction_dict[0], self.y_enc):\n",
        "                    logger.info(\"Training Level %d Fold # %d. Model # %d\", level, foldnum, model_num)\n",
        "\n",
        "                    if level != 0:\n",
        "                        l_training_data = temp_train[train_index]\n",
        "                        l_validation_data = temp_train[valid_index]\n",
        "                        model.fit(l_training_data, self.y_enc[train_index])\n",
        "                    else:\n",
        "                        l0_training_data = temp_train[0][model_num]\n",
        "                        if type(l0_training_data) == list:\n",
        "                            l_training_data = [x[train_index] for x in l0_training_data]\n",
        "                            l_validation_data = [x[valid_index] for x in l0_training_data]\n",
        "                        else:\n",
        "                            l_training_data = l0_training_data[train_index]\n",
        "                            l_validation_data = l0_training_data[valid_index]\n",
        "                        model.fit(l_training_data, self.y_enc[train_index])\n",
        "\n",
        "                    logger.info(\"Predicting Level %d. Fold # %d. Model # %d\", level, foldnum, model_num)\n",
        "\n",
        "                    if self.task_type == 'classification':\n",
        "                        temp_train_predictions = model.predict_proba(l_validation_data)\n",
        "                        self.train_prediction_dict[level][valid_index,\n",
        "                        (model_num * self.num_classes):(model_num * self.num_classes) +\n",
        "                                                       self.num_classes] = temp_train_predictions\n",
        "\n",
        "                    else:\n",
        "                        temp_train_predictions = model.predict(l_validation_data)\n",
        "                        self.train_prediction_dict[level][valid_index, model_num] = temp_train_predictions\n",
        "                    validation_score = self.optimize(self.y_enc[valid_index], temp_train_predictions)\n",
        "                    validation_scores.append(validation_score)\n",
        "                    logger.info(\"Level %d. Fold # %d. Model # %d. Validation Score = %f\", level, foldnum, model_num,\n",
        "                                validation_score)\n",
        "                    foldnum += 1\n",
        "                avg_score = np.mean(validation_scores)\n",
        "                std_score = np.std(validation_scores)\n",
        "                logger.info(\"Level %d. Model # %d. Mean Score = %f. Std Dev = %f\", level, model_num,\n",
        "                            avg_score, std_score)\n",
        "\n",
        "            logger.info(\"Saving predictions for level # %d\", level)\n",
        "            train_predictions_df = pd.DataFrame(self.train_prediction_dict[level])\n",
        "            train_predictions_df.to_csv(os.path.join(self.save_path, \"train_predictions_level_\" + str(level) + \".csv\"),\n",
        "                                        index=False, header=None)\n",
        "\n",
        "        return self.train_prediction_dict\n",
        "\n",
        "    def predict(self, test_data, lentest):\n",
        "        self.test_data = test_data\n",
        "        if self.task_type == 'classification':\n",
        "            test_prediction_shape = (lentest, self.num_classes)\n",
        "        else:\n",
        "            test_prediction_shape = (lentest, 1)\n",
        "\n",
        "        self.test_prediction_dict = {}\n",
        "        for level in range(self.levels):\n",
        "            self.test_prediction_dict[level] = np.zeros((test_prediction_shape[0],\n",
        "                                                         test_prediction_shape[1] * len(self.model_dict[level])))\n",
        "        self.test_data = test_data\n",
        "        for level in range(self.levels):\n",
        "            if level == 0:\n",
        "                temp_train = self.training_data\n",
        "                temp_test = self.test_data\n",
        "            else:\n",
        "                temp_train = self.train_prediction_dict[level - 1]\n",
        "                temp_test = self.test_prediction_dict[level - 1]\n",
        "\n",
        "            for model_num, model in enumerate(self.model_dict[level]):\n",
        "\n",
        "                logger.info(\"Training Fulldata Level %d. Model # %d\", level, model_num)\n",
        "                if level == 0:\n",
        "                    model.fit(temp_train[0][model_num], self.y_enc)\n",
        "                else:\n",
        "                    model.fit(temp_train, self.y_enc)\n",
        "\n",
        "                logger.info(\"Predicting Test Level %d. Model # %d\", level, model_num)\n",
        "\n",
        "                if self.task_type == 'classification':\n",
        "                    if level == 0:\n",
        "                        temp_test_predictions = model.predict_proba(temp_test[0][model_num])\n",
        "                    else:\n",
        "                        temp_test_predictions = model.predict_proba(temp_test)\n",
        "                    self.test_prediction_dict[level][:, (model_num * self.num_classes): (model_num * self.num_classes) +\n",
        "                                                                                        self.num_classes] = temp_test_predictions\n",
        "\n",
        "                else:\n",
        "                    if level == 0:\n",
        "                        temp_test_predictions = model.predict(temp_test[0][model_num])\n",
        "                    else:\n",
        "                        temp_test_predictions = model.predict(temp_test)\n",
        "                    self.test_prediction_dict[level][:, model_num] = temp_test_predictions\n",
        "\n",
        "            test_predictions_df = pd.DataFrame(self.test_prediction_dict[level])\n",
        "            test_predictions_df.to_csv(os.path.join(self.save_path, \"test_predictions_level_\" + str(level) + \".csv\"),\n",
        "                                       index=False, header=None)\n",
        "\n",
        "        return self.test_prediction_dict"
      ],
      "metadata": {
        "id": "SMIWxx_BvwH2"
      },
      "execution_count": null,
      "outputs": []
    },
    {
      "cell_type": "code",
      "source": [
        "# specify the data to be used for every level of ensembling:\n",
        "train_data_dict = {0: [xtrain_tfv, xtrain_ctv, xtrain_tfv, xtrain_ctv], 1: [xtrain_glove]}\n",
        "test_data_dict = {0: [xvalid_tfv, xvalid_ctv, xvalid_tfv, xvalid_ctv], 1: [xvalid_glove]}\n",
        "\n",
        "model_dict = {0: [LogisticRegression(), LogisticRegression(), MultinomialNB(alpha=0.1), MultinomialNB()],\n",
        "\n",
        "              1: [xgb.XGBClassifier(silent=True, n_estimators=120, max_depth=7)]}\n",
        "\n",
        "ens = Ensembler(model_dict=model_dict, num_folds=3, task_type='classification',\n",
        "                optimize=multiclass_logloss, lower_is_better=True, save_path='')\n",
        "\n",
        "ens.fit(train_data_dict, ytrain, lentrain=xtrain_glove.shape[0])\n",
        "preds = ens.predict(test_data_dict, lentest=xvalid_glove.shape[0])"
      ],
      "metadata": {
        "colab": {
          "base_uri": "https://localhost:8080/"
        },
        "id": "eqKLg9vqv5Id",
        "outputId": "a2ecc23e-1cae-4d02-ab1b-9d2b2f92a24d"
      },
      "execution_count": null,
      "outputs": [
        {
          "output_type": "stream",
          "name": "stdout",
          "text": [
            "[04:35:57] INFO Found 4 classes\n",
            "[04:35:57] INFO Training Level 0 Fold # 1. Model # 0\n",
            "[04:35:59] INFO Predicting Level 0. Fold # 1. Model # 0\n",
            "[04:35:59] INFO Level 0. Fold # 1. Model # 0. Validation Score = 0.240781\n",
            "[04:35:59] INFO Training Level 0 Fold # 2. Model # 0\n",
            "[04:36:00] INFO Predicting Level 0. Fold # 2. Model # 0\n",
            "[04:36:00] INFO Level 0. Fold # 2. Model # 0. Validation Score = 0.256096\n",
            "[04:36:00] INFO Training Level 0 Fold # 3. Model # 0\n",
            "[04:36:01] INFO Predicting Level 0. Fold # 3. Model # 0\n",
            "[04:36:01] INFO Level 0. Fold # 3. Model # 0. Validation Score = 0.242527\n",
            "[04:36:01] INFO Level 0. Model # 0. Mean Score = 0.246468. Std Dev = 0.006845\n",
            "[04:36:01] INFO Training Level 0 Fold # 1. Model # 1\n",
            "[04:36:03] INFO Predicting Level 0. Fold # 1. Model # 1\n",
            "[04:36:03] INFO Level 0. Fold # 1. Model # 1. Validation Score = 0.085477\n",
            "[04:36:03] INFO Training Level 0 Fold # 2. Model # 1\n",
            "[04:36:05] INFO Predicting Level 0. Fold # 2. Model # 1\n",
            "[04:36:05] INFO Level 0. Fold # 2. Model # 1. Validation Score = 0.106385\n",
            "[04:36:05] INFO Training Level 0 Fold # 3. Model # 1\n",
            "[04:36:07] INFO Predicting Level 0. Fold # 3. Model # 1\n",
            "[04:36:07] INFO Level 0. Fold # 3. Model # 1. Validation Score = 0.088208\n",
            "[04:36:07] INFO Level 0. Model # 1. Mean Score = 0.093356. Std Dev = 0.009280\n",
            "[04:36:07] INFO Training Level 0 Fold # 1. Model # 2\n",
            "[04:36:07] INFO Predicting Level 0. Fold # 1. Model # 2\n",
            "[04:36:07] INFO Level 0. Fold # 1. Model # 2. Validation Score = 0.067468\n",
            "[04:36:07] INFO Training Level 0 Fold # 2. Model # 2\n",
            "[04:36:07] INFO Predicting Level 0. Fold # 2. Model # 2\n",
            "[04:36:07] INFO Level 0. Fold # 2. Model # 2. Validation Score = 0.073064\n",
            "[04:36:07] INFO Training Level 0 Fold # 3. Model # 2\n",
            "[04:36:07] INFO Predicting Level 0. Fold # 3. Model # 2\n",
            "[04:36:07] INFO Level 0. Fold # 3. Model # 2. Validation Score = 0.069239\n",
            "[04:36:07] INFO Level 0. Model # 2. Mean Score = 0.069924. Std Dev = 0.002335\n",
            "[04:36:07] INFO Training Level 0 Fold # 1. Model # 3\n",
            "[04:36:07] INFO Predicting Level 0. Fold # 1. Model # 3\n",
            "[04:36:07] INFO Level 0. Fold # 1. Model # 3. Validation Score = 0.235064\n",
            "[04:36:07] INFO Training Level 0 Fold # 2. Model # 3\n",
            "[04:36:07] INFO Predicting Level 0. Fold # 2. Model # 3\n",
            "[04:36:07] INFO Level 0. Fold # 2. Model # 3. Validation Score = 0.232252\n",
            "[04:36:07] INFO Training Level 0 Fold # 3. Model # 3\n",
            "[04:36:07] INFO Predicting Level 0. Fold # 3. Model # 3\n",
            "[04:36:07] INFO Level 0. Fold # 3. Model # 3. Validation Score = 0.216106\n",
            "[04:36:07] INFO Level 0. Model # 3. Mean Score = 0.227807. Std Dev = 0.008354\n",
            "[04:36:07] INFO Saving predictions for level # 0\n",
            "[04:36:07] INFO Training Level 1 Fold # 1. Model # 0\n",
            "[04:36:09] INFO Predicting Level 1. Fold # 1. Model # 0\n",
            "[04:36:09] INFO Level 1. Fold # 1. Model # 0. Validation Score = 0.030033\n",
            "[04:36:09] INFO Training Level 1 Fold # 2. Model # 0\n",
            "[04:36:11] INFO Predicting Level 1. Fold # 2. Model # 0\n",
            "[04:36:11] INFO Level 1. Fold # 2. Model # 0. Validation Score = 0.019589\n",
            "[04:36:11] INFO Training Level 1 Fold # 3. Model # 0\n",
            "[04:36:13] INFO Predicting Level 1. Fold # 3. Model # 0\n",
            "[04:36:13] INFO Level 1. Fold # 3. Model # 0. Validation Score = 0.012747\n",
            "[04:36:13] INFO Level 1. Model # 0. Mean Score = 0.020790. Std Dev = 0.007108\n",
            "[04:36:13] INFO Saving predictions for level # 1\n",
            "[04:36:13] INFO Training Fulldata Level 0. Model # 0\n",
            "[04:36:14] INFO Predicting Test Level 0. Model # 0\n",
            "[04:36:14] INFO Training Fulldata Level 0. Model # 1\n",
            "[04:36:17] INFO Predicting Test Level 0. Model # 1\n",
            "[04:36:17] INFO Training Fulldata Level 0. Model # 2\n",
            "[04:36:17] INFO Predicting Test Level 0. Model # 2\n",
            "[04:36:17] INFO Training Fulldata Level 0. Model # 3\n",
            "[04:36:17] INFO Predicting Test Level 0. Model # 3\n",
            "[04:36:17] INFO Training Fulldata Level 1. Model # 0\n",
            "[04:36:19] INFO Predicting Test Level 1. Model # 0\n"
          ]
        }
      ]
    },
    {
      "cell_type": "code",
      "source": [
        "# check error:\n",
        "multiclass_logloss(yvalid, preds[1])"
      ],
      "metadata": {
        "colab": {
          "base_uri": "https://localhost:8080/"
        },
        "id": "CZbNJDFEwlzM",
        "outputId": "2498dbd5-cbf2-4df2-e953-413751e54ccb"
      },
      "execution_count": null,
      "outputs": [
        {
          "output_type": "execute_result",
          "data": {
            "text/plain": [
              "0.0010963031464944792"
            ]
          },
          "metadata": {},
          "execution_count": 63
        }
      ]
    },
    {
      "cell_type": "code",
      "source": [
        ""
      ],
      "metadata": {
        "id": "CZZ1jLFNqugL"
      },
      "execution_count": null,
      "outputs": []
    }
  ]
}